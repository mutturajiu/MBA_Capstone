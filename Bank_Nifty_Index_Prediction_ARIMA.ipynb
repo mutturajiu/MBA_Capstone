{
  "nbformat": 4,
  "nbformat_minor": 0,
  "metadata": {
    "colab": {
      "name": "Banknifty_Index_ARIMA1.ipynb",
      "provenance": [],
      "collapsed_sections": []
    },
    "kernelspec": {
      "name": "python3",
      "display_name": "Python 3"
    },
    "language_info": {
      "name": "python"
    }
  },
  "cells": [
    {
      "cell_type": "code",
      "metadata": {
        "colab": {
          "base_uri": "https://localhost:8080/"
        },
        "id": "jtamg3-3u3pT",
        "outputId": "6d03b5a0-69fc-4c53-cfd9-473f07453905"
      },
      "source": [
        "pip install pmdarima"
      ],
      "execution_count": null,
      "outputs": [
        {
          "output_type": "stream",
          "text": [
            "Collecting pmdarima\n",
            "  Downloading pmdarima-1.8.2-cp37-cp37m-manylinux1_x86_64.whl (1.5 MB)\n",
            "\u001b[?25l\r\u001b[K     |▎                               | 10 kB 23.8 MB/s eta 0:00:01\r\u001b[K     |▌                               | 20 kB 27.3 MB/s eta 0:00:01\r\u001b[K     |▊                               | 30 kB 28.2 MB/s eta 0:00:01\r\u001b[K     |█                               | 40 kB 29.0 MB/s eta 0:00:01\r\u001b[K     |█▏                              | 51 kB 20.4 MB/s eta 0:00:01\r\u001b[K     |█▍                              | 61 kB 12.9 MB/s eta 0:00:01\r\u001b[K     |█▋                              | 71 kB 12.6 MB/s eta 0:00:01\r\u001b[K     |█▉                              | 81 kB 13.8 MB/s eta 0:00:01\r\u001b[K     |██                              | 92 kB 14.8 MB/s eta 0:00:01\r\u001b[K     |██▎                             | 102 kB 15.2 MB/s eta 0:00:01\r\u001b[K     |██▌                             | 112 kB 15.2 MB/s eta 0:00:01\r\u001b[K     |██▊                             | 122 kB 15.2 MB/s eta 0:00:01\r\u001b[K     |███                             | 133 kB 15.2 MB/s eta 0:00:01\r\u001b[K     |███▏                            | 143 kB 15.2 MB/s eta 0:00:01\r\u001b[K     |███▍                            | 153 kB 15.2 MB/s eta 0:00:01\r\u001b[K     |███▋                            | 163 kB 15.2 MB/s eta 0:00:01\r\u001b[K     |███▉                            | 174 kB 15.2 MB/s eta 0:00:01\r\u001b[K     |████                            | 184 kB 15.2 MB/s eta 0:00:01\r\u001b[K     |████▎                           | 194 kB 15.2 MB/s eta 0:00:01\r\u001b[K     |████▌                           | 204 kB 15.2 MB/s eta 0:00:01\r\u001b[K     |████▊                           | 215 kB 15.2 MB/s eta 0:00:01\r\u001b[K     |█████                           | 225 kB 15.2 MB/s eta 0:00:01\r\u001b[K     |█████▏                          | 235 kB 15.2 MB/s eta 0:00:01\r\u001b[K     |█████▍                          | 245 kB 15.2 MB/s eta 0:00:01\r\u001b[K     |█████▋                          | 256 kB 15.2 MB/s eta 0:00:01\r\u001b[K     |█████▉                          | 266 kB 15.2 MB/s eta 0:00:01\r\u001b[K     |██████                          | 276 kB 15.2 MB/s eta 0:00:01\r\u001b[K     |██████▎                         | 286 kB 15.2 MB/s eta 0:00:01\r\u001b[K     |██████▌                         | 296 kB 15.2 MB/s eta 0:00:01\r\u001b[K     |██████▊                         | 307 kB 15.2 MB/s eta 0:00:01\r\u001b[K     |███████                         | 317 kB 15.2 MB/s eta 0:00:01\r\u001b[K     |███████▏                        | 327 kB 15.2 MB/s eta 0:00:01\r\u001b[K     |███████▍                        | 337 kB 15.2 MB/s eta 0:00:01\r\u001b[K     |███████▋                        | 348 kB 15.2 MB/s eta 0:00:01\r\u001b[K     |███████▉                        | 358 kB 15.2 MB/s eta 0:00:01\r\u001b[K     |████████                        | 368 kB 15.2 MB/s eta 0:00:01\r\u001b[K     |████████▎                       | 378 kB 15.2 MB/s eta 0:00:01\r\u001b[K     |████████▌                       | 389 kB 15.2 MB/s eta 0:00:01\r\u001b[K     |████████▊                       | 399 kB 15.2 MB/s eta 0:00:01\r\u001b[K     |█████████                       | 409 kB 15.2 MB/s eta 0:00:01\r\u001b[K     |█████████▎                      | 419 kB 15.2 MB/s eta 0:00:01\r\u001b[K     |█████████▌                      | 430 kB 15.2 MB/s eta 0:00:01\r\u001b[K     |█████████▊                      | 440 kB 15.2 MB/s eta 0:00:01\r\u001b[K     |██████████                      | 450 kB 15.2 MB/s eta 0:00:01\r\u001b[K     |██████████▏                     | 460 kB 15.2 MB/s eta 0:00:01\r\u001b[K     |██████████▍                     | 471 kB 15.2 MB/s eta 0:00:01\r\u001b[K     |██████████▋                     | 481 kB 15.2 MB/s eta 0:00:01\r\u001b[K     |██████████▉                     | 491 kB 15.2 MB/s eta 0:00:01\r\u001b[K     |███████████                     | 501 kB 15.2 MB/s eta 0:00:01\r\u001b[K     |███████████▎                    | 512 kB 15.2 MB/s eta 0:00:01\r\u001b[K     |███████████▌                    | 522 kB 15.2 MB/s eta 0:00:01\r\u001b[K     |███████████▊                    | 532 kB 15.2 MB/s eta 0:00:01\r\u001b[K     |████████████                    | 542 kB 15.2 MB/s eta 0:00:01\r\u001b[K     |████████████▏                   | 552 kB 15.2 MB/s eta 0:00:01\r\u001b[K     |████████████▍                   | 563 kB 15.2 MB/s eta 0:00:01\r\u001b[K     |████████████▋                   | 573 kB 15.2 MB/s eta 0:00:01\r\u001b[K     |████████████▉                   | 583 kB 15.2 MB/s eta 0:00:01\r\u001b[K     |█████████████                   | 593 kB 15.2 MB/s eta 0:00:01\r\u001b[K     |█████████████▎                  | 604 kB 15.2 MB/s eta 0:00:01\r\u001b[K     |█████████████▌                  | 614 kB 15.2 MB/s eta 0:00:01\r\u001b[K     |█████████████▊                  | 624 kB 15.2 MB/s eta 0:00:01\r\u001b[K     |██████████████                  | 634 kB 15.2 MB/s eta 0:00:01\r\u001b[K     |██████████████▏                 | 645 kB 15.2 MB/s eta 0:00:01\r\u001b[K     |██████████████▍                 | 655 kB 15.2 MB/s eta 0:00:01\r\u001b[K     |██████████████▋                 | 665 kB 15.2 MB/s eta 0:00:01\r\u001b[K     |██████████████▉                 | 675 kB 15.2 MB/s eta 0:00:01\r\u001b[K     |███████████████                 | 686 kB 15.2 MB/s eta 0:00:01\r\u001b[K     |███████████████▎                | 696 kB 15.2 MB/s eta 0:00:01\r\u001b[K     |███████████████▌                | 706 kB 15.2 MB/s eta 0:00:01\r\u001b[K     |███████████████▊                | 716 kB 15.2 MB/s eta 0:00:01\r\u001b[K     |████████████████                | 727 kB 15.2 MB/s eta 0:00:01\r\u001b[K     |████████████████▏               | 737 kB 15.2 MB/s eta 0:00:01\r\u001b[K     |████████████████▍               | 747 kB 15.2 MB/s eta 0:00:01\r\u001b[K     |████████████████▋               | 757 kB 15.2 MB/s eta 0:00:01\r\u001b[K     |████████████████▉               | 768 kB 15.2 MB/s eta 0:00:01\r\u001b[K     |█████████████████               | 778 kB 15.2 MB/s eta 0:00:01\r\u001b[K     |█████████████████▎              | 788 kB 15.2 MB/s eta 0:00:01\r\u001b[K     |█████████████████▌              | 798 kB 15.2 MB/s eta 0:00:01\r\u001b[K     |█████████████████▊              | 808 kB 15.2 MB/s eta 0:00:01\r\u001b[K     |██████████████████              | 819 kB 15.2 MB/s eta 0:00:01\r\u001b[K     |██████████████████▎             | 829 kB 15.2 MB/s eta 0:00:01\r\u001b[K     |██████████████████▌             | 839 kB 15.2 MB/s eta 0:00:01\r\u001b[K     |██████████████████▊             | 849 kB 15.2 MB/s eta 0:00:01\r\u001b[K     |███████████████████             | 860 kB 15.2 MB/s eta 0:00:01\r\u001b[K     |███████████████████▏            | 870 kB 15.2 MB/s eta 0:00:01\r\u001b[K     |███████████████████▍            | 880 kB 15.2 MB/s eta 0:00:01\r\u001b[K     |███████████████████▋            | 890 kB 15.2 MB/s eta 0:00:01\r\u001b[K     |███████████████████▉            | 901 kB 15.2 MB/s eta 0:00:01\r\u001b[K     |████████████████████            | 911 kB 15.2 MB/s eta 0:00:01\r\u001b[K     |████████████████████▎           | 921 kB 15.2 MB/s eta 0:00:01\r\u001b[K     |████████████████████▌           | 931 kB 15.2 MB/s eta 0:00:01\r\u001b[K     |████████████████████▊           | 942 kB 15.2 MB/s eta 0:00:01\r\u001b[K     |█████████████████████           | 952 kB 15.2 MB/s eta 0:00:01\r\u001b[K     |█████████████████████▏          | 962 kB 15.2 MB/s eta 0:00:01\r\u001b[K     |█████████████████████▍          | 972 kB 15.2 MB/s eta 0:00:01\r\u001b[K     |█████████████████████▋          | 983 kB 15.2 MB/s eta 0:00:01\r\u001b[K     |█████████████████████▉          | 993 kB 15.2 MB/s eta 0:00:01\r\u001b[K     |██████████████████████          | 1.0 MB 15.2 MB/s eta 0:00:01\r\u001b[K     |██████████████████████▎         | 1.0 MB 15.2 MB/s eta 0:00:01\r\u001b[K     |██████████████████████▌         | 1.0 MB 15.2 MB/s eta 0:00:01\r\u001b[K     |██████████████████████▊         | 1.0 MB 15.2 MB/s eta 0:00:01\r\u001b[K     |███████████████████████         | 1.0 MB 15.2 MB/s eta 0:00:01\r\u001b[K     |███████████████████████▏        | 1.1 MB 15.2 MB/s eta 0:00:01\r\u001b[K     |███████████████████████▍        | 1.1 MB 15.2 MB/s eta 0:00:01\r\u001b[K     |███████████████████████▋        | 1.1 MB 15.2 MB/s eta 0:00:01\r\u001b[K     |███████████████████████▉        | 1.1 MB 15.2 MB/s eta 0:00:01\r\u001b[K     |████████████████████████        | 1.1 MB 15.2 MB/s eta 0:00:01\r\u001b[K     |████████████████████████▎       | 1.1 MB 15.2 MB/s eta 0:00:01\r\u001b[K     |████████████████████████▌       | 1.1 MB 15.2 MB/s eta 0:00:01\r\u001b[K     |████████████████████████▊       | 1.1 MB 15.2 MB/s eta 0:00:01\r\u001b[K     |█████████████████████████       | 1.1 MB 15.2 MB/s eta 0:00:01\r\u001b[K     |█████████████████████████▏      | 1.1 MB 15.2 MB/s eta 0:00:01\r\u001b[K     |█████████████████████████▍      | 1.2 MB 15.2 MB/s eta 0:00:01\r\u001b[K     |█████████████████████████▋      | 1.2 MB 15.2 MB/s eta 0:00:01\r\u001b[K     |█████████████████████████▉      | 1.2 MB 15.2 MB/s eta 0:00:01\r\u001b[K     |██████████████████████████      | 1.2 MB 15.2 MB/s eta 0:00:01\r\u001b[K     |██████████████████████████▎     | 1.2 MB 15.2 MB/s eta 0:00:01\r\u001b[K     |██████████████████████████▌     | 1.2 MB 15.2 MB/s eta 0:00:01\r\u001b[K     |██████████████████████████▊     | 1.2 MB 15.2 MB/s eta 0:00:01\r\u001b[K     |███████████████████████████     | 1.2 MB 15.2 MB/s eta 0:00:01\r\u001b[K     |███████████████████████████▎    | 1.2 MB 15.2 MB/s eta 0:00:01\r\u001b[K     |███████████████████████████▌    | 1.2 MB 15.2 MB/s eta 0:00:01\r\u001b[K     |███████████████████████████▊    | 1.3 MB 15.2 MB/s eta 0:00:01\r\u001b[K     |████████████████████████████    | 1.3 MB 15.2 MB/s eta 0:00:01\r\u001b[K     |████████████████████████████▏   | 1.3 MB 15.2 MB/s eta 0:00:01\r\u001b[K     |████████████████████████████▍   | 1.3 MB 15.2 MB/s eta 0:00:01\r\u001b[K     |████████████████████████████▋   | 1.3 MB 15.2 MB/s eta 0:00:01\r\u001b[K     |████████████████████████████▉   | 1.3 MB 15.2 MB/s eta 0:00:01\r\u001b[K     |█████████████████████████████   | 1.3 MB 15.2 MB/s eta 0:00:01\r\u001b[K     |█████████████████████████████▎  | 1.3 MB 15.2 MB/s eta 0:00:01\r\u001b[K     |█████████████████████████████▌  | 1.3 MB 15.2 MB/s eta 0:00:01\r\u001b[K     |█████████████████████████████▊  | 1.4 MB 15.2 MB/s eta 0:00:01\r\u001b[K     |██████████████████████████████  | 1.4 MB 15.2 MB/s eta 0:00:01\r\u001b[K     |██████████████████████████████▏ | 1.4 MB 15.2 MB/s eta 0:00:01\r\u001b[K     |██████████████████████████████▍ | 1.4 MB 15.2 MB/s eta 0:00:01\r\u001b[K     |██████████████████████████████▋ | 1.4 MB 15.2 MB/s eta 0:00:01\r\u001b[K     |██████████████████████████████▉ | 1.4 MB 15.2 MB/s eta 0:00:01\r\u001b[K     |███████████████████████████████ | 1.4 MB 15.2 MB/s eta 0:00:01\r\u001b[K     |███████████████████████████████▎| 1.4 MB 15.2 MB/s eta 0:00:01\r\u001b[K     |███████████████████████████████▌| 1.4 MB 15.2 MB/s eta 0:00:01\r\u001b[K     |███████████████████████████████▊| 1.4 MB 15.2 MB/s eta 0:00:01\r\u001b[K     |████████████████████████████████| 1.5 MB 15.2 MB/s eta 0:00:01\r\u001b[K     |████████████████████████████████| 1.5 MB 15.2 MB/s \n",
            "\u001b[?25hRequirement already satisfied: numpy~=1.19.0 in /usr/local/lib/python3.7/dist-packages (from pmdarima) (1.19.5)\n",
            "Requirement already satisfied: scipy>=1.3.2 in /usr/local/lib/python3.7/dist-packages (from pmdarima) (1.4.1)\n",
            "Requirement already satisfied: setuptools!=50.0.0,>=38.6.0 in /usr/local/lib/python3.7/dist-packages (from pmdarima) (57.2.0)\n",
            "Requirement already satisfied: Cython!=0.29.18,>=0.29 in /usr/local/lib/python3.7/dist-packages (from pmdarima) (0.29.23)\n",
            "Requirement already satisfied: joblib>=0.11 in /usr/local/lib/python3.7/dist-packages (from pmdarima) (1.0.1)\n",
            "Requirement already satisfied: urllib3 in /usr/local/lib/python3.7/dist-packages (from pmdarima) (1.24.3)\n",
            "Requirement already satisfied: scikit-learn>=0.22 in /usr/local/lib/python3.7/dist-packages (from pmdarima) (0.22.2.post1)\n",
            "Collecting statsmodels!=0.12.0,>=0.11\n",
            "  Downloading statsmodels-0.12.2-cp37-cp37m-manylinux1_x86_64.whl (9.5 MB)\n",
            "\u001b[K     |████████████████████████████████| 9.5 MB 43.4 MB/s \n",
            "\u001b[?25hRequirement already satisfied: pandas>=0.19 in /usr/local/lib/python3.7/dist-packages (from pmdarima) (1.1.5)\n",
            "Requirement already satisfied: python-dateutil>=2.7.3 in /usr/local/lib/python3.7/dist-packages (from pandas>=0.19->pmdarima) (2.8.1)\n",
            "Requirement already satisfied: pytz>=2017.2 in /usr/local/lib/python3.7/dist-packages (from pandas>=0.19->pmdarima) (2018.9)\n",
            "Requirement already satisfied: six>=1.5 in /usr/local/lib/python3.7/dist-packages (from python-dateutil>=2.7.3->pandas>=0.19->pmdarima) (1.15.0)\n",
            "Requirement already satisfied: patsy>=0.5 in /usr/local/lib/python3.7/dist-packages (from statsmodels!=0.12.0,>=0.11->pmdarima) (0.5.1)\n",
            "Installing collected packages: statsmodels, pmdarima\n",
            "  Attempting uninstall: statsmodels\n",
            "    Found existing installation: statsmodels 0.10.2\n",
            "    Uninstalling statsmodels-0.10.2:\n",
            "      Successfully uninstalled statsmodels-0.10.2\n",
            "Successfully installed pmdarima-1.8.2 statsmodels-0.12.2\n"
          ],
          "name": "stdout"
        }
      ]
    },
    {
      "cell_type": "code",
      "metadata": {
        "id": "dR4xdRTYvBnC"
      },
      "source": [
        "import pandas as pd\n",
        "import numpy as np"
      ],
      "execution_count": null,
      "outputs": []
    },
    {
      "cell_type": "code",
      "metadata": {
        "colab": {
          "base_uri": "https://localhost:8080/",
          "height": 462
        },
        "id": "S9o7MsK-vEHU",
        "outputId": "818937e9-aead-4d30-d22f-d3f463966be2"
      },
      "source": [
        "df=pd.read_csv('/content/Bankniftydata.csv',index_col='Date'   ,parse_dates=True)\n",
        "df=df.dropna()\n",
        "print('Shape of data',df.shape)\n",
        "df.head()\n",
        "df"
      ],
      "execution_count": null,
      "outputs": [
        {
          "output_type": "stream",
          "text": [
            "Shape of data (1366, 6)\n"
          ],
          "name": "stdout"
        },
        {
          "output_type": "execute_result",
          "data": {
            "text/html": [
              "<div>\n",
              "<style scoped>\n",
              "    .dataframe tbody tr th:only-of-type {\n",
              "        vertical-align: middle;\n",
              "    }\n",
              "\n",
              "    .dataframe tbody tr th {\n",
              "        vertical-align: top;\n",
              "    }\n",
              "\n",
              "    .dataframe thead th {\n",
              "        text-align: right;\n",
              "    }\n",
              "</style>\n",
              "<table border=\"1\" class=\"dataframe\">\n",
              "  <thead>\n",
              "    <tr style=\"text-align: right;\">\n",
              "      <th></th>\n",
              "      <th>Open</th>\n",
              "      <th>High</th>\n",
              "      <th>Low</th>\n",
              "      <th>Close</th>\n",
              "      <th>(High-Low)</th>\n",
              "      <th>(Open-Close)</th>\n",
              "    </tr>\n",
              "    <tr>\n",
              "      <th>Date</th>\n",
              "      <th></th>\n",
              "      <th></th>\n",
              "      <th></th>\n",
              "      <th></th>\n",
              "      <th></th>\n",
              "      <th></th>\n",
              "    </tr>\n",
              "  </thead>\n",
              "  <tbody>\n",
              "    <tr>\n",
              "      <th>2016-01-01</th>\n",
              "      <td>16932.50</td>\n",
              "      <td>17067.45</td>\n",
              "      <td>16824.05</td>\n",
              "      <td>17039.25</td>\n",
              "      <td>243.4</td>\n",
              "      <td>-106.75</td>\n",
              "    </tr>\n",
              "    <tr>\n",
              "      <th>2016-01-04</th>\n",
              "      <td>16966.35</td>\n",
              "      <td>16966.35</td>\n",
              "      <td>16575.45</td>\n",
              "      <td>16599.15</td>\n",
              "      <td>390.9</td>\n",
              "      <td>367.2</td>\n",
              "    </tr>\n",
              "    <tr>\n",
              "      <th>2016-01-05</th>\n",
              "      <td>16652.05</td>\n",
              "      <td>16670.20</td>\n",
              "      <td>16474.85</td>\n",
              "      <td>16542.50</td>\n",
              "      <td>195.35</td>\n",
              "      <td>109.55</td>\n",
              "    </tr>\n",
              "    <tr>\n",
              "      <th>2016-01-06</th>\n",
              "      <td>16505.45</td>\n",
              "      <td>16614.95</td>\n",
              "      <td>16377.65</td>\n",
              "      <td>16433.15</td>\n",
              "      <td>237.3</td>\n",
              "      <td>72.3</td>\n",
              "    </tr>\n",
              "    <tr>\n",
              "      <th>2016-01-07</th>\n",
              "      <td>16256.55</td>\n",
              "      <td>16256.55</td>\n",
              "      <td>16049.75</td>\n",
              "      <td>16073.85</td>\n",
              "      <td>206.8</td>\n",
              "      <td>182.7</td>\n",
              "    </tr>\n",
              "    <tr>\n",
              "      <th>...</th>\n",
              "      <td>...</td>\n",
              "      <td>...</td>\n",
              "      <td>...</td>\n",
              "      <td>...</td>\n",
              "      <td>...</td>\n",
              "      <td>...</td>\n",
              "    </tr>\n",
              "    <tr>\n",
              "      <th>2021-07-05</th>\n",
              "      <td>35010.95</td>\n",
              "      <td>35234.30</td>\n",
              "      <td>34926.40</td>\n",
              "      <td>35212.00</td>\n",
              "      <td>307.9</td>\n",
              "      <td>-201.05</td>\n",
              "    </tr>\n",
              "    <tr>\n",
              "      <th>2021-07-06</th>\n",
              "      <td>35173.60</td>\n",
              "      <td>35807.45</td>\n",
              "      <td>35165.55</td>\n",
              "      <td>35579.15</td>\n",
              "      <td>641.9</td>\n",
              "      <td>-405.55</td>\n",
              "    </tr>\n",
              "    <tr>\n",
              "      <th>2021-07-07</th>\n",
              "      <td>35550.60</td>\n",
              "      <td>35795.75</td>\n",
              "      <td>35427.65</td>\n",
              "      <td>35771.30</td>\n",
              "      <td>368.1</td>\n",
              "      <td>-220.7</td>\n",
              "    </tr>\n",
              "    <tr>\n",
              "      <th>2021-07-08</th>\n",
              "      <td>35603.25</td>\n",
              "      <td>35811.00</td>\n",
              "      <td>35134.65</td>\n",
              "      <td>35274.10</td>\n",
              "      <td>676.35</td>\n",
              "      <td>329.15</td>\n",
              "    </tr>\n",
              "    <tr>\n",
              "      <th>2021-07-09</th>\n",
              "      <td>35163.75</td>\n",
              "      <td>35225.20</td>\n",
              "      <td>34859.90</td>\n",
              "      <td>35071.95</td>\n",
              "      <td>365.3</td>\n",
              "      <td>91.8</td>\n",
              "    </tr>\n",
              "  </tbody>\n",
              "</table>\n",
              "<p>1366 rows × 6 columns</p>\n",
              "</div>"
            ],
            "text/plain": [
              "                Open      High       Low     Close (High-Low) (Open-Close)\n",
              "Date                                                                      \n",
              "2016-01-01  16932.50  17067.45  16824.05  17039.25      243.4      -106.75\n",
              "2016-01-04  16966.35  16966.35  16575.45  16599.15      390.9        367.2\n",
              "2016-01-05  16652.05  16670.20  16474.85  16542.50     195.35       109.55\n",
              "2016-01-06  16505.45  16614.95  16377.65  16433.15      237.3         72.3\n",
              "2016-01-07  16256.55  16256.55  16049.75  16073.85      206.8        182.7\n",
              "...              ...       ...       ...       ...        ...          ...\n",
              "2021-07-05  35010.95  35234.30  34926.40  35212.00      307.9      -201.05\n",
              "2021-07-06  35173.60  35807.45  35165.55  35579.15      641.9      -405.55\n",
              "2021-07-07  35550.60  35795.75  35427.65  35771.30      368.1       -220.7\n",
              "2021-07-08  35603.25  35811.00  35134.65  35274.10     676.35       329.15\n",
              "2021-07-09  35163.75  35225.20  34859.90  35071.95      365.3         91.8\n",
              "\n",
              "[1366 rows x 6 columns]"
            ]
          },
          "metadata": {
            "tags": []
          },
          "execution_count": 67
        }
      ]
    },
    {
      "cell_type": "code",
      "metadata": {
        "colab": {
          "base_uri": "https://localhost:8080/",
          "height": 334
        },
        "id": "GLwTb6zEvJGU",
        "outputId": "cc462489-0d7f-4e0c-afe1-417efb1f6da6"
      },
      "source": [
        "df['Close'].plot(figsize=(12,5))"
      ],
      "execution_count": null,
      "outputs": [
        {
          "output_type": "execute_result",
          "data": {
            "text/plain": [
              "<matplotlib.axes._subplots.AxesSubplot at 0x7fa6654051d0>"
            ]
          },
          "metadata": {
            "tags": []
          },
          "execution_count": 68
        },
        {
          "output_type": "display_data",
          "data": {
            "image/png": "[encoded data removed]",
            "text/plain": [
              "<Figure size 864x360 with 1 Axes>"
            ]
          },
          "metadata": {
            "tags": [],
            "needs_background": "light"
          }
        }
      ]
    },
    {
      "cell_type": "code",
      "metadata": {
        "id": "pmkrKc_YlNQP"
      },
      "source": [
        "#df['Date'] = pd.to_datetime(df['Date'])\n",
        "#df.set_axis(df['Date'], inplace=True)"
      ],
      "execution_count": null,
      "outputs": []
    },
    {
      "cell_type": "code",
      "metadata": {
        "id": "WUtfol_NvOw6"
      },
      "source": [
        "from statsmodels.tsa.stattools import adfuller\n",
        "\n",
        "def adf_test(dataset):\n",
        "  dftest = adfuller(dataset, autolag = 'AIC')\n",
        "  print(\"1. ADF : \",dftest[0])\n",
        "  print(\"2. P-Value : \", dftest[1])\n",
        "  print(\"3. Num Of Lags : \", dftest[2])\n",
        "  print(\"4. Num Of Observations Used For ADF Regression and Critical Values Calculation :\", dftest[3])\n",
        "  print(\"5. Critical Values :\")\n",
        "  for key, val in dftest[4].items():\n",
        "      print(\"\\t\",key, \": \", val)"
      ],
      "execution_count": null,
      "outputs": []
    },
    {
      "cell_type": "code",
      "metadata": {
        "colab": {
          "base_uri": "https://localhost:8080/"
        },
        "id": "SD_XaxzkvQds",
        "outputId": "97bef4d9-c8a0-473b-9398-61c086181cc5"
      },
      "source": [
        "adf_test(df['Close'])"
      ],
      "execution_count": null,
      "outputs": [
        {
          "output_type": "stream",
          "text": [
            "1. ADF :  -1.46144768192381\n",
            "2. P-Value :  0.5524891826577587\n",
            "3. Num Of Lags :  7\n",
            "4. Num Of Observations Used For ADF Regression and Critical Values Calculation : 1358\n",
            "5. Critical Values :\n",
            "\t 1% :  -3.4351745242248715\n",
            "\t 5% :  -2.8636706623947417\n",
            "\t 10% :  -2.567904365598721\n"
          ],
          "name": "stdout"
        }
      ]
    },
    {
      "cell_type": "code",
      "metadata": {
        "id": "z_-AtV_FvTrP"
      },
      "source": [
        "from pmdarima import auto_arima\n",
        "# Ignore harmless warnings\n",
        "import warnings\n",
        "warnings.filterwarnings(\"ignore\")"
      ],
      "execution_count": null,
      "outputs": []
    },
    {
      "cell_type": "code",
      "metadata": {
        "colab": {
          "base_uri": "https://localhost:8080/",
          "height": 438
        },
        "id": "U8Y8ONsuvavy",
        "outputId": "95d130bb-736f-442f-8d0d-5ce2c6af8c14"
      },
      "source": [
        "stepwise_fit = auto_arima(df['Close'], \n",
        "                          suppress_warnings=True)           \n",
        "\n",
        "stepwise_fit.summary()"
      ],
      "execution_count": null,
      "outputs": [
        {
          "output_type": "execute_result",
          "data": {
            "text/html": [
              "<table class=\"simpletable\">\n",
              "<caption>SARIMAX Results</caption>\n",
              "<tr>\n",
              "  <th>Dep. Variable:</th>           <td>y</td>        <th>  No. Observations:  </th>    <td>1366</td>   \n",
              "</tr>\n",
              "<tr>\n",
              "  <th>Model:</th>           <td>SARIMAX(2, 1, 2)</td> <th>  Log Likelihood     </th> <td>-10040.436</td>\n",
              "</tr>\n",
              "<tr>\n",
              "  <th>Date:</th>            <td>Mon, 02 Aug 2021</td> <th>  AIC                </th>  <td>20090.872</td>\n",
              "</tr>\n",
              "<tr>\n",
              "  <th>Time:</th>                <td>11:19:20</td>     <th>  BIC                </th>  <td>20116.967</td>\n",
              "</tr>\n",
              "<tr>\n",
              "  <th>Sample:</th>                  <td>0</td>        <th>  HQIC               </th>  <td>20100.639</td>\n",
              "</tr>\n",
              "<tr>\n",
              "  <th></th>                      <td> - 1366</td>     <th>                     </th>      <td> </td>    \n",
              "</tr>\n",
              "<tr>\n",
              "  <th>Covariance Type:</th>        <td>opg</td>       <th>                     </th>      <td> </td>    \n",
              "</tr>\n",
              "</table>\n",
              "<table class=\"simpletable\">\n",
              "<tr>\n",
              "     <td></td>       <th>coef</th>     <th>std err</th>      <th>z</th>      <th>P>|z|</th>  <th>[0.025</th>    <th>0.975]</th>  \n",
              "</tr>\n",
              "<tr>\n",
              "  <th>ar.L1</th>  <td>   -0.0150</td> <td>    0.054</td> <td>   -0.277</td> <td> 0.782</td> <td>   -0.121</td> <td>    0.091</td>\n",
              "</tr>\n",
              "<tr>\n",
              "  <th>ar.L2</th>  <td>   -0.8972</td> <td>    0.043</td> <td>  -20.816</td> <td> 0.000</td> <td>   -0.982</td> <td>   -0.813</td>\n",
              "</tr>\n",
              "<tr>\n",
              "  <th>ma.L1</th>  <td>    0.0537</td> <td>    0.056</td> <td>    0.968</td> <td> 0.333</td> <td>   -0.055</td> <td>    0.163</td>\n",
              "</tr>\n",
              "<tr>\n",
              "  <th>ma.L2</th>  <td>    0.8785</td> <td>    0.048</td> <td>   18.420</td> <td> 0.000</td> <td>    0.785</td> <td>    0.972</td>\n",
              "</tr>\n",
              "<tr>\n",
              "  <th>sigma2</th> <td> 1.434e+05</td> <td> 2213.221</td> <td>   64.785</td> <td> 0.000</td> <td> 1.39e+05</td> <td> 1.48e+05</td>\n",
              "</tr>\n",
              "</table>\n",
              "<table class=\"simpletable\">\n",
              "<tr>\n",
              "  <th>Ljung-Box (L1) (Q):</th>     <td>0.01</td> <th>  Jarque-Bera (JB):  </th> <td>7224.96</td>\n",
              "</tr>\n",
              "<tr>\n",
              "  <th>Prob(Q):</th>                <td>0.92</td> <th>  Prob(JB):          </th>  <td>0.00</td>  \n",
              "</tr>\n",
              "<tr>\n",
              "  <th>Heteroskedasticity (H):</th> <td>7.74</td> <th>  Skew:              </th>  <td>-0.60</td> \n",
              "</tr>\n",
              "<tr>\n",
              "  <th>Prob(H) (two-sided):</th>    <td>0.00</td> <th>  Kurtosis:          </th>  <td>14.21</td> \n",
              "</tr>\n",
              "</table><br/><br/>Warnings:<br/>[1] Covariance matrix calculated using the outer product of gradients (complex-step)."
            ],
            "text/plain": [
              "<class 'statsmodels.iolib.summary.Summary'>\n",
              "\"\"\"\n",
              "                               SARIMAX Results                                \n",
              "==============================================================================\n",
              "Dep. Variable:                      y   No. Observations:                 1366\n",
              "Model:               SARIMAX(2, 1, 2)   Log Likelihood              -10040.436\n",
              "Date:                Mon, 02 Aug 2021   AIC                          20090.872\n",
              "Time:                        11:19:20   BIC                          20116.967\n",
              "Sample:                             0   HQIC                         20100.639\n",
              "                               - 1366                                         \n",
              "Covariance Type:                  opg                                         \n",
              "==============================================================================\n",
              "                 coef    std err          z      P>|z|      [0.025      0.975]\n",
              "------------------------------------------------------------------------------\n",
              "ar.L1         -0.0150      0.054     -0.277      0.782      -0.121       0.091\n",
              "ar.L2         -0.8972      0.043    -20.816      0.000      -0.982      -0.813\n",
              "ma.L1          0.0537      0.056      0.968      0.333      -0.055       0.163\n",
              "ma.L2          0.8785      0.048     18.420      0.000       0.785       0.972\n",
              "sigma2      1.434e+05   2213.221     64.785      0.000    1.39e+05    1.48e+05\n",
              "===================================================================================\n",
              "Ljung-Box (L1) (Q):                   0.01   Jarque-Bera (JB):              7224.96\n",
              "Prob(Q):                              0.92   Prob(JB):                         0.00\n",
              "Heteroskedasticity (H):               7.74   Skew:                            -0.60\n",
              "Prob(H) (two-sided):                  0.00   Kurtosis:                        14.21\n",
              "===================================================================================\n",
              "\n",
              "Warnings:\n",
              "[1] Covariance matrix calculated using the outer product of gradients (complex-step).\n",
              "\"\"\""
            ]
          },
          "metadata": {
            "tags": []
          },
          "execution_count": 44
        }
      ]
    },
    {
      "cell_type": "code",
      "metadata": {
        "id": "v3SLpFJZvmAr"
      },
      "source": [
        "from statsmodels.tsa.arima_model import ARIMA"
      ],
      "execution_count": null,
      "outputs": []
    },
    {
      "cell_type": "code",
      "metadata": {
        "colab": {
          "base_uri": "https://localhost:8080/"
        },
        "id": "zNnA6IKUvnlQ",
        "outputId": "1a65648c-5920-4b3b-95c5-4ff6a52b3e9e"
      },
      "source": [
        "print(df.shape)\n",
        "train=df.iloc[:-30]\n",
        "test=df.iloc[-30:]\n",
        "print(train.shape,test.shape)\n",
        "print(test.iloc[0],test.iloc[-1])"
      ],
      "execution_count": null,
      "outputs": [
        {
          "output_type": "stream",
          "text": [
            "(1366, 7)\n",
            "(1336, 7) (30, 7)\n",
            "Date            2021-05-31 00:00:00\n",
            "Open                        35097.4\n",
            "High                        35584.3\n",
            "Low                         34930.1\n",
            "Close                       35526.7\n",
            "(High-Low)                    654.2\n",
            "(Open-Close)                 -429.2\n",
            "Name: 2021-05-31 00:00:00, dtype: object Date            2021-07-09 00:00:00\n",
            "Open                        35163.8\n",
            "High                        35225.2\n",
            "Low                         34859.9\n",
            "Close                       35071.9\n",
            "(High-Low)                    365.3\n",
            "(Open-Close)                   91.8\n",
            "Name: 2021-07-09 00:00:00, dtype: object\n"
          ],
          "name": "stdout"
        }
      ]
    },
    {
      "cell_type": "code",
      "metadata": {
        "colab": {
          "base_uri": "https://localhost:8080/",
          "height": 391
        },
        "id": "HTyZS4VZvv1a",
        "outputId": "a24d9601-d1d8-40ab-9c82-dc7c0f548416"
      },
      "source": [
        "from statsmodels.tsa.arima_model import ARIMA\n",
        "model=ARIMA(train['Close'],order=(2,1,2))\n",
        "model=model.fit()\n",
        "model.summary()"
      ],
      "execution_count": null,
      "outputs": [
        {
          "output_type": "execute_result",
          "data": {
            "text/html": [
              "<table class=\"simpletable\">\n",
              "<caption>ARIMA Model Results</caption>\n",
              "<tr>\n",
              "  <th>Dep. Variable:</th>      <td>D.Close</td>     <th>  No. Observations:  </th>   <td>1335</td>   \n",
              "</tr>\n",
              "<tr>\n",
              "  <th>Model:</th>          <td>ARIMA(2, 1, 2)</td>  <th>  Log Likelihood     </th> <td>-9825.314</td>\n",
              "</tr>\n",
              "<tr>\n",
              "  <th>Method:</th>             <td>css-mle</td>     <th>  S.D. of innovations</th>  <td>380.243</td> \n",
              "</tr>\n",
              "<tr>\n",
              "  <th>Date:</th>          <td>Mon, 02 Aug 2021</td> <th>  AIC                </th> <td>19662.628</td>\n",
              "</tr>\n",
              "<tr>\n",
              "  <th>Time:</th>              <td>11:19:33</td>     <th>  BIC                </th> <td>19693.808</td>\n",
              "</tr>\n",
              "<tr>\n",
              "  <th>Sample:</th>                <td>1</td>        <th>  HQIC               </th> <td>19674.311</td>\n",
              "</tr>\n",
              "<tr>\n",
              "  <th></th>                       <td> </td>        <th>                     </th>     <td> </td>    \n",
              "</tr>\n",
              "</table>\n",
              "<table class=\"simpletable\">\n",
              "<tr>\n",
              "        <td></td>           <th>coef</th>     <th>std err</th>      <th>z</th>      <th>P>|z|</th>  <th>[0.025</th>    <th>0.975]</th>  \n",
              "</tr>\n",
              "<tr>\n",
              "  <th>const</th>         <td>   13.4753</td> <td>   10.528</td> <td>    1.280</td> <td> 0.201</td> <td>   -7.159</td> <td>   34.110</td>\n",
              "</tr>\n",
              "<tr>\n",
              "  <th>ar.L1.D.Close</th> <td>   -0.0293</td> <td>    0.055</td> <td>   -0.532</td> <td> 0.595</td> <td>   -0.137</td> <td>    0.079</td>\n",
              "</tr>\n",
              "<tr>\n",
              "  <th>ar.L2.D.Close</th> <td>   -0.9096</td> <td>    0.059</td> <td>  -15.294</td> <td> 0.000</td> <td>   -1.026</td> <td>   -0.793</td>\n",
              "</tr>\n",
              "<tr>\n",
              "  <th>ma.L1.D.Close</th> <td>    0.0690</td> <td>    0.057</td> <td>    1.205</td> <td> 0.228</td> <td>   -0.043</td> <td>    0.181</td>\n",
              "</tr>\n",
              "<tr>\n",
              "  <th>ma.L2.D.Close</th> <td>    0.8925</td> <td>    0.066</td> <td>   13.584</td> <td> 0.000</td> <td>    0.764</td> <td>    1.021</td>\n",
              "</tr>\n",
              "</table>\n",
              "<table class=\"simpletable\">\n",
              "<caption>Roots</caption>\n",
              "<tr>\n",
              "    <td></td>   <th>            Real</th>  <th>         Imaginary</th> <th>         Modulus</th>  <th>        Frequency</th>\n",
              "</tr>\n",
              "<tr>\n",
              "  <th>AR.1</th> <td>          -0.0161</td> <td>          -1.0484j</td> <td>           1.0485</td> <td>          -0.2524</td>\n",
              "</tr>\n",
              "<tr>\n",
              "  <th>AR.2</th> <td>          -0.0161</td> <td>          +1.0484j</td> <td>           1.0485</td> <td>           0.2524</td>\n",
              "</tr>\n",
              "<tr>\n",
              "  <th>MA.1</th> <td>          -0.0386</td> <td>          -1.0578j</td> <td>           1.0585</td> <td>          -0.2558</td>\n",
              "</tr>\n",
              "<tr>\n",
              "  <th>MA.2</th> <td>          -0.0386</td> <td>          +1.0578j</td> <td>           1.0585</td> <td>           0.2558</td>\n",
              "</tr>\n",
              "</table>"
            ],
            "text/plain": [
              "<class 'statsmodels.iolib.summary.Summary'>\n",
              "\"\"\"\n",
              "                             ARIMA Model Results                              \n",
              "==============================================================================\n",
              "Dep. Variable:                D.Close   No. Observations:                 1335\n",
              "Model:                 ARIMA(2, 1, 2)   Log Likelihood               -9825.314\n",
              "Method:                       css-mle   S.D. of innovations            380.243\n",
              "Date:                Mon, 02 Aug 2021   AIC                          19662.628\n",
              "Time:                        11:19:33   BIC                          19693.808\n",
              "Sample:                             1   HQIC                         19674.311\n",
              "                                                                              \n",
              "=================================================================================\n",
              "                    coef    std err          z      P>|z|      [0.025      0.975]\n",
              "---------------------------------------------------------------------------------\n",
              "const            13.4753     10.528      1.280      0.201      -7.159      34.110\n",
              "ar.L1.D.Close    -0.0293      0.055     -0.532      0.595      -0.137       0.079\n",
              "ar.L2.D.Close    -0.9096      0.059    -15.294      0.000      -1.026      -0.793\n",
              "ma.L1.D.Close     0.0690      0.057      1.205      0.228      -0.043       0.181\n",
              "ma.L2.D.Close     0.8925      0.066     13.584      0.000       0.764       1.021\n",
              "                                    Roots                                    \n",
              "=============================================================================\n",
              "                  Real          Imaginary           Modulus         Frequency\n",
              "-----------------------------------------------------------------------------\n",
              "AR.1           -0.0161           -1.0484j            1.0485           -0.2524\n",
              "AR.2           -0.0161           +1.0484j            1.0485            0.2524\n",
              "MA.1           -0.0386           -1.0578j            1.0585           -0.2558\n",
              "MA.2           -0.0386           +1.0578j            1.0585            0.2558\n",
              "-----------------------------------------------------------------------------\n",
              "\"\"\""
            ]
          },
          "metadata": {
            "tags": []
          },
          "execution_count": 47
        }
      ]
    },
    {
      "cell_type": "code",
      "metadata": {
        "id": "pV1HAe_jvzxt"
      },
      "source": [
        "start=len(train)\n",
        "end=len(train)+len(test)-1\n",
        "#if the predicted values dont have date values as index, you will have to uncomment the following two commented lines to plot a graph\n",
        "#index_pred_dates=pd.date_range(start='2016-01-01',end='2021-07-09')\n",
        "pred=model.predict(start=start,end=end,typ='levels').rename('ARIMA predictions')\n"
      ],
      "execution_count": null,
      "outputs": []
    },
    {
      "cell_type": "code",
      "metadata": {
        "colab": {
          "base_uri": "https://localhost:8080/"
        },
        "id": "vAffjgxk-uoK",
        "outputId": "5b07058b-5404-4068-ae44-9035d6ff9bf3"
      },
      "source": [
        "pred"
      ],
      "execution_count": null,
      "outputs": [
        {
          "output_type": "execute_result",
          "data": {
            "text/plain": [
              "1335    35060.110225\n",
              "1336    34963.025829\n",
              "1337    35065.979324\n",
              "1338    35177.396023\n",
              "1339    35106.616744\n",
              "1340    35033.474752\n",
              "1341    35126.121660\n",
              "1342    35216.062906\n",
              "1343    35155.287028\n",
              "1344    35101.385507\n",
              "1345    35184.370228\n",
              "1346    35257.093882\n",
              "1347    35205.610598\n",
              "1348    35167.097545\n",
              "1349    35241.179403\n",
              "1350    35300.166890\n",
              "1351    35257.183599\n",
              "1352    35230.915629\n",
              "1353    35296.907595\n",
              "1354    35344.994233\n",
              "1355    35309.688456\n",
              "1356    35293.110737\n",
              "1357    35351.835725\n",
              "1358    35391.321210\n",
              "1359    35362.877111\n",
              "1360    35353.921803\n",
              "1361    35406.182421\n",
              "1362    35438.924096\n",
              "1363    35416.557258\n",
              "1364    35413.557950\n",
              "Name: ARIMA predictions, dtype: float64"
            ]
          },
          "metadata": {
            "tags": []
          },
          "execution_count": 49
        }
      ]
    },
    {
      "cell_type": "code",
      "metadata": {
        "id": "E2xV9bhK65_i"
      },
      "source": [
        "pred.index=df.index[start:end+1]"
      ],
      "execution_count": null,
      "outputs": []
    },
    {
      "cell_type": "code",
      "metadata": {
        "colab": {
          "base_uri": "https://localhost:8080/"
        },
        "id": "-SztKgUq42yi",
        "outputId": "f0e4200c-016f-413b-ebf2-36ce53becb2c"
      },
      "source": [
        "print(pred)"
      ],
      "execution_count": null,
      "outputs": [
        {
          "output_type": "stream",
          "text": [
            "Date\n",
            "2021-05-31    35060.110225\n",
            "2021-06-01    34963.025829\n",
            "2021-06-02    35065.979324\n",
            "2021-06-03    35177.396023\n",
            "2021-06-04    35106.616744\n",
            "2021-06-07    35033.474752\n",
            "2021-06-08    35126.121660\n",
            "2021-06-09    35216.062906\n",
            "2021-06-10    35155.287028\n",
            "2021-06-11    35101.385507\n",
            "2021-06-14    35184.370228\n",
            "2021-06-15    35257.093882\n",
            "2021-06-16    35205.610598\n",
            "2021-06-17    35167.097545\n",
            "2021-06-18    35241.179403\n",
            "2021-06-21    35300.166890\n",
            "2021-06-22    35257.183599\n",
            "2021-06-23    35230.915629\n",
            "2021-06-24    35296.907595\n",
            "2021-06-25    35344.994233\n",
            "2021-06-28    35309.688456\n",
            "2021-06-29    35293.110737\n",
            "2021-06-30    35351.835725\n",
            "2021-07-01    35391.321210\n",
            "2021-07-02    35362.877111\n",
            "2021-07-05    35353.921803\n",
            "2021-07-06    35406.182421\n",
            "2021-07-07    35438.924096\n",
            "2021-07-08    35416.557258\n",
            "2021-07-09    35413.557950\n",
            "Name: ARIMA predictions, dtype: float64\n"
          ],
          "name": "stdout"
        }
      ]
    },
    {
      "cell_type": "code",
      "metadata": {
        "colab": {
          "base_uri": "https://localhost:8080/",
          "height": 330
        },
        "id": "Mk3G12mh8WZY",
        "outputId": "9560f726-2456-4a77-8db6-1334979d78c6"
      },
      "source": [
        "pred.plot(legend='ARIMA Predictions')\n",
        "test['Close'].plot(legend=True)"
      ],
      "execution_count": null,
      "outputs": [
        {
          "output_type": "execute_result",
          "data": {
            "text/plain": [
              "<matplotlib.axes._subplots.AxesSubplot at 0x7fa6ac746590>"
            ]
          },
          "metadata": {
            "tags": []
          },
          "execution_count": 52
        },
        {
          "output_type": "display_data",
          "data": {
            "image/png": "[encoded data removed]",
            "text/plain": [
              "<Figure size 432x288 with 1 Axes>"
            ]
          },
          "metadata": {
            "tags": [],
            "needs_background": "light"
          }
        }
      ]
    },
    {
      "cell_type": "code",
      "metadata": {
        "colab": {
          "base_uri": "https://localhost:8080/"
        },
        "id": "ULbKlIw50IP4",
        "outputId": "063488f9-cbd1-4088-aaa1-b605654c26ee"
      },
      "source": [
        "test['Close'].mean()"
      ],
      "execution_count": null,
      "outputs": [
        {
          "output_type": "execute_result",
          "data": {
            "text/plain": [
              "35099.26166666667"
            ]
          },
          "metadata": {
            "tags": []
          },
          "execution_count": 53
        }
      ]
    },
    {
      "cell_type": "code",
      "metadata": {
        "colab": {
          "base_uri": "https://localhost:8080/"
        },
        "id": "hifAYKnu0LiI",
        "outputId": "f48e00ca-d304-48c1-b7b0-a6e1f66ae96c"
      },
      "source": [
        "from sklearn.metrics import mean_squared_error\n",
        "from math import sqrt\n",
        "rmse=sqrt(mean_squared_error(pred,test['Close']))\n",
        "print(rmse)"
      ],
      "execution_count": null,
      "outputs": [
        {
          "output_type": "stream",
          "text": [
            "389.6151378979243\n"
          ],
          "name": "stdout"
        }
      ]
    },
    {
      "cell_type": "code",
      "metadata": {
        "colab": {
          "base_uri": "https://localhost:8080/",
          "height": 232
        },
        "id": "BC5BUq8a0SWZ",
        "outputId": "bf8c9fb0-f42f-45d1-e17f-0247c3e71a74"
      },
      "source": [
        "model2=ARIMA(df['Close'],order=(2,1,2))\n",
        "model2=model2.fit()\n",
        "df.tail()"
      ],
      "execution_count": null,
      "outputs": [
        {
          "output_type": "execute_result",
          "data": {
            "text/html": [
              "<div>\n",
              "<style scoped>\n",
              "    .dataframe tbody tr th:only-of-type {\n",
              "        vertical-align: middle;\n",
              "    }\n",
              "\n",
              "    .dataframe tbody tr th {\n",
              "        vertical-align: top;\n",
              "    }\n",
              "\n",
              "    .dataframe thead th {\n",
              "        text-align: right;\n",
              "    }\n",
              "</style>\n",
              "<table border=\"1\" class=\"dataframe\">\n",
              "  <thead>\n",
              "    <tr style=\"text-align: right;\">\n",
              "      <th></th>\n",
              "      <th>Date</th>\n",
              "      <th>Open</th>\n",
              "      <th>High</th>\n",
              "      <th>Low</th>\n",
              "      <th>Close</th>\n",
              "      <th>(High-Low)</th>\n",
              "      <th>(Open-Close)</th>\n",
              "    </tr>\n",
              "    <tr>\n",
              "      <th>Date</th>\n",
              "      <th></th>\n",
              "      <th></th>\n",
              "      <th></th>\n",
              "      <th></th>\n",
              "      <th></th>\n",
              "      <th></th>\n",
              "      <th></th>\n",
              "    </tr>\n",
              "  </thead>\n",
              "  <tbody>\n",
              "    <tr>\n",
              "      <th>2021-07-05</th>\n",
              "      <td>2021-07-05</td>\n",
              "      <td>35010.95</td>\n",
              "      <td>35234.30</td>\n",
              "      <td>34926.40</td>\n",
              "      <td>35212.00</td>\n",
              "      <td>307.9</td>\n",
              "      <td>-201.05</td>\n",
              "    </tr>\n",
              "    <tr>\n",
              "      <th>2021-07-06</th>\n",
              "      <td>2021-07-06</td>\n",
              "      <td>35173.60</td>\n",
              "      <td>35807.45</td>\n",
              "      <td>35165.55</td>\n",
              "      <td>35579.15</td>\n",
              "      <td>641.9</td>\n",
              "      <td>-405.55</td>\n",
              "    </tr>\n",
              "    <tr>\n",
              "      <th>2021-07-07</th>\n",
              "      <td>2021-07-07</td>\n",
              "      <td>35550.60</td>\n",
              "      <td>35795.75</td>\n",
              "      <td>35427.65</td>\n",
              "      <td>35771.30</td>\n",
              "      <td>368.1</td>\n",
              "      <td>-220.7</td>\n",
              "    </tr>\n",
              "    <tr>\n",
              "      <th>2021-07-08</th>\n",
              "      <td>2021-07-08</td>\n",
              "      <td>35603.25</td>\n",
              "      <td>35811.00</td>\n",
              "      <td>35134.65</td>\n",
              "      <td>35274.10</td>\n",
              "      <td>676.35</td>\n",
              "      <td>329.15</td>\n",
              "    </tr>\n",
              "    <tr>\n",
              "      <th>2021-07-09</th>\n",
              "      <td>2021-07-09</td>\n",
              "      <td>35163.75</td>\n",
              "      <td>35225.20</td>\n",
              "      <td>34859.90</td>\n",
              "      <td>35071.95</td>\n",
              "      <td>365.3</td>\n",
              "      <td>91.8</td>\n",
              "    </tr>\n",
              "  </tbody>\n",
              "</table>\n",
              "</div>"
            ],
            "text/plain": [
              "                 Date      Open      High  ...     Close  (High-Low) (Open-Close)\n",
              "Date                                       ...                                   \n",
              "2021-07-05 2021-07-05  35010.95  35234.30  ...  35212.00       307.9      -201.05\n",
              "2021-07-06 2021-07-06  35173.60  35807.45  ...  35579.15       641.9      -405.55\n",
              "2021-07-07 2021-07-07  35550.60  35795.75  ...  35771.30       368.1       -220.7\n",
              "2021-07-08 2021-07-08  35603.25  35811.00  ...  35274.10      676.35       329.15\n",
              "2021-07-09 2021-07-09  35163.75  35225.20  ...  35071.95       365.3         91.8\n",
              "\n",
              "[5 rows x 7 columns]"
            ]
          },
          "metadata": {
            "tags": []
          },
          "execution_count": 55
        }
      ]
    },
    {
      "cell_type": "code",
      "metadata": {
        "colab": {
          "base_uri": "https://localhost:8080/"
        },
        "id": "6x0edGyF0biC",
        "outputId": "2566a0e1-296e-455d-c5a8-e9b292331f47"
      },
      "source": [
        "index_future_dates=pd.date_range(start='2021-07-09',end='2021-08-08')\n",
        "#print(index_future_dates)\n",
        "pred=model2.predict(start=len(df),end=len(df)+30,typ='levels').rename('ARIMA Predictions')\n",
        "#print(comp_pred)\n",
        "pred.index=index_future_dates\n",
        "print(pred)"
      ],
      "execution_count": null,
      "outputs": [
        {
          "output_type": "stream",
          "text": [
            "2021-07-09    35091.313618\n",
            "2021-07-10    35159.671329\n",
            "2021-07-11    35166.595147\n",
            "2021-07-12    35130.114006\n",
            "2021-07-13    35149.744853\n",
            "2021-07-14    35207.805509\n",
            "2021-07-15    35214.632068\n",
            "2021-07-16    35187.455464\n",
            "2021-07-17    35207.043902\n",
            "2021-07-18    35256.698696\n",
            "2021-07-19    35263.681268\n",
            "2021-07-20    35244.097000\n",
            "2021-07-21    35263.438178\n",
            "2021-07-22    35306.236917\n",
            "2021-07-23    35313.538880\n",
            "2021-07-24    35300.144443\n",
            "2021-07-25    35319.110389\n",
            "2021-07-26    35356.321999\n",
            "2021-07-27    35364.041206\n",
            "2021-07-28    35355.688781\n",
            "2021-07-29    35374.207159\n",
            "2021-07-30    35406.869683\n",
            "2021-07-31    35415.056953\n",
            "2021-08-01    35410.807979\n",
            "2021-08-02    35428.846016\n",
            "2021-08-03    35457.807883\n",
            "2021-08-04    35466.480947\n",
            "2021-08-05    35465.568638\n",
            "2021-08-06    35483.121050\n",
            "2021-08-07    35509.075110\n",
            "2021-08-08    35518.229040\n",
            "Freq: D, Name: ARIMA Predictions, dtype: float64\n"
          ],
          "name": "stdout"
        }
      ]
    },
    {
      "cell_type": "code",
      "metadata": {
        "colab": {
          "base_uri": "https://localhost:8080/",
          "height": 330
        },
        "id": "Eb4xRlS709_r",
        "outputId": "fed7a51b-f62e-4122-ff36-718fe928e9ef"
      },
      "source": [
        "pred.plot(legend='ARIMA Predictions')\n",
        "test['Close'].plot(legend=True)"
      ],
      "execution_count": null,
      "outputs": [
        {
          "output_type": "execute_result",
          "data": {
            "text/plain": [
              "<matplotlib.axes._subplots.AxesSubplot at 0x7fa6ae2d64d0>"
            ]
          },
          "metadata": {
            "tags": []
          },
          "execution_count": 57
        },
        {
          "output_type": "display_data",
          "data": {
            "image/png": "[encoded data removed]",
            "text/plain": [
              "<Figure size 432x288 with 1 Axes>"
            ]
          },
          "metadata": {
            "tags": [],
            "needs_background": "light"
          }
        }
      ]
    },
    {
      "cell_type": "code",
      "metadata": {
        "colab": {
          "base_uri": "https://localhost:8080/"
        },
        "id": "FT-G-RO6XBb-",
        "outputId": "ed6d7b18-b607-43db-9c16-09883fb0f6ff"
      },
      "source": [
        "index_future_dates=pd.date_range(start='2021-07-09',end='2021-07-16')\n",
        "#print(index_future_dates)\n",
        "pred=model2.predict(start=len(df),end=len(df)+7,typ='levels').rename('ARIMA Predictions')\n",
        "#print(comp_pred)\n",
        "pred.index=index_future_dates\n",
        "print(pred)"
      ],
      "execution_count": null,
      "outputs": [
        {
          "output_type": "stream",
          "text": [
            "2021-07-09    35091.313618\n",
            "2021-07-10    35159.671329\n",
            "2021-07-11    35166.595147\n",
            "2021-07-12    35130.114006\n",
            "2021-07-13    35149.744853\n",
            "2021-07-14    35207.805509\n",
            "2021-07-15    35214.632068\n",
            "2021-07-16    35187.455464\n",
            "Freq: D, Name: ARIMA Predictions, dtype: float64\n"
          ],
          "name": "stdout"
        }
      ]
    },
    {
      "cell_type": "code",
      "metadata": {
        "colab": {
          "base_uri": "https://localhost:8080/",
          "height": 330
        },
        "id": "dgXvqaNQXpOl",
        "outputId": "ef3a0e1e-caa4-48e1-c9db-c413283bd555"
      },
      "source": [
        "pred.plot(legend='ARIMA Predictions')\n",
        "test['Close'].plot(legend=True)"
      ],
      "execution_count": null,
      "outputs": [
        {
          "output_type": "execute_result",
          "data": {
            "text/plain": [
              "<matplotlib.axes._subplots.AxesSubplot at 0x7fa6ac7508d0>"
            ]
          },
          "metadata": {
            "tags": []
          },
          "execution_count": 59
        },
        {
          "output_type": "display_data",
          "data": {
            "image/png": "[encoded data removed]",
            "text/plain": [
              "<Figure size 432x288 with 1 Axes>"
            ]
          },
          "metadata": {
            "tags": [],
            "needs_background": "light"
          }
        }
      ]
    },
    {
      "cell_type": "code",
      "metadata": {
        "id": "d3ehXsEeNo5D"
      },
      "source": [
        ""
      ],
      "execution_count": null,
      "outputs": []
    },
    {
      "cell_type": "code",
      "metadata": {
        "id": "34R8tXkeNtF4"
      },
      "source": [
        ""
      ],
      "execution_count": null,
      "outputs": []
    },
    {
      "cell_type": "code",
      "metadata": {
        "id": "dCOhg1VINtI6"
      },
      "source": [
        ""
      ],
      "execution_count": null,
      "outputs": []
    },
    {
      "cell_type": "code",
      "metadata": {
        "id": "AnOblPlXNtOi"
      },
      "source": [
        ""
      ],
      "execution_count": null,
      "outputs": []
    },
    {
      "cell_type": "code",
      "metadata": {
        "id": "EzzFmkvLNtSr"
      },
      "source": [
        ""
      ],
      "execution_count": null,
      "outputs": []
    },
    {
      "cell_type": "code",
      "metadata": {
        "id": "q2KxSRMhNtWF"
      },
      "source": [
        ""
      ],
      "execution_count": null,
      "outputs": []
    },
    {
      "cell_type": "code",
      "metadata": {
        "id": "m5a5eTS_NtZF"
      },
      "source": [
        ""
      ],
      "execution_count": null,
      "outputs": []
    },
    {
      "cell_type": "code",
      "metadata": {
        "id": "HmztUKh7NtcI"
      },
      "source": [
        ""
      ],
      "execution_count": null,
      "outputs": []
    },
    {
      "cell_type": "code",
      "metadata": {
        "id": "9NoOaFblNtiG"
      },
      "source": [
        ""
      ],
      "execution_count": null,
      "outputs": []
    },
    {
      "cell_type": "code",
      "metadata": {
        "id": "4SIlJnM6NtlP"
      },
      "source": [
        ""
      ],
      "execution_count": null,
      "outputs": []
    },
    {
      "cell_type": "code",
      "metadata": {
        "id": "YI0wvp28qFjG"
      },
      "source": [
        "#to plot within notebook\n",
        "import matplotlib.pyplot as plt\n",
        "%matplotlib inline\n",
        "#setting figure size\n",
        "from matplotlib.pylab import rcParams\n",
        "rcParams['figure.figsize'] = 20,10\n",
        "#for normalizing data\n",
        "from sklearn.preprocessing import MinMaxScaler\n",
        "scaler = MinMaxScaler(feature_range=(0, 1))"
      ],
      "execution_count": null,
      "outputs": []
    },
    {
      "cell_type": "code",
      "metadata": {
        "id": "inKSG2oHm7xg"
      },
      "source": [
        "import seaborn as sns"
      ],
      "execution_count": null,
      "outputs": []
    },
    {
      "cell_type": "code",
      "metadata": {
        "colab": {
          "base_uri": "https://localhost:8080/"
        },
        "id": "UDwlcXSSn6x8",
        "outputId": "818461fa-f63f-44f8-f0df-6ede856e4e65"
      },
      "source": [
        "# Create a new dataframe with only the 'Close column \n",
        "data = df.filter(['Close'])\n",
        "# Convert the dataframe to a numpy array\n",
        "dataset = data.values\n",
        "# Get the number of rows to train the model on\n",
        "training_data_len = int(np.ceil( len(dataset) * .95 ))\n",
        "\n",
        "training_data_len"
      ],
      "execution_count": null,
      "outputs": [
        {
          "output_type": "execute_result",
          "data": {
            "text/plain": [
              "1298"
            ]
          },
          "metadata": {
            "tags": []
          },
          "execution_count": 62
        }
      ]
    },
    {
      "cell_type": "code",
      "metadata": {
        "colab": {
          "base_uri": "https://localhost:8080/"
        },
        "id": "XnvCFcyvoA-c",
        "outputId": "47579aac-928b-4974-9a45-ccac8827e5b8"
      },
      "source": [
        "# Scale the data\n",
        "from sklearn.preprocessing import MinMaxScaler\n",
        "\n",
        "scaler = MinMaxScaler(feature_range=(0,1))\n",
        "scaled_data = scaler.fit_transform(dataset)\n",
        "\n",
        "scaled_data"
      ],
      "execution_count": null,
      "outputs": [
        {
          "output_type": "execute_result",
          "data": {
            "text/plain": [
              "array([[0.14667239],\n",
              "       [0.1281423 ],\n",
              "       [0.12575709],\n",
              "       ...,\n",
              "       [0.93537202],\n",
              "       [0.91443777],\n",
              "       [0.90592639]])"
            ]
          },
          "metadata": {
            "tags": []
          },
          "execution_count": 63
        }
      ]
    },
    {
      "cell_type": "code",
      "metadata": {
        "colab": {
          "base_uri": "https://localhost:8080/"
        },
        "id": "q58RZAntoDb5",
        "outputId": "e437ccdf-053f-4f78-eb62-c00af5c08e92"
      },
      "source": [
        "# Create the training data set \n",
        "# Create the scaled training data set\n",
        "train_data = scaled_data[0:int(training_data_len), :]\n",
        "# Split the data into x_train and y_train data sets\n",
        "x_train = []\n",
        "y_train = []\n",
        "\n",
        "for i in range(30, len(train_data)):\n",
        "    x_train.append(train_data[i-30:i, 0])\n",
        "    y_train.append(train_data[i, 0])\n",
        "    if i<= 31:\n",
        "        print(x_train)\n",
        "        print(y_train)\n",
        "        print()\n",
        "        \n",
        "# Convert the x_train and y_train to numpy arrays \n",
        "x_train, y_train = np.array(x_train), np.array(y_train)\n",
        "\n",
        "# Reshape the data\n",
        "x_train = np.reshape(x_train, (x_train.shape[0], x_train.shape[1], 1))\n",
        "# x_train.shape"
      ],
      "execution_count": null,
      "outputs": [
        {
          "output_type": "stream",
          "text": [
            "[array([0.14667239, 0.1281423 , 0.12575709, 0.12115298, 0.10602491,\n",
            "       0.10892169, 0.10359971, 0.09174945, 0.09751985, 0.08648642,\n",
            "       0.06949734, 0.06168699, 0.07216464, 0.0580955 , 0.06507218,\n",
            "       0.08176021, 0.08443804, 0.08332018, 0.0768719 , 0.0828065 ,\n",
            "       0.07405092, 0.06367431, 0.05382402, 0.05530188, 0.06763422,\n",
            "       0.0627817 , 0.0555524 , 0.0434832 , 0.01990901, 0.01750696])]\n",
            "[0.03744334341731026]\n",
            "\n",
            "[array([0.14667239, 0.1281423 , 0.12575709, 0.12115298, 0.10602491,\n",
            "       0.10892169, 0.10359971, 0.09174945, 0.09751985, 0.08648642,\n",
            "       0.06949734, 0.06168699, 0.07216464, 0.0580955 , 0.06507218,\n",
            "       0.08176021, 0.08443804, 0.08332018, 0.0768719 , 0.0828065 ,\n",
            "       0.07405092, 0.06367431, 0.05382402, 0.05530188, 0.06763422,\n",
            "       0.0627817 , 0.0555524 , 0.0434832 , 0.01990901, 0.01750696]), array([0.1281423 , 0.12575709, 0.12115298, 0.10602491, 0.10892169,\n",
            "       0.10359971, 0.09174945, 0.09751985, 0.08648642, 0.06949734,\n",
            "       0.06168699, 0.07216464, 0.0580955 , 0.06507218, 0.08176021,\n",
            "       0.08443804, 0.08332018, 0.0768719 , 0.0828065 , 0.07405092,\n",
            "       0.06367431, 0.05382402, 0.05530188, 0.06763422, 0.0627817 ,\n",
            "       0.0555524 , 0.0434832 , 0.01990901, 0.01750696, 0.03744334])]\n",
            "[0.03744334341731026, 0.025715193963929184]\n",
            "\n"
          ],
          "name": "stdout"
        }
      ]
    },
    {
      "cell_type": "code",
      "metadata": {
        "colab": {
          "base_uri": "https://localhost:8080/"
        },
        "id": "HPZz5RZHoJkO",
        "outputId": "6a3ed4af-a7b4-4352-9ece-18b38b73ac9b"
      },
      "source": [
        "from keras.models import Sequential\n",
        "from keras.layers import Dense, LSTM\n",
        "\n",
        "# Build the LSTM model\n",
        "model = Sequential()\n",
        "model.add(LSTM(128, return_sequences=True, input_shape= (x_train.shape[1], 1)))\n",
        "model.add(LSTM(64, return_sequences=False))\n",
        "model.add(Dense(25))\n",
        "model.add(Dense(1))\n",
        "\n",
        "# Compile the model\n",
        "model.compile(optimizer='adam', loss='mean_squared_error')\n",
        "\n",
        "# Train the model\n",
        "model.fit(x_train, y_train, batch_size=1, epochs=21)"
      ],
      "execution_count": null,
      "outputs": [
        {
          "output_type": "stream",
          "text": [
            "Epoch 1/21\n",
            "1268/1268 [==============================] - 39s 16ms/step - loss: 0.0071\n",
            "Epoch 2/21\n",
            "1268/1268 [==============================] - 20s 16ms/step - loss: 0.0013\n",
            "Epoch 3/21\n",
            "1268/1268 [==============================] - 20s 16ms/step - loss: 7.4600e-04\n",
            "Epoch 4/21\n",
            "1268/1268 [==============================] - 20s 16ms/step - loss: 6.3075e-04\n",
            "Epoch 5/21\n",
            "1268/1268 [==============================] - 20s 16ms/step - loss: 5.1382e-04\n",
            "Epoch 6/21\n",
            "1268/1268 [==============================] - 20s 16ms/step - loss: 5.3319e-04\n",
            "Epoch 7/21\n",
            "1268/1268 [==============================] - 20s 16ms/step - loss: 4.9630e-04\n",
            "Epoch 8/21\n",
            "1268/1268 [==============================] - 20s 15ms/step - loss: 6.8950e-04\n",
            "Epoch 9/21\n",
            "1268/1268 [==============================] - 20s 15ms/step - loss: 4.6164e-04\n",
            "Epoch 10/21\n",
            "1268/1268 [==============================] - 20s 16ms/step - loss: 5.8864e-04\n",
            "Epoch 11/21\n",
            "1268/1268 [==============================] - 20s 16ms/step - loss: 4.7967e-04\n",
            "Epoch 12/21\n",
            "1268/1268 [==============================] - 20s 16ms/step - loss: 3.9565e-04\n",
            "Epoch 13/21\n",
            "1268/1268 [==============================] - 20s 16ms/step - loss: 4.7738e-04\n",
            "Epoch 14/21\n",
            "1268/1268 [==============================] - 20s 16ms/step - loss: 4.1633e-04\n",
            "Epoch 15/21\n",
            "1268/1268 [==============================] - 20s 15ms/step - loss: 4.8273e-04\n",
            "Epoch 16/21\n",
            "1268/1268 [==============================] - 20s 16ms/step - loss: 5.5572e-04\n",
            "Epoch 17/21\n",
            "1268/1268 [==============================] - 20s 16ms/step - loss: 4.8953e-04\n",
            "Epoch 18/21\n",
            "1268/1268 [==============================] - 20s 16ms/step - loss: 3.6390e-04\n",
            "Epoch 19/21\n",
            "1268/1268 [==============================] - 20s 16ms/step - loss: 3.7904e-04\n",
            "Epoch 20/21\n",
            "1268/1268 [==============================] - 20s 16ms/step - loss: 4.4229e-04\n",
            "Epoch 21/21\n",
            "1268/1268 [==============================] - 20s 16ms/step - loss: 4.7134e-04\n"
          ],
          "name": "stdout"
        },
        {
          "output_type": "execute_result",
          "data": {
            "text/plain": [
              "<keras.callbacks.History at 0x7fa668130d90>"
            ]
          },
          "metadata": {
            "tags": []
          },
          "execution_count": 65
        }
      ]
    },
    {
      "cell_type": "code",
      "metadata": {
        "colab": {
          "base_uri": "https://localhost:8080/"
        },
        "id": "wIiVrnz-qrb3",
        "outputId": "ad281433-ce7d-49dc-c47e-7dfac9946286"
      },
      "source": [
        "# Create the testing data set\n",
        "# Create a new array containing scaled values from index 1543 to 2002 \n",
        "test_data = scaled_data[training_data_len - 30: , :]\n",
        "# Create the data sets x_test and y_test\n",
        "x_test = []\n",
        "y_test = dataset[training_data_len:, :]\n",
        "for i in range(30, len(test_data)):\n",
        "    x_test.append(test_data[i-30:i, 0])\n",
        "    \n",
        "# Convert the data to a numpy array\n",
        "x_test = np.array(x_test)\n",
        "\n",
        "# Reshape the data\n",
        "x_test = np.reshape(x_test, (x_test.shape[0], x_test.shape[1], 1 ))\n",
        "\n",
        "# Get the models predicted price values \n",
        "predictions = model.predict(x_test)\n",
        "predictions = scaler.inverse_transform(predictions)\n",
        "\n",
        "# Get the root mean squared error (RMSE)\n",
        "rmse = np.sqrt(np.mean(((predictions - y_test) ** 2)))\n",
        "rmse"
      ],
      "execution_count": null,
      "outputs": [
        {
          "output_type": "execute_result",
          "data": {
            "text/plain": [
              "507.25544357875435"
            ]
          },
          "metadata": {
            "tags": []
          },
          "execution_count": 32
        }
      ]
    },
    {
      "cell_type": "code",
      "metadata": {
        "colab": {
          "base_uri": "https://localhost:8080/",
          "height": 636
        },
        "id": "JiCC195oq18i",
        "outputId": "64dbdf6c-9100-4cd3-d8a1-9300c2b48d5a"
      },
      "source": [
        "# Plot the data\n",
        "train = data[:training_data_len]\n",
        "valid = data[training_data_len:]\n",
        "valid['Predictions'] = predictions\n",
        "# Visualize the data\n",
        "plt.figure(figsize=(20,10))\n",
        "plt.title('Model')\n",
        "plt.xlabel('Date', fontsize=25)\n",
        "plt.ylabel('Close Price  (INR)', fontsize=25)\n",
        "plt.plot(train['Close'])\n",
        "plt.plot(valid[['Close', 'Predictions']])\n",
        "plt.legend(['Train', 'Val', 'Predictions'], loc='lower right')\n",
        "plt.show()"
      ],
      "execution_count": null,
      "outputs": [
        {
          "output_type": "display_data",
          "data": {
            "image/png": "[encoded data removed]",
            "text/plain": [
              "<Figure size 1440x720 with 1 Axes>"
            ]
          },
          "metadata": {
            "tags": [],
            "needs_background": "light"
          }
        }
      ]
    },
    {
      "cell_type": "code",
      "metadata": {
        "colab": {
          "base_uri": "https://localhost:8080/",
          "height": 440
        },
        "id": "IkyRti0Aq6Xi",
        "outputId": "87ae3491-be08-4881-900f-2b33396ce1c6"
      },
      "source": [
        "# Show the valid and predicted prices\n",
        "valid"
      ],
      "execution_count": null,
      "outputs": [
        {
          "output_type": "execute_result",
          "data": {
            "text/html": [
              "<div>\n",
              "<style scoped>\n",
              "    .dataframe tbody tr th:only-of-type {\n",
              "        vertical-align: middle;\n",
              "    }\n",
              "\n",
              "    .dataframe tbody tr th {\n",
              "        vertical-align: top;\n",
              "    }\n",
              "\n",
              "    .dataframe thead th {\n",
              "        text-align: right;\n",
              "    }\n",
              "</style>\n",
              "<table border=\"1\" class=\"dataframe\">\n",
              "  <thead>\n",
              "    <tr style=\"text-align: right;\">\n",
              "      <th></th>\n",
              "      <th>Close</th>\n",
              "      <th>Predictions</th>\n",
              "    </tr>\n",
              "    <tr>\n",
              "      <th>Date</th>\n",
              "      <th></th>\n",
              "      <th></th>\n",
              "    </tr>\n",
              "  </thead>\n",
              "  <tbody>\n",
              "    <tr>\n",
              "      <th>2021-04-01</th>\n",
              "      <td>33858.00</td>\n",
              "      <td>33120.632812</td>\n",
              "    </tr>\n",
              "    <tr>\n",
              "      <th>2021-04-05</th>\n",
              "      <td>32678.85</td>\n",
              "      <td>33769.539062</td>\n",
              "    </tr>\n",
              "    <tr>\n",
              "      <th>2021-04-06</th>\n",
              "      <td>32501.35</td>\n",
              "      <td>32519.654297</td>\n",
              "    </tr>\n",
              "    <tr>\n",
              "      <th>2021-04-07</th>\n",
              "      <td>32991.20</td>\n",
              "      <td>32467.507812</td>\n",
              "    </tr>\n",
              "    <tr>\n",
              "      <th>2021-04-08</th>\n",
              "      <td>32782.85</td>\n",
              "      <td>32965.777344</td>\n",
              "    </tr>\n",
              "    <tr>\n",
              "      <th>...</th>\n",
              "      <td>...</td>\n",
              "      <td>...</td>\n",
              "    </tr>\n",
              "    <tr>\n",
              "      <th>2021-07-05</th>\n",
              "      <td>35212.00</td>\n",
              "      <td>34638.851562</td>\n",
              "    </tr>\n",
              "    <tr>\n",
              "      <th>2021-07-06</th>\n",
              "      <td>35579.15</td>\n",
              "      <td>35021.210938</td>\n",
              "    </tr>\n",
              "    <tr>\n",
              "      <th>2021-07-07</th>\n",
              "      <td>35771.30</td>\n",
              "      <td>35345.718750</td>\n",
              "    </tr>\n",
              "    <tr>\n",
              "      <th>2021-07-08</th>\n",
              "      <td>35274.10</td>\n",
              "      <td>35509.664062</td>\n",
              "    </tr>\n",
              "    <tr>\n",
              "      <th>2021-07-09</th>\n",
              "      <td>35071.95</td>\n",
              "      <td>35008.093750</td>\n",
              "    </tr>\n",
              "  </tbody>\n",
              "</table>\n",
              "<p>68 rows × 2 columns</p>\n",
              "</div>"
            ],
            "text/plain": [
              "               Close   Predictions\n",
              "Date                              \n",
              "2021-04-01  33858.00  33120.632812\n",
              "2021-04-05  32678.85  33769.539062\n",
              "2021-04-06  32501.35  32519.654297\n",
              "2021-04-07  32991.20  32467.507812\n",
              "2021-04-08  32782.85  32965.777344\n",
              "...              ...           ...\n",
              "2021-07-05  35212.00  34638.851562\n",
              "2021-07-06  35579.15  35021.210938\n",
              "2021-07-07  35771.30  35345.718750\n",
              "2021-07-08  35274.10  35509.664062\n",
              "2021-07-09  35071.95  35008.093750\n",
              "\n",
              "[68 rows x 2 columns]"
            ]
          },
          "metadata": {
            "tags": []
          },
          "execution_count": 34
        }
      ]
    },
    {
      "cell_type": "code",
      "metadata": {
        "colab": {
          "base_uri": "https://localhost:8080/",
          "height": 597
        },
        "id": "ofc0nE3bq_wX",
        "outputId": "064eba53-b94d-4358-8c81-6049da249549"
      },
      "source": [
        "valid.plot(legend='LSTM Predictions')"
      ],
      "execution_count": null,
      "outputs": [
        {
          "output_type": "execute_result",
          "data": {
            "text/plain": [
              "<matplotlib.axes._subplots.AxesSubplot at 0x7fabea2d8790>"
            ]
          },
          "metadata": {
            "tags": []
          },
          "execution_count": 35
        },
        {
          "output_type": "display_data",
          "data": {
            "image/png": "[encoded data removed]",
            "text/plain": [
              "<Figure size 1440x720 with 1 Axes>"
            ]
          },
          "metadata": {
            "tags": [],
            "needs_background": "light"
          }
        }
      ]
    }
  ]
}
{
  "nbformat": 4,
  "nbformat_minor": 0,
  "metadata": {
    "colab": {
      "name": "Final_Model1.ipynb",
      "provenance": [],
      "collapsed_sections": []
    },
    "kernelspec": {
      "name": "python3",
      "display_name": "Python 3"
    },
    "language_info": {
      "name": "python"
    }
  },
  "cells": [
    {
      "cell_type": "code",
      "metadata": {
        "colab": {
          "base_uri": "https://localhost:8080/",
          "height": 16
        },
        "id": "CO34u41spQmA",
        "outputId": "ae5aecb4-53f8-4aa5-bba5-e7eabed38e83"
      },
      "source": [
        "import numpy as np \n",
        "import pandas as pd\n",
        "import seaborn as sns\n",
        "color = sns.color_palette()\n",
        "import matplotlib.pyplot as plt\n",
        "\n",
        "import warnings\n",
        "warnings.filterwarnings('ignore')\n",
        "\n",
        "import plotly.offline as py\n",
        "from plotly import tools\n",
        "py.init_notebook_mode(connected=True)\n",
        "import plotly.graph_objs as go\n",
        "import plotly.express as px\n",
        "\n",
        "from statsmodels.tsa.stattools import adfuller\n",
        "from statsmodels.graphics.tsaplots import plot_acf, plot_pacf\n",
        "from statsmodels.tsa.seasonal import seasonal_decompose\n",
        "from statsmodels.tsa.statespace.sarimax import SARIMAX"
      ],
      "execution_count": null,
      "outputs": [
        {
          "output_type": "display_data",
          "data": {
            "text/html": [
              "        <script type=\"text/javascript\">\n",
              "        window.PlotlyConfig = {MathJaxConfig: 'local'};\n",
              "        if (window.MathJax) {MathJax.Hub.Config({SVG: {font: \"STIX-Web\"}});}\n",
              "        if (typeof require !== 'undefined') {\n",
              "        require.undef(\"plotly\");\n",
              "        requirejs.config({\n",
              "            paths: {\n",
              "                'plotly': ['https://cdn.plot.ly/plotly-latest.min']\n",
              "            }\n",
              "        });\n",
              "        require(['plotly'], function(Plotly) {\n",
              "            window._Plotly = Plotly;\n",
              "        });\n",
              "        }\n",
              "        </script>\n",
              "        "
            ]
          },
          "metadata": {
            "tags": []
          }
        }
      ]
    },
    {
      "cell_type": "code",
      "metadata": {
        "colab": {
          "base_uri": "https://localhost:8080/",
          "height": 232
        },
        "id": "3h2cT1sep_f4",
        "outputId": "240e0a15-76a3-4367-fc1d-12a0148ce6f7"
      },
      "source": [
        "df = pd.read_csv(\"../content/Bankniftydata.csv\", index_col='Date', parse_dates=['Date'])\n",
        "#nifty_bank_df = pd.read_csv(\"../input/nifty-indices-dataset/NIFTY BANK.csv\", index_col='Date', parse_dates=['Date'])\n",
        "\n",
        "df.head(5)"
      ],
      "execution_count": null,
      "outputs": [
        {
          "output_type": "execute_result",
          "data": {
            "text/html": [
              "<div>\n",
              "<style scoped>\n",
              "    .dataframe tbody tr th:only-of-type {\n",
              "        vertical-align: middle;\n",
              "    }\n",
              "\n",
              "    .dataframe tbody tr th {\n",
              "        vertical-align: top;\n",
              "    }\n",
              "\n",
              "    .dataframe thead th {\n",
              "        text-align: right;\n",
              "    }\n",
              "</style>\n",
              "<table border=\"1\" class=\"dataframe\">\n",
              "  <thead>\n",
              "    <tr style=\"text-align: right;\">\n",
              "      <th></th>\n",
              "      <th>Open</th>\n",
              "      <th>High</th>\n",
              "      <th>Low</th>\n",
              "      <th>Close</th>\n",
              "      <th>(High-Low)</th>\n",
              "      <th>(Open-Close)</th>\n",
              "    </tr>\n",
              "    <tr>\n",
              "      <th>Date</th>\n",
              "      <th></th>\n",
              "      <th></th>\n",
              "      <th></th>\n",
              "      <th></th>\n",
              "      <th></th>\n",
              "      <th></th>\n",
              "    </tr>\n",
              "  </thead>\n",
              "  <tbody>\n",
              "    <tr>\n",
              "      <th>2016-01-01</th>\n",
              "      <td>16932.50</td>\n",
              "      <td>17067.45</td>\n",
              "      <td>16824.05</td>\n",
              "      <td>17039.25</td>\n",
              "      <td>243.4</td>\n",
              "      <td>-106.75</td>\n",
              "    </tr>\n",
              "    <tr>\n",
              "      <th>2016-01-04</th>\n",
              "      <td>16966.35</td>\n",
              "      <td>16966.35</td>\n",
              "      <td>16575.45</td>\n",
              "      <td>16599.15</td>\n",
              "      <td>390.9</td>\n",
              "      <td>367.2</td>\n",
              "    </tr>\n",
              "    <tr>\n",
              "      <th>2016-01-05</th>\n",
              "      <td>16652.05</td>\n",
              "      <td>16670.20</td>\n",
              "      <td>16474.85</td>\n",
              "      <td>16542.50</td>\n",
              "      <td>195.35</td>\n",
              "      <td>109.55</td>\n",
              "    </tr>\n",
              "    <tr>\n",
              "      <th>2016-01-06</th>\n",
              "      <td>16505.45</td>\n",
              "      <td>16614.95</td>\n",
              "      <td>16377.65</td>\n",
              "      <td>16433.15</td>\n",
              "      <td>237.3</td>\n",
              "      <td>72.3</td>\n",
              "    </tr>\n",
              "    <tr>\n",
              "      <th>2016-01-07</th>\n",
              "      <td>16256.55</td>\n",
              "      <td>16256.55</td>\n",
              "      <td>16049.75</td>\n",
              "      <td>16073.85</td>\n",
              "      <td>206.8</td>\n",
              "      <td>182.7</td>\n",
              "    </tr>\n",
              "  </tbody>\n",
              "</table>\n",
              "</div>"
            ],
            "text/plain": [
              "                Open      High       Low     Close (High-Low) (Open-Close)\n",
              "Date                                                                      \n",
              "2016-01-01  16932.50  17067.45  16824.05  17039.25      243.4      -106.75\n",
              "2016-01-04  16966.35  16966.35  16575.45  16599.15      390.9        367.2\n",
              "2016-01-05  16652.05  16670.20  16474.85  16542.50     195.35       109.55\n",
              "2016-01-06  16505.45  16614.95  16377.65  16433.15      237.3         72.3\n",
              "2016-01-07  16256.55  16256.55  16049.75  16073.85      206.8        182.7"
            ]
          },
          "metadata": {
            "tags": []
          },
          "execution_count": 5
        }
      ]
    },
    {
      "cell_type": "code",
      "metadata": {
        "colab": {
          "base_uri": "https://localhost:8080/",
          "height": 232
        },
        "id": "sYtCgSNEqLI5",
        "outputId": "c92f4298-79d8-4412-e269-23ac59842a60"
      },
      "source": [
        "df.tail(5)"
      ],
      "execution_count": null,
      "outputs": [
        {
          "output_type": "execute_result",
          "data": {
            "text/html": [
              "<div>\n",
              "<style scoped>\n",
              "    .dataframe tbody tr th:only-of-type {\n",
              "        vertical-align: middle;\n",
              "    }\n",
              "\n",
              "    .dataframe tbody tr th {\n",
              "        vertical-align: top;\n",
              "    }\n",
              "\n",
              "    .dataframe thead th {\n",
              "        text-align: right;\n",
              "    }\n",
              "</style>\n",
              "<table border=\"1\" class=\"dataframe\">\n",
              "  <thead>\n",
              "    <tr style=\"text-align: right;\">\n",
              "      <th></th>\n",
              "      <th>Open</th>\n",
              "      <th>High</th>\n",
              "      <th>Low</th>\n",
              "      <th>Close</th>\n",
              "      <th>(High-Low)</th>\n",
              "      <th>(Open-Close)</th>\n",
              "    </tr>\n",
              "    <tr>\n",
              "      <th>Date</th>\n",
              "      <th></th>\n",
              "      <th></th>\n",
              "      <th></th>\n",
              "      <th></th>\n",
              "      <th></th>\n",
              "      <th></th>\n",
              "    </tr>\n",
              "  </thead>\n",
              "  <tbody>\n",
              "    <tr>\n",
              "      <th>2021-07-05</th>\n",
              "      <td>35010.95</td>\n",
              "      <td>35234.30</td>\n",
              "      <td>34926.40</td>\n",
              "      <td>35212.00</td>\n",
              "      <td>307.9</td>\n",
              "      <td>-201.05</td>\n",
              "    </tr>\n",
              "    <tr>\n",
              "      <th>2021-07-06</th>\n",
              "      <td>35173.60</td>\n",
              "      <td>35807.45</td>\n",
              "      <td>35165.55</td>\n",
              "      <td>35579.15</td>\n",
              "      <td>641.9</td>\n",
              "      <td>-405.55</td>\n",
              "    </tr>\n",
              "    <tr>\n",
              "      <th>2021-07-07</th>\n",
              "      <td>35550.60</td>\n",
              "      <td>35795.75</td>\n",
              "      <td>35427.65</td>\n",
              "      <td>35771.30</td>\n",
              "      <td>368.1</td>\n",
              "      <td>-220.7</td>\n",
              "    </tr>\n",
              "    <tr>\n",
              "      <th>2021-07-08</th>\n",
              "      <td>35603.25</td>\n",
              "      <td>35811.00</td>\n",
              "      <td>35134.65</td>\n",
              "      <td>35274.10</td>\n",
              "      <td>676.35</td>\n",
              "      <td>329.15</td>\n",
              "    </tr>\n",
              "    <tr>\n",
              "      <th>2021-07-09</th>\n",
              "      <td>35163.75</td>\n",
              "      <td>35225.20</td>\n",
              "      <td>34859.90</td>\n",
              "      <td>35071.95</td>\n",
              "      <td>365.3</td>\n",
              "      <td>91.8</td>\n",
              "    </tr>\n",
              "  </tbody>\n",
              "</table>\n",
              "</div>"
            ],
            "text/plain": [
              "                Open      High       Low     Close (High-Low) (Open-Close)\n",
              "Date                                                                      \n",
              "2021-07-05  35010.95  35234.30  34926.40  35212.00      307.9      -201.05\n",
              "2021-07-06  35173.60  35807.45  35165.55  35579.15      641.9      -405.55\n",
              "2021-07-07  35550.60  35795.75  35427.65  35771.30      368.1       -220.7\n",
              "2021-07-08  35603.25  35811.00  35134.65  35274.10     676.35       329.15\n",
              "2021-07-09  35163.75  35225.20  34859.90  35071.95      365.3         91.8"
            ]
          },
          "metadata": {
            "tags": []
          },
          "execution_count": 6
        }
      ]
    },
    {
      "cell_type": "code",
      "metadata": {
        "id": "yLfla50ZqkWr"
      },
      "source": [
        "def plot_attribute(df, attritube ,start='2016', end='2021',color ='blue'):\n",
        "    fig, ax = plt.subplots(1, figsize=(20,5))\n",
        "    ax.plot(df[start:end].index, df[start:end][attritube],'tab:{}'.format(color))\n",
        "    ax.set_title(\"Bank Nifty stock {} from 2016 to 2021\".format(attritube))\n",
        "    \n",
        "    ax.axhline(y=df[start:end].describe()[attritube][\"max\"],linewidth=2, color='m')\n",
        "    ax.axhline(y=df[start:end].describe()[attritube][\"min\"],linewidth=2, color='c')\n",
        "    ax.axvline(x=df[attritube].idxmax(),linewidth=2, color='b')\n",
        "    ax.axvline(x=df[attritube].idxmin() ,linewidth=2, color='y')\n",
        "\n",
        "    ax.text(x=df[attritube].idxmax(),\n",
        "            y=df[start:end].describe()[attritube][\"max\"],\n",
        "            s='MAX',\n",
        "            horizontalalignment='right',\n",
        "            verticalalignment='bottom',\n",
        "            color='blue',\n",
        "            fontsize=20)\n",
        "    \n",
        "    ax.text(x=df[attritube].idxmin(),\n",
        "            y=df[start:end].describe()[attritube][\"min\"],\n",
        "            s='MIN',\n",
        "            horizontalalignment='left',\n",
        "            verticalalignment='top',\n",
        "            color='red',\n",
        "            fontsize=20)\n",
        "    \n",
        "    plt.show()\n",
        "    print(\"Max Value :  \",df[start:end].describe()[attritube][\"max\"])\n",
        "    print(\"Min Value :  \",df[start:end].describe()[attritube][\"min\"])"
      ],
      "execution_count": null,
      "outputs": []
    },
    {
      "cell_type": "code",
      "metadata": {
        "colab": {
          "base_uri": "https://localhost:8080/",
          "height": 323
        },
        "id": "4PDyrXEgrp-6",
        "outputId": "68d30026-4f1d-4349-d424-941a120d9245"
      },
      "source": [
        "plot_attribute(df,\"Close\",color='red')"
      ],
      "execution_count": null,
      "outputs": [
        {
          "output_type": "display_data",
          "data": {
            "image/png": "[encoded data removed]",
            "text/plain": [
              "<Figure size 1440x360 with 1 Axes>"
            ]
          },
          "metadata": {
            "tags": [],
            "needs_background": "light"
          }
        },
        {
          "output_type": "stream",
          "text": [
            "Max Value :   37306.25\n",
            "Min Value :   13555.7\n"
          ],
          "name": "stdout"
        }
      ]
    },
    {
      "cell_type": "code",
      "metadata": {
        "colab": {
          "base_uri": "https://localhost:8080/"
        },
        "id": "E_vTCkS6rtSE",
        "outputId": "5281305b-6958-4d6e-bfb0-0ac625e599b1"
      },
      "source": [
        "dicky_fuller_result = adfuller(df['Close'])\n",
        "dicky_fuller_result"
      ],
      "execution_count": null,
      "outputs": [
        {
          "output_type": "execute_result",
          "data": {
            "text/plain": [
              "(-1.46144768192381,\n",
              " 0.5524891826577587,\n",
              " 7,\n",
              " 1358,\n",
              " {'1%': -3.4351745242248715,\n",
              "  '10%': -2.567904365598721,\n",
              "  '5%': -2.8636706623947417},\n",
              " 19736.560894214304)"
            ]
          },
          "metadata": {
            "tags": []
          },
          "execution_count": 10
        }
      ]
    },
    {
      "cell_type": "markdown",
      "metadata": {
        "id": "g0bFyaQ648KZ"
      },
      "source": [
        "0th element is test statistic (-1.46144768192381)\n",
        "\n",
        "More negative means more likely to be stationary\n",
        "\n",
        "1st element is p-value: (0.5524891826577587)\n",
        "\n",
        "1. If p-value is small then 0.05→reject null hypothesis. Reject non-stationary.\n",
        "2. which is more than 0.05 null hypothesis is True and this is a random walk.\n",
        "\n",
        "4th element is the criticaltest statistics"
      ]
    },
    {
      "cell_type": "code",
      "metadata": {
        "id": "zmPfJVopr1DL"
      },
      "source": [
        "#plot_attribute(#df.diff(),\"Close\",color='red')"
      ],
      "execution_count": null,
      "outputs": []
    },
    {
      "cell_type": "markdown",
      "metadata": {
        "id": "9TxPsOdYcNd8"
      },
      "source": [
        "Window functions\n",
        "Window functions are used to identify sub periods, calculates sub-metrics of sub-periods.\n",
        "Rolling - Same size and sliding\n",
        "Expanding - Contains all prior values"
      ]
    },
    {
      "cell_type": "code",
      "metadata": {
        "colab": {
          "base_uri": "https://localhost:8080/",
          "height": 290
        },
        "id": "qQd_OAYGs06s",
        "outputId": "45291c9f-b5c3-4493-beef-383a3913b0bc"
      },
      "source": [
        "some_part_of_data = df['2016':'2021']\n",
        "\n",
        "rolling_df_10 = some_part_of_data['Close'].rolling('10D').mean()\n",
        "rolling_df_50 = some_part_of_data['Close'].rolling('50D').mean()\n",
        "rolling_df_100 = some_part_of_data['Close'].rolling('100D').mean()\n",
        "\n",
        "fig, ax = plt.subplots(1, figsize=(20,5))\n",
        "ax.plot(some_part_of_data.index,some_part_of_data['Close'])\n",
        "ax.plot(rolling_df_10.index, rolling_df_10)\n",
        "ax.plot(rolling_df_50.index, rolling_df_50)\n",
        "ax.plot(rolling_df_100.index, rolling_df_100)\n",
        "ax.set_title(\"Plotting a rolling mean of 10,50,100 day window with original Close attribute of Bank Nifty stocks\")\n",
        "plt.legend(['Data','10D','50D','100D'])\n",
        "plt.show()"
      ],
      "execution_count": null,
      "outputs": [
        {
          "output_type": "display_data",
          "data": {
            "image/png": "[encoded data removed]",
            "text/plain": [
              "<Figure size 1440x360 with 1 Axes>"
            ]
          },
          "metadata": {
            "tags": [],
            "needs_background": "light"
          }
        }
      ]
    },
    {
      "cell_type": "code",
      "metadata": {
        "colab": {
          "base_uri": "https://localhost:8080/",
          "height": 541
        },
        "id": "8FGF46kYs70c",
        "outputId": "5cbae356-471d-486e-f638-8980154eb40f"
      },
      "source": [
        "# Obtain data from the data frame\n",
        "OHLC_data = df['6-2020':'2020']\n",
        "\n",
        "fig = go.Figure(data=go.Ohlc(x=OHLC_data.index,\n",
        "                            open=OHLC_data['Open'],\n",
        "                            high=OHLC_data['High'],\n",
        "                            low=OHLC_data['Low'],\n",
        "                            close=OHLC_data['Close']))\n",
        "\n",
        "fig.update_layout(title_text='Bank Nifty Index From June 2020 to July 2020',\n",
        "                  title={\n",
        "                    'y':0.9,\n",
        "                    'x':0.5,\n",
        "                    'xanchor': 'center',\n",
        "                    'yanchor': 'top'},\n",
        "                  xaxis_rangeslider_visible=True, \n",
        "                  xaxis_title=\"Time\", \n",
        "                  yaxis_title=\"Price\")\n",
        "\n",
        "fig.show()"
      ],
      "execution_count": null,
      "outputs": [
        {
          "output_type": "display_data",
          "data": {
            "text/html": [
              "<div>\n",
              "        \n",
              "        \n",
              "            <div id=\"0f08ac02-f0b0-40bd-acd1-b5ba6aa2debd\" class=\"plotly-graph-div\" style=\"height:525px; width:100%;\"></div>\n",
              "            <script type=\"text/javascript\">\n",
              "                require([\"plotly\"], function(Plotly) {\n",
              "                    window.PLOTLYENV=window.PLOTLYENV || {};\n",
              "                    \n",
              "                if (document.getElementById(\"0f08ac02-f0b0-40bd-acd1-b5ba6aa2debd\")) {\n",
              "                    Plotly.newPlot(\n",
              "                        '0f08ac02-f0b0-40bd-acd1-b5ba6aa2debd',\n",
              "                        [{\"close\": [19959.9, 20530.2, 20940.7, 20390.45, 21034.5, 21187.35, 20724.9, 21100.1, 20525.15, 20654.55, 19912.9, 20296.7, 20201.75, 20956.3, 21338.1, 21708.35, 22264.9, 21426.8, 21506.15, 21592.05, 21359.0, 21370.15, 21977.6, 21953.2, 21852.4, 22198.95, 22628.0, 22584.65, 22907.2, 22398.45, 22089.25, 21392.2, 21340.75, 21597.15, 21966.8, 22321.85, 22782.0, 22882.6, 23083.9, 22662.05, 21848.75, 22105.2, 22076.6, 21646.85, 21640.05, 21072.1, 21490.5, 21509.95, 21642.6, 21754.0, 21900.25, 22227.2, 22264.0, 22196.35, 21679.4, 21700.85, 22170.6, 22285.9, 21999.45, 22299.6, 22833.0, 23092.15, 23414.2, 23600.35, 24523.8, 23754.35, 23812.0, 23874.55, 23530.85, 23011.5, 22945.05, 22744.4, 22267.0, 22466.2, 22479.95, 22101.25, 22465.65, 22573.55, 22320.35, 22031.05, 21366.8, 21139.1, 21178.5, 20456.85, 20982.35, 21665.5, 21411.3, 21451.8, 22246.0, 22370.95, 22853.7, 22964.8, 23191.35, 23846.8, 23712.8, 23492.2, 23874.65, 23072.4, 23533.25, 24266.75, 24311.8, 24635.05, 24484.15, 24478.3, 24075.45, 24769.5, 24232.5, 24092.0, 23900.9, 24892.5, 25682.8, 25771.6, 26313.1, 26798.95, 27534.1, 28606.0, 28845.0, 28278.8, 28465.7, 28594.3, 29181.3, 29749.85, 28903.05, 29236.0, 29024.2, 29737.25, 29196.4, 29549.75, 29609.05, 29817.85, 29463.15, 29448.75, 30052.4, 30211.55, 30261.9, 30709.4, 30510.35, 30604.85, 30745.9, 30691.05, 30698.4, 30847.05, 30714.65, 29456.45, 29625.95, 29883.3, 30402.2, 30880.95, 31322.5, 31303.05, 31264.05], \"high\": [20225.35, 20615.75, 21619.55, 21141.8, 21198.7, 21807.4, 21568.85, 21251.45, 21244.45, 20747.7, 20470.85, 20638.85, 20627.9, 21028.35, 21467.65, 22078.25, 22322.3, 22479.55, 21703.5, 21784.65, 21440.05, 21650.5, 22061.6, 22344.85, 22130.3, 22399.25, 22674.5, 23080.6, 22998.3, 22835.2, 22657.4, 21909.7, 21935.5, 21671.25, 22065.0, 22520.45, 22861.9, 23211.35, 23122.35, 22854.05, 22668.05, 22233.0, 22346.4, 22252.6, 21806.95, 21543.8, 21576.35, 21936.5, 21926.55, 21787.25, 22071.95, 22277.6, 22326.55, 22439.95, 22334.95, 21909.4, 22227.75, 22419.35, 22079.9, 22344.05, 22897.5, 23180.3, 23453.4, 23704.05, 24611.8, 25232.6, 24199.65, 23926.15, 24051.6, 23394.8, 23109.1, 23064.15, 22554.6, 22678.65, 22668.75, 22757.3, 22514.15, 22659.4, 22504.45, 22469.4, 22098.85, 21473.35, 21365.05, 20955.6, 21064.3, 21708.85, 21811.5, 21549.35, 22293.75, 22768.55, 22893.5, 23036.2, 23450.9, 23904.1, 24190.35, 23775.15, 23962.7, 24087.85, 23646.2, 24320.95, 24410.9, 24823.6, 24691.15, 24764.15, 24577.3, 24809.65, 24780.7, 24339.1, 24277.35, 25139.0, 25760.7, 25891.0, 26375.2, 26853.45, 27595.0, 28802.5, 29030.9, 28672.9, 28520.55, 28752.45, 29239.25, 29784.75, 29627.2, 29406.7, 29492.3, 29827.8, 30197.85, 29623.0, 29716.85, 29919.75, 29886.25, 29813.0, 30162.3, 30354.2, 30363.8, 30807.25, 30610.0, 30811.8, 30845.8, 30805.85, 30932.25, 30945.2, 30854.05, 30607.5, 29711.15, 29941.4, 30545.85, 30929.05, 31359.35, 31510.25, 31409.5], \"low\": [19632.9, 19852.55, 20822.0, 20316.2, 20425.05, 20911.25, 20629.7, 20671.55, 20458.3, 19526.1, 19740.2, 19507.05, 19978.15, 20030.35, 20878.25, 21425.55, 21647.8, 21336.35, 20926.45, 21320.1, 21026.45, 21212.0, 21281.85, 21890.5, 21768.0, 22171.05, 22040.35, 22499.5, 22673.4, 22320.05, 21981.65, 21222.45, 21230.55, 21027.85, 21550.8, 22187.8, 22597.95, 22658.2, 22734.9, 22417.2, 21801.35, 21611.4, 21906.35, 21580.15, 21375.0, 21031.45, 21057.75, 21448.4, 21370.3, 21451.3, 21795.1, 22039.85, 21990.2, 22139.6, 21459.1, 21403.15, 21629.4, 22234.25, 21886.7, 22165.05, 22410.05, 22857.9, 23093.15, 23464.15, 23599.2, 23385.3, 23473.15, 23482.55, 23451.65, 22876.9, 22716.25, 22641.4, 22080.4, 22225.25, 22205.95, 22028.15, 22062.35, 22216.5, 22267.05, 21784.9, 21274.3, 20958.45, 20821.0, 20404.9, 20430.7, 21055.1, 21280.6, 21128.5, 21664.15, 22247.25, 22521.05, 22607.8, 23063.6, 23132.45, 23552.6, 23431.5, 23149.45, 22970.95, 23148.95, 23754.85, 24039.85, 24099.85, 24250.2, 24360.85, 23867.75, 23924.2, 24057.95, 23822.05, 23612.7, 24120.6, 25085.7, 25142.0, 26000.05, 26135.3, 27068.95, 27916.9, 28211.1, 28066.05, 27703.3, 28431.85, 28722.9, 29056.75, 28819.55, 28580.9, 28852.9, 29206.75, 29132.3, 28923.1, 29368.7, 29511.0, 29149.9, 29379.4, 29473.5, 29950.6, 30025.2, 30326.7, 30202.1, 30328.45, 30624.25, 30345.75, 30587.1, 30643.9, 30374.5, 29201.2, 28976.75, 29446.0, 30007.8, 30538.15, 31002.6, 31007.15, 31088.1], \"open\": [19728.9, 20120.6, 20966.6, 20932.35, 20516.4, 21636.1, 21295.5, 20760.95, 21084.7, 19529.3, 20457.15, 20500.65, 20137.45, 20137.6, 20970.1, 21491.55, 21859.25, 22479.35, 21218.05, 21735.05, 21291.55, 21524.3, 21354.1, 22133.8, 22101.75, 22270.95, 22254.3, 22700.9, 22753.15, 22720.95, 22613.25, 21877.6, 21634.25, 21453.25, 21608.05, 22307.3, 22639.85, 23159.0, 22854.85, 22853.2, 22664.6, 21940.15, 22075.0, 22195.05, 21730.55, 21543.8, 21248.25, 21686.85, 21644.25, 21620.25, 21824.9, 22050.2, 22135.95, 22395.2, 22334.95, 21906.95, 21702.0, 22315.4, 21989.9, 22190.7, 22436.85, 22973.4, 23175.55, 23511.45, 23635.3, 25038.8, 23893.8, 23769.0, 23986.15, 23119.15, 23036.25, 22971.2, 22486.7, 22466.55, 22509.95, 22683.35, 22202.8, 22476.3, 22352.0, 22439.35, 21983.4, 21445.25, 21350.8, 20898.8, 20740.8, 21152.05, 21770.9, 21405.25, 21685.25, 22352.1, 22673.05, 22836.95, 23150.25, 23312.6, 23955.6, 23663.05, 23353.15, 23920.35, 23219.85, 23902.9, 24117.35, 24444.2, 24447.35, 24669.2, 24525.8, 24288.05, 24737.85, 24063.5, 24090.15, 24367.6, 25108.0, 25539.55, 26174.8, 26274.1, 27088.95, 28039.45, 28713.15, 28633.75, 28108.7, 28685.7, 28792.25, 29107.9, 29302.6, 28935.75, 29432.8, 29265.6, 30021.9, 29370.4, 29622.0, 29844.8, 29876.7, 29728.9, 29573.4, 30062.6, 30300.3, 30335.05, 30545.35, 30555.3, 30735.15, 30805.4, 30920.35, 30791.2, 30841.85, 30595.8, 29607.5, 29560.75, 30071.65, 30558.85, 31006.9, 31479.8, 31295.9], \"type\": \"ohlc\", \"x\": [\"2020-06-01T00:00:00\", \"2020-06-02T00:00:00\", \"2020-06-03T00:00:00\", \"2020-06-04T00:00:00\", \"2020-06-05T00:00:00\", \"2020-06-08T00:00:00\", \"2020-06-09T00:00:00\", \"2020-06-10T00:00:00\", \"2020-06-11T00:00:00\", \"2020-06-12T00:00:00\", \"2020-06-15T00:00:00\", \"2020-06-16T00:00:00\", \"2020-06-17T00:00:00\", \"2020-06-18T00:00:00\", \"2020-06-19T00:00:00\", \"2020-06-22T00:00:00\", \"2020-06-23T00:00:00\", \"2020-06-24T00:00:00\", \"2020-06-25T00:00:00\", \"2020-06-26T00:00:00\", \"2020-06-29T00:00:00\", \"2020-06-30T00:00:00\", \"2020-07-01T00:00:00\", \"2020-07-02T00:00:00\", \"2020-07-03T00:00:00\", \"2020-07-06T00:00:00\", \"2020-07-07T00:00:00\", \"2020-07-08T00:00:00\", \"2020-07-09T00:00:00\", \"2020-07-10T00:00:00\", \"2020-07-13T00:00:00\", \"2020-07-14T00:00:00\", \"2020-07-15T00:00:00\", \"2020-07-16T00:00:00\", \"2020-07-17T00:00:00\", \"2020-07-20T00:00:00\", \"2020-07-21T00:00:00\", \"2020-07-22T00:00:00\", \"2020-07-23T00:00:00\", \"2020-07-24T00:00:00\", \"2020-07-27T00:00:00\", \"2020-07-28T00:00:00\", \"2020-07-29T00:00:00\", \"2020-07-30T00:00:00\", \"2020-07-31T00:00:00\", \"2020-08-03T00:00:00\", \"2020-08-04T00:00:00\", \"2020-08-05T00:00:00\", \"2020-08-06T00:00:00\", \"2020-08-07T00:00:00\", \"2020-08-10T00:00:00\", \"2020-08-11T00:00:00\", \"2020-08-12T00:00:00\", \"2020-08-13T00:00:00\", \"2020-08-14T00:00:00\", \"2020-08-17T00:00:00\", \"2020-08-18T00:00:00\", \"2020-08-19T00:00:00\", \"2020-08-20T00:00:00\", \"2020-08-21T00:00:00\", \"2020-08-24T00:00:00\", \"2020-08-25T00:00:00\", \"2020-08-26T00:00:00\", \"2020-08-27T00:00:00\", \"2020-08-28T00:00:00\", \"2020-08-31T00:00:00\", \"2020-09-01T00:00:00\", \"2020-09-02T00:00:00\", \"2020-09-03T00:00:00\", \"2020-09-04T00:00:00\", \"2020-09-07T00:00:00\", \"2020-09-08T00:00:00\", \"2020-09-09T00:00:00\", \"2020-09-10T00:00:00\", \"2020-09-11T00:00:00\", \"2020-09-14T00:00:00\", \"2020-09-15T00:00:00\", \"2020-09-16T00:00:00\", \"2020-09-17T00:00:00\", \"2020-09-18T00:00:00\", \"2020-09-21T00:00:00\", \"2020-09-22T00:00:00\", \"2020-09-23T00:00:00\", \"2020-09-24T00:00:00\", \"2020-09-25T00:00:00\", \"2020-09-28T00:00:00\", \"2020-09-29T00:00:00\", \"2020-09-30T00:00:00\", \"2020-10-01T00:00:00\", \"2020-10-05T00:00:00\", \"2020-10-06T00:00:00\", \"2020-10-07T00:00:00\", \"2020-10-08T00:00:00\", \"2020-10-09T00:00:00\", \"2020-10-12T00:00:00\", \"2020-10-13T00:00:00\", \"2020-10-14T00:00:00\", \"2020-10-15T00:00:00\", \"2020-10-16T00:00:00\", \"2020-10-19T00:00:00\", \"2020-10-20T00:00:00\", \"2020-10-21T00:00:00\", \"2020-10-22T00:00:00\", \"2020-10-23T00:00:00\", \"2020-10-26T00:00:00\", \"2020-10-27T00:00:00\", \"2020-10-28T00:00:00\", \"2020-10-29T00:00:00\", \"2020-10-30T00:00:00\", \"2020-11-02T00:00:00\", \"2020-11-03T00:00:00\", \"2020-11-04T00:00:00\", \"2020-11-05T00:00:00\", \"2020-11-06T00:00:00\", \"2020-11-09T00:00:00\", \"2020-11-10T00:00:00\", \"2020-11-11T00:00:00\", \"2020-11-12T00:00:00\", \"2020-11-13T00:00:00\", \"2020-11-14T00:00:00\", \"2020-11-17T00:00:00\", \"2020-11-18T00:00:00\", \"2020-11-19T00:00:00\", \"2020-11-20T00:00:00\", \"2020-11-23T00:00:00\", \"2020-11-24T00:00:00\", \"2020-11-25T00:00:00\", \"2020-11-26T00:00:00\", \"2020-11-27T00:00:00\", \"2020-12-01T00:00:00\", \"2020-12-02T00:00:00\", \"2020-12-03T00:00:00\", \"2020-12-04T00:00:00\", \"2020-12-07T00:00:00\", \"2020-12-08T00:00:00\", \"2020-12-09T00:00:00\", \"2020-12-10T00:00:00\", \"2020-12-11T00:00:00\", \"2020-12-14T00:00:00\", \"2020-12-15T00:00:00\", \"2020-12-16T00:00:00\", \"2020-12-17T00:00:00\", \"2020-12-18T00:00:00\", \"2020-12-21T00:00:00\", \"2020-12-22T00:00:00\", \"2020-12-23T00:00:00\", \"2020-12-24T00:00:00\", \"2020-12-28T00:00:00\", \"2020-12-29T00:00:00\", \"2020-12-30T00:00:00\", \"2020-12-31T00:00:00\"]}],\n",
              "                        {\"template\": {\"data\": {\"bar\": [{\"error_x\": {\"color\": \"#2a3f5f\"}, \"error_y\": {\"color\": \"#2a3f5f\"}, \"marker\": {\"line\": {\"color\": \"#E5ECF6\", \"width\": 0.5}}, \"type\": \"bar\"}], \"barpolar\": [{\"marker\": {\"line\": {\"color\": \"#E5ECF6\", \"width\": 0.5}}, \"type\": \"barpolar\"}], \"carpet\": [{\"aaxis\": {\"endlinecolor\": \"#2a3f5f\", \"gridcolor\": \"white\", \"linecolor\": \"white\", \"minorgridcolor\": \"white\", \"startlinecolor\": \"#2a3f5f\"}, \"baxis\": {\"endlinecolor\": \"#2a3f5f\", \"gridcolor\": \"white\", \"linecolor\": \"white\", \"minorgridcolor\": \"white\", \"startlinecolor\": \"#2a3f5f\"}, \"type\": \"carpet\"}], \"choropleth\": [{\"colorbar\": {\"outlinewidth\": 0, \"ticks\": \"\"}, \"type\": \"choropleth\"}], \"contour\": [{\"colorbar\": {\"outlinewidth\": 0, \"ticks\": \"\"}, \"colorscale\": [[0.0, \"#0d0887\"], [0.1111111111111111, \"#46039f\"], [0.2222222222222222, \"#7201a8\"], [0.3333333333333333, \"#9c179e\"], [0.4444444444444444, \"#bd3786\"], [0.5555555555555556, \"#d8576b\"], [0.6666666666666666, \"#ed7953\"], [0.7777777777777778, \"#fb9f3a\"], [0.8888888888888888, \"#fdca26\"], [1.0, \"#f0f921\"]], \"type\": \"contour\"}], \"contourcarpet\": [{\"colorbar\": {\"outlinewidth\": 0, \"ticks\": \"\"}, \"type\": \"contourcarpet\"}], \"heatmap\": [{\"colorbar\": {\"outlinewidth\": 0, \"ticks\": \"\"}, \"colorscale\": [[0.0, \"#0d0887\"], [0.1111111111111111, \"#46039f\"], [0.2222222222222222, \"#7201a8\"], [0.3333333333333333, \"#9c179e\"], [0.4444444444444444, \"#bd3786\"], [0.5555555555555556, \"#d8576b\"], [0.6666666666666666, \"#ed7953\"], [0.7777777777777778, \"#fb9f3a\"], [0.8888888888888888, \"#fdca26\"], [1.0, \"#f0f921\"]], \"type\": \"heatmap\"}], \"heatmapgl\": [{\"colorbar\": {\"outlinewidth\": 0, \"ticks\": \"\"}, \"colorscale\": [[0.0, \"#0d0887\"], [0.1111111111111111, \"#46039f\"], [0.2222222222222222, \"#7201a8\"], [0.3333333333333333, \"#9c179e\"], [0.4444444444444444, \"#bd3786\"], [0.5555555555555556, \"#d8576b\"], [0.6666666666666666, \"#ed7953\"], [0.7777777777777778, \"#fb9f3a\"], [0.8888888888888888, \"#fdca26\"], [1.0, \"#f0f921\"]], \"type\": \"heatmapgl\"}], \"histogram\": [{\"marker\": {\"colorbar\": {\"outlinewidth\": 0, \"ticks\": \"\"}}, \"type\": \"histogram\"}], \"histogram2d\": [{\"colorbar\": {\"outlinewidth\": 0, \"ticks\": \"\"}, \"colorscale\": [[0.0, \"#0d0887\"], [0.1111111111111111, \"#46039f\"], [0.2222222222222222, \"#7201a8\"], [0.3333333333333333, \"#9c179e\"], [0.4444444444444444, \"#bd3786\"], [0.5555555555555556, \"#d8576b\"], [0.6666666666666666, \"#ed7953\"], [0.7777777777777778, \"#fb9f3a\"], [0.8888888888888888, \"#fdca26\"], [1.0, \"#f0f921\"]], \"type\": \"histogram2d\"}], \"histogram2dcontour\": [{\"colorbar\": {\"outlinewidth\": 0, \"ticks\": \"\"}, \"colorscale\": [[0.0, \"#0d0887\"], [0.1111111111111111, \"#46039f\"], [0.2222222222222222, \"#7201a8\"], [0.3333333333333333, \"#9c179e\"], [0.4444444444444444, \"#bd3786\"], [0.5555555555555556, \"#d8576b\"], [0.6666666666666666, \"#ed7953\"], [0.7777777777777778, \"#fb9f3a\"], [0.8888888888888888, \"#fdca26\"], [1.0, \"#f0f921\"]], \"type\": \"histogram2dcontour\"}], \"mesh3d\": [{\"colorbar\": {\"outlinewidth\": 0, \"ticks\": \"\"}, \"type\": \"mesh3d\"}], \"parcoords\": [{\"line\": {\"colorbar\": {\"outlinewidth\": 0, \"ticks\": \"\"}}, \"type\": \"parcoords\"}], \"pie\": [{\"automargin\": true, \"type\": \"pie\"}], \"scatter\": [{\"marker\": {\"colorbar\": {\"outlinewidth\": 0, \"ticks\": \"\"}}, \"type\": \"scatter\"}], \"scatter3d\": [{\"line\": {\"colorbar\": {\"outlinewidth\": 0, \"ticks\": \"\"}}, \"marker\": {\"colorbar\": {\"outlinewidth\": 0, \"ticks\": \"\"}}, \"type\": \"scatter3d\"}], \"scattercarpet\": [{\"marker\": {\"colorbar\": {\"outlinewidth\": 0, \"ticks\": \"\"}}, \"type\": \"scattercarpet\"}], \"scattergeo\": [{\"marker\": {\"colorbar\": {\"outlinewidth\": 0, \"ticks\": \"\"}}, \"type\": \"scattergeo\"}], \"scattergl\": [{\"marker\": {\"colorbar\": {\"outlinewidth\": 0, \"ticks\": \"\"}}, \"type\": \"scattergl\"}], \"scattermapbox\": [{\"marker\": {\"colorbar\": {\"outlinewidth\": 0, \"ticks\": \"\"}}, \"type\": \"scattermapbox\"}], \"scatterpolar\": [{\"marker\": {\"colorbar\": {\"outlinewidth\": 0, \"ticks\": \"\"}}, \"type\": \"scatterpolar\"}], \"scatterpolargl\": [{\"marker\": {\"colorbar\": {\"outlinewidth\": 0, \"ticks\": \"\"}}, \"type\": \"scatterpolargl\"}], \"scatterternary\": [{\"marker\": {\"colorbar\": {\"outlinewidth\": 0, \"ticks\": \"\"}}, \"type\": \"scatterternary\"}], \"surface\": [{\"colorbar\": {\"outlinewidth\": 0, \"ticks\": \"\"}, \"colorscale\": [[0.0, \"#0d0887\"], [0.1111111111111111, \"#46039f\"], [0.2222222222222222, \"#7201a8\"], [0.3333333333333333, \"#9c179e\"], [0.4444444444444444, \"#bd3786\"], [0.5555555555555556, \"#d8576b\"], [0.6666666666666666, \"#ed7953\"], [0.7777777777777778, \"#fb9f3a\"], [0.8888888888888888, \"#fdca26\"], [1.0, \"#f0f921\"]], \"type\": \"surface\"}], \"table\": [{\"cells\": {\"fill\": {\"color\": \"#EBF0F8\"}, \"line\": {\"color\": \"white\"}}, \"header\": {\"fill\": {\"color\": \"#C8D4E3\"}, \"line\": {\"color\": \"white\"}}, \"type\": \"table\"}]}, \"layout\": {\"annotationdefaults\": {\"arrowcolor\": \"#2a3f5f\", \"arrowhead\": 0, \"arrowwidth\": 1}, \"coloraxis\": {\"colorbar\": {\"outlinewidth\": 0, \"ticks\": \"\"}}, \"colorscale\": {\"diverging\": [[0, \"#8e0152\"], [0.1, \"#c51b7d\"], [0.2, \"#de77ae\"], [0.3, \"#f1b6da\"], [0.4, \"#fde0ef\"], [0.5, \"#f7f7f7\"], [0.6, \"#e6f5d0\"], [0.7, \"#b8e186\"], [0.8, \"#7fbc41\"], [0.9, \"#4d9221\"], [1, \"#276419\"]], \"sequential\": [[0.0, \"#0d0887\"], [0.1111111111111111, \"#46039f\"], [0.2222222222222222, \"#7201a8\"], [0.3333333333333333, \"#9c179e\"], [0.4444444444444444, \"#bd3786\"], [0.5555555555555556, \"#d8576b\"], [0.6666666666666666, \"#ed7953\"], [0.7777777777777778, \"#fb9f3a\"], [0.8888888888888888, \"#fdca26\"], [1.0, \"#f0f921\"]], \"sequentialminus\": [[0.0, \"#0d0887\"], [0.1111111111111111, \"#46039f\"], [0.2222222222222222, \"#7201a8\"], [0.3333333333333333, \"#9c179e\"], [0.4444444444444444, \"#bd3786\"], [0.5555555555555556, \"#d8576b\"], [0.6666666666666666, \"#ed7953\"], [0.7777777777777778, \"#fb9f3a\"], [0.8888888888888888, \"#fdca26\"], [1.0, \"#f0f921\"]]}, \"colorway\": [\"#636efa\", \"#EF553B\", \"#00cc96\", \"#ab63fa\", \"#FFA15A\", \"#19d3f3\", \"#FF6692\", \"#B6E880\", \"#FF97FF\", \"#FECB52\"], \"font\": {\"color\": \"#2a3f5f\"}, \"geo\": {\"bgcolor\": \"white\", \"lakecolor\": \"white\", \"landcolor\": \"#E5ECF6\", \"showlakes\": true, \"showland\": true, \"subunitcolor\": \"white\"}, \"hoverlabel\": {\"align\": \"left\"}, \"hovermode\": \"closest\", \"mapbox\": {\"style\": \"light\"}, \"paper_bgcolor\": \"white\", \"plot_bgcolor\": \"#E5ECF6\", \"polar\": {\"angularaxis\": {\"gridcolor\": \"white\", \"linecolor\": \"white\", \"ticks\": \"\"}, \"bgcolor\": \"#E5ECF6\", \"radialaxis\": {\"gridcolor\": \"white\", \"linecolor\": \"white\", \"ticks\": \"\"}}, \"scene\": {\"xaxis\": {\"backgroundcolor\": \"#E5ECF6\", \"gridcolor\": \"white\", \"gridwidth\": 2, \"linecolor\": \"white\", \"showbackground\": true, \"ticks\": \"\", \"zerolinecolor\": \"white\"}, \"yaxis\": {\"backgroundcolor\": \"#E5ECF6\", \"gridcolor\": \"white\", \"gridwidth\": 2, \"linecolor\": \"white\", \"showbackground\": true, \"ticks\": \"\", \"zerolinecolor\": \"white\"}, \"zaxis\": {\"backgroundcolor\": \"#E5ECF6\", \"gridcolor\": \"white\", \"gridwidth\": 2, \"linecolor\": \"white\", \"showbackground\": true, \"ticks\": \"\", \"zerolinecolor\": \"white\"}}, \"shapedefaults\": {\"line\": {\"color\": \"#2a3f5f\"}}, \"ternary\": {\"aaxis\": {\"gridcolor\": \"white\", \"linecolor\": \"white\", \"ticks\": \"\"}, \"baxis\": {\"gridcolor\": \"white\", \"linecolor\": \"white\", \"ticks\": \"\"}, \"bgcolor\": \"#E5ECF6\", \"caxis\": {\"gridcolor\": \"white\", \"linecolor\": \"white\", \"ticks\": \"\"}}, \"title\": {\"x\": 0.05}, \"xaxis\": {\"automargin\": true, \"gridcolor\": \"white\", \"linecolor\": \"white\", \"ticks\": \"\", \"title\": {\"standoff\": 15}, \"zerolinecolor\": \"white\", \"zerolinewidth\": 2}, \"yaxis\": {\"automargin\": true, \"gridcolor\": \"white\", \"linecolor\": \"white\", \"ticks\": \"\", \"title\": {\"standoff\": 15}, \"zerolinecolor\": \"white\", \"zerolinewidth\": 2}}}, \"title\": {\"text\": \"Bank Nifty Index From June 2020 to July 2020\", \"x\": 0.5, \"xanchor\": \"center\", \"y\": 0.9, \"yanchor\": \"top\"}, \"xaxis\": {\"rangeslider\": {\"visible\": true}, \"title\": {\"text\": \"Time\"}}, \"yaxis\": {\"title\": {\"text\": \"Price\"}}},\n",
              "                        {\"responsive\": true}\n",
              "                    ).then(function(){\n",
              "                            \n",
              "var gd = document.getElementById('0f08ac02-f0b0-40bd-acd1-b5ba6aa2debd');\n",
              "var x = new MutationObserver(function (mutations, observer) {{\n",
              "        var display = window.getComputedStyle(gd).display;\n",
              "        if (!display || display === 'none') {{\n",
              "            console.log([gd, 'removed!']);\n",
              "            Plotly.purge(gd);\n",
              "            observer.disconnect();\n",
              "        }}\n",
              "}});\n",
              "\n",
              "// Listen for the removal of the full notebook cells\n",
              "var notebookContainer = gd.closest('#notebook-container');\n",
              "if (notebookContainer) {{\n",
              "    x.observe(notebookContainer, {childList: true});\n",
              "}}\n",
              "\n",
              "// Listen for the clearing of the current output cell\n",
              "var outputEl = gd.closest('.output');\n",
              "if (outputEl) {{\n",
              "    x.observe(outputEl, {childList: true});\n",
              "}}\n",
              "\n",
              "                        })\n",
              "                };\n",
              "                });\n",
              "            </script>\n",
              "        </div>"
            ],
            "application/vnd.plotly.v1+json": {
              "data": [
                {
                  "type": "ohlc",
                  "high": [
                    20225.35,
                    20615.75,
                    21619.55,
                    21141.8,
                    21198.7,
                    21807.4,
                    21568.85,
                    21251.45,
                    21244.45,
                    20747.7,
                    20470.85,
                    20638.85,
                    20627.9,
                    21028.35,
                    21467.65,
                    22078.25,
                    22322.3,
                    22479.55,
                    21703.5,
                    21784.65,
                    21440.05,
                    21650.5,
                    22061.6,
                    22344.85,
                    22130.3,
                    22399.25,
                    22674.5,
                    23080.6,
                    22998.3,
                    22835.2,
                    22657.4,
                    21909.7,
                    21935.5,
                    21671.25,
                    22065,
                    22520.45,
                    22861.9,
                    23211.35,
                    23122.35,
                    22854.05,
                    22668.05,
                    22233,
                    22346.4,
                    22252.6,
                    21806.95,
                    21543.8,
                    21576.35,
                    21936.5,
                    21926.55,
                    21787.25,
                    22071.95,
                    22277.6,
                    22326.55,
                    22439.95,
                    22334.95,
                    21909.4,
                    22227.75,
                    22419.35,
                    22079.9,
                    22344.05,
                    22897.5,
                    23180.3,
                    23453.4,
                    23704.05,
                    24611.8,
                    25232.6,
                    24199.65,
                    23926.15,
                    24051.6,
                    23394.8,
                    23109.1,
                    23064.15,
                    22554.6,
                    22678.65,
                    22668.75,
                    22757.3,
                    22514.15,
                    22659.4,
                    22504.45,
                    22469.4,
                    22098.85,
                    21473.35,
                    21365.05,
                    20955.6,
                    21064.3,
                    21708.85,
                    21811.5,
                    21549.35,
                    22293.75,
                    22768.55,
                    22893.5,
                    23036.2,
                    23450.9,
                    23904.1,
                    24190.35,
                    23775.15,
                    23962.7,
                    24087.85,
                    23646.2,
                    24320.95,
                    24410.9,
                    24823.6,
                    24691.15,
                    24764.15,
                    24577.3,
                    24809.65,
                    24780.7,
                    24339.1,
                    24277.35,
                    25139,
                    25760.7,
                    25891,
                    26375.2,
                    26853.45,
                    27595,
                    28802.5,
                    29030.9,
                    28672.9,
                    28520.55,
                    28752.45,
                    29239.25,
                    29784.75,
                    29627.2,
                    29406.7,
                    29492.3,
                    29827.8,
                    30197.85,
                    29623,
                    29716.85,
                    29919.75,
                    29886.25,
                    29813,
                    30162.3,
                    30354.2,
                    30363.8,
                    30807.25,
                    30610,
                    30811.8,
                    30845.8,
                    30805.85,
                    30932.25,
                    30945.2,
                    30854.05,
                    30607.5,
                    29711.15,
                    29941.4,
                    30545.85,
                    30929.05,
                    31359.35,
                    31510.25,
                    31409.5
                  ],
                  "low": [
                    19632.9,
                    19852.55,
                    20822,
                    20316.2,
                    20425.05,
                    20911.25,
                    20629.7,
                    20671.55,
                    20458.3,
                    19526.1,
                    19740.2,
                    19507.05,
                    19978.15,
                    20030.35,
                    20878.25,
                    21425.55,
                    21647.8,
                    21336.35,
                    20926.45,
                    21320.1,
                    21026.45,
                    21212,
                    21281.85,
                    21890.5,
                    21768,
                    22171.05,
                    22040.35,
                    22499.5,
                    22673.4,
                    22320.05,
                    21981.65,
                    21222.45,
                    21230.55,
                    21027.85,
                    21550.8,
                    22187.8,
                    22597.95,
                    22658.2,
                    22734.9,
                    22417.2,
                    21801.35,
                    21611.4,
                    21906.35,
                    21580.15,
                    21375,
                    21031.45,
                    21057.75,
                    21448.4,
                    21370.3,
                    21451.3,
                    21795.1,
                    22039.85,
                    21990.2,
                    22139.6,
                    21459.1,
                    21403.15,
                    21629.4,
                    22234.25,
                    21886.7,
                    22165.05,
                    22410.05,
                    22857.9,
                    23093.15,
                    23464.15,
                    23599.2,
                    23385.3,
                    23473.15,
                    23482.55,
                    23451.65,
                    22876.9,
                    22716.25,
                    22641.4,
                    22080.4,
                    22225.25,
                    22205.95,
                    22028.15,
                    22062.35,
                    22216.5,
                    22267.05,
                    21784.9,
                    21274.3,
                    20958.45,
                    20821,
                    20404.9,
                    20430.7,
                    21055.1,
                    21280.6,
                    21128.5,
                    21664.15,
                    22247.25,
                    22521.05,
                    22607.8,
                    23063.6,
                    23132.45,
                    23552.6,
                    23431.5,
                    23149.45,
                    22970.95,
                    23148.95,
                    23754.85,
                    24039.85,
                    24099.85,
                    24250.2,
                    24360.85,
                    23867.75,
                    23924.2,
                    24057.95,
                    23822.05,
                    23612.7,
                    24120.6,
                    25085.7,
                    25142,
                    26000.05,
                    26135.3,
                    27068.95,
                    27916.9,
                    28211.1,
                    28066.05,
                    27703.3,
                    28431.85,
                    28722.9,
                    29056.75,
                    28819.55,
                    28580.9,
                    28852.9,
                    29206.75,
                    29132.3,
                    28923.1,
                    29368.7,
                    29511,
                    29149.9,
                    29379.4,
                    29473.5,
                    29950.6,
                    30025.2,
                    30326.7,
                    30202.1,
                    30328.45,
                    30624.25,
                    30345.75,
                    30587.1,
                    30643.9,
                    30374.5,
                    29201.2,
                    28976.75,
                    29446,
                    30007.8,
                    30538.15,
                    31002.6,
                    31007.15,
                    31088.1
                  ],
                  "x": [
                    "2020-06-01T00:00:00",
                    "2020-06-02T00:00:00",
                    "2020-06-03T00:00:00",
                    "2020-06-04T00:00:00",
                    "2020-06-05T00:00:00",
                    "2020-06-08T00:00:00",
                    "2020-06-09T00:00:00",
                    "2020-06-10T00:00:00",
                    "2020-06-11T00:00:00",
                    "2020-06-12T00:00:00",
                    "2020-06-15T00:00:00",
                    "2020-06-16T00:00:00",
                    "2020-06-17T00:00:00",
                    "2020-06-18T00:00:00",
                    "2020-06-19T00:00:00",
                    "2020-06-22T00:00:00",
                    "2020-06-23T00:00:00",
                    "2020-06-24T00:00:00",
                    "2020-06-25T00:00:00",
                    "2020-06-26T00:00:00",
                    "2020-06-29T00:00:00",
                    "2020-06-30T00:00:00",
                    "2020-07-01T00:00:00",
                    "2020-07-02T00:00:00",
                    "2020-07-03T00:00:00",
                    "2020-07-06T00:00:00",
                    "2020-07-07T00:00:00",
                    "2020-07-08T00:00:00",
                    "2020-07-09T00:00:00",
                    "2020-07-10T00:00:00",
                    "2020-07-13T00:00:00",
                    "2020-07-14T00:00:00",
                    "2020-07-15T00:00:00",
                    "2020-07-16T00:00:00",
                    "2020-07-17T00:00:00",
                    "2020-07-20T00:00:00",
                    "2020-07-21T00:00:00",
                    "2020-07-22T00:00:00",
                    "2020-07-23T00:00:00",
                    "2020-07-24T00:00:00",
                    "2020-07-27T00:00:00",
                    "2020-07-28T00:00:00",
                    "2020-07-29T00:00:00",
                    "2020-07-30T00:00:00",
                    "2020-07-31T00:00:00",
                    "2020-08-03T00:00:00",
                    "2020-08-04T00:00:00",
                    "2020-08-05T00:00:00",
                    "2020-08-06T00:00:00",
                    "2020-08-07T00:00:00",
                    "2020-08-10T00:00:00",
                    "2020-08-11T00:00:00",
                    "2020-08-12T00:00:00",
                    "2020-08-13T00:00:00",
                    "2020-08-14T00:00:00",
                    "2020-08-17T00:00:00",
                    "2020-08-18T00:00:00",
                    "2020-08-19T00:00:00",
                    "2020-08-20T00:00:00",
                    "2020-08-21T00:00:00",
                    "2020-08-24T00:00:00",
                    "2020-08-25T00:00:00",
                    "2020-08-26T00:00:00",
                    "2020-08-27T00:00:00",
                    "2020-08-28T00:00:00",
                    "2020-08-31T00:00:00",
                    "2020-09-01T00:00:00",
                    "2020-09-02T00:00:00",
                    "2020-09-03T00:00:00",
                    "2020-09-04T00:00:00",
                    "2020-09-07T00:00:00",
                    "2020-09-08T00:00:00",
                    "2020-09-09T00:00:00",
                    "2020-09-10T00:00:00",
                    "2020-09-11T00:00:00",
                    "2020-09-14T00:00:00",
                    "2020-09-15T00:00:00",
                    "2020-09-16T00:00:00",
                    "2020-09-17T00:00:00",
                    "2020-09-18T00:00:00",
                    "2020-09-21T00:00:00",
                    "2020-09-22T00:00:00",
                    "2020-09-23T00:00:00",
                    "2020-09-24T00:00:00",
                    "2020-09-25T00:00:00",
                    "2020-09-28T00:00:00",
                    "2020-09-29T00:00:00",
                    "2020-09-30T00:00:00",
                    "2020-10-01T00:00:00",
                    "2020-10-05T00:00:00",
                    "2020-10-06T00:00:00",
                    "2020-10-07T00:00:00",
                    "2020-10-08T00:00:00",
                    "2020-10-09T00:00:00",
                    "2020-10-12T00:00:00",
                    "2020-10-13T00:00:00",
                    "2020-10-14T00:00:00",
                    "2020-10-15T00:00:00",
                    "2020-10-16T00:00:00",
                    "2020-10-19T00:00:00",
                    "2020-10-20T00:00:00",
                    "2020-10-21T00:00:00",
                    "2020-10-22T00:00:00",
                    "2020-10-23T00:00:00",
                    "2020-10-26T00:00:00",
                    "2020-10-27T00:00:00",
                    "2020-10-28T00:00:00",
                    "2020-10-29T00:00:00",
                    "2020-10-30T00:00:00",
                    "2020-11-02T00:00:00",
                    "2020-11-03T00:00:00",
                    "2020-11-04T00:00:00",
                    "2020-11-05T00:00:00",
                    "2020-11-06T00:00:00",
                    "2020-11-09T00:00:00",
                    "2020-11-10T00:00:00",
                    "2020-11-11T00:00:00",
                    "2020-11-12T00:00:00",
                    "2020-11-13T00:00:00",
                    "2020-11-14T00:00:00",
                    "2020-11-17T00:00:00",
                    "2020-11-18T00:00:00",
                    "2020-11-19T00:00:00",
                    "2020-11-20T00:00:00",
                    "2020-11-23T00:00:00",
                    "2020-11-24T00:00:00",
                    "2020-11-25T00:00:00",
                    "2020-11-26T00:00:00",
                    "2020-11-27T00:00:00",
                    "2020-12-01T00:00:00",
                    "2020-12-02T00:00:00",
                    "2020-12-03T00:00:00",
                    "2020-12-04T00:00:00",
                    "2020-12-07T00:00:00",
                    "2020-12-08T00:00:00",
                    "2020-12-09T00:00:00",
                    "2020-12-10T00:00:00",
                    "2020-12-11T00:00:00",
                    "2020-12-14T00:00:00",
                    "2020-12-15T00:00:00",
                    "2020-12-16T00:00:00",
                    "2020-12-17T00:00:00",
                    "2020-12-18T00:00:00",
                    "2020-12-21T00:00:00",
                    "2020-12-22T00:00:00",
                    "2020-12-23T00:00:00",
                    "2020-12-24T00:00:00",
                    "2020-12-28T00:00:00",
                    "2020-12-29T00:00:00",
                    "2020-12-30T00:00:00",
                    "2020-12-31T00:00:00"
                  ],
                  "close": [
                    19959.9,
                    20530.2,
                    20940.7,
                    20390.45,
                    21034.5,
                    21187.35,
                    20724.9,
                    21100.1,
                    20525.15,
                    20654.55,
                    19912.9,
                    20296.7,
                    20201.75,
                    20956.3,
                    21338.1,
                    21708.35,
                    22264.9,
                    21426.8,
                    21506.15,
                    21592.05,
                    21359,
                    21370.15,
                    21977.6,
                    21953.2,
                    21852.4,
                    22198.95,
                    22628,
                    22584.65,
                    22907.2,
                    22398.45,
                    22089.25,
                    21392.2,
                    21340.75,
                    21597.15,
                    21966.8,
                    22321.85,
                    22782,
                    22882.6,
                    23083.9,
                    22662.05,
                    21848.75,
                    22105.2,
                    22076.6,
                    21646.85,
                    21640.05,
                    21072.1,
                    21490.5,
                    21509.95,
                    21642.6,
                    21754,
                    21900.25,
                    22227.2,
                    22264,
                    22196.35,
                    21679.4,
                    21700.85,
                    22170.6,
                    22285.9,
                    21999.45,
                    22299.6,
                    22833,
                    23092.15,
                    23414.2,
                    23600.35,
                    24523.8,
                    23754.35,
                    23812,
                    23874.55,
                    23530.85,
                    23011.5,
                    22945.05,
                    22744.4,
                    22267,
                    22466.2,
                    22479.95,
                    22101.25,
                    22465.65,
                    22573.55,
                    22320.35,
                    22031.05,
                    21366.8,
                    21139.1,
                    21178.5,
                    20456.85,
                    20982.35,
                    21665.5,
                    21411.3,
                    21451.8,
                    22246,
                    22370.95,
                    22853.7,
                    22964.8,
                    23191.35,
                    23846.8,
                    23712.8,
                    23492.2,
                    23874.65,
                    23072.4,
                    23533.25,
                    24266.75,
                    24311.8,
                    24635.05,
                    24484.15,
                    24478.3,
                    24075.45,
                    24769.5,
                    24232.5,
                    24092,
                    23900.9,
                    24892.5,
                    25682.8,
                    25771.6,
                    26313.1,
                    26798.95,
                    27534.1,
                    28606,
                    28845,
                    28278.8,
                    28465.7,
                    28594.3,
                    29181.3,
                    29749.85,
                    28903.05,
                    29236,
                    29024.2,
                    29737.25,
                    29196.4,
                    29549.75,
                    29609.05,
                    29817.85,
                    29463.15,
                    29448.75,
                    30052.4,
                    30211.55,
                    30261.9,
                    30709.4,
                    30510.35,
                    30604.85,
                    30745.9,
                    30691.05,
                    30698.4,
                    30847.05,
                    30714.65,
                    29456.45,
                    29625.95,
                    29883.3,
                    30402.2,
                    30880.95,
                    31322.5,
                    31303.05,
                    31264.05
                  ],
                  "open": [
                    19728.9,
                    20120.6,
                    20966.6,
                    20932.35,
                    20516.4,
                    21636.1,
                    21295.5,
                    20760.95,
                    21084.7,
                    19529.3,
                    20457.15,
                    20500.65,
                    20137.45,
                    20137.6,
                    20970.1,
                    21491.55,
                    21859.25,
                    22479.35,
                    21218.05,
                    21735.05,
                    21291.55,
                    21524.3,
                    21354.1,
                    22133.8,
                    22101.75,
                    22270.95,
                    22254.3,
                    22700.9,
                    22753.15,
                    22720.95,
                    22613.25,
                    21877.6,
                    21634.25,
                    21453.25,
                    21608.05,
                    22307.3,
                    22639.85,
                    23159,
                    22854.85,
                    22853.2,
                    22664.6,
                    21940.15,
                    22075,
                    22195.05,
                    21730.55,
                    21543.8,
                    21248.25,
                    21686.85,
                    21644.25,
                    21620.25,
                    21824.9,
                    22050.2,
                    22135.95,
                    22395.2,
                    22334.95,
                    21906.95,
                    21702,
                    22315.4,
                    21989.9,
                    22190.7,
                    22436.85,
                    22973.4,
                    23175.55,
                    23511.45,
                    23635.3,
                    25038.8,
                    23893.8,
                    23769,
                    23986.15,
                    23119.15,
                    23036.25,
                    22971.2,
                    22486.7,
                    22466.55,
                    22509.95,
                    22683.35,
                    22202.8,
                    22476.3,
                    22352,
                    22439.35,
                    21983.4,
                    21445.25,
                    21350.8,
                    20898.8,
                    20740.8,
                    21152.05,
                    21770.9,
                    21405.25,
                    21685.25,
                    22352.1,
                    22673.05,
                    22836.95,
                    23150.25,
                    23312.6,
                    23955.6,
                    23663.05,
                    23353.15,
                    23920.35,
                    23219.85,
                    23902.9,
                    24117.35,
                    24444.2,
                    24447.35,
                    24669.2,
                    24525.8,
                    24288.05,
                    24737.85,
                    24063.5,
                    24090.15,
                    24367.6,
                    25108,
                    25539.55,
                    26174.8,
                    26274.1,
                    27088.95,
                    28039.45,
                    28713.15,
                    28633.75,
                    28108.7,
                    28685.7,
                    28792.25,
                    29107.9,
                    29302.6,
                    28935.75,
                    29432.8,
                    29265.6,
                    30021.9,
                    29370.4,
                    29622,
                    29844.8,
                    29876.7,
                    29728.9,
                    29573.4,
                    30062.6,
                    30300.3,
                    30335.05,
                    30545.35,
                    30555.3,
                    30735.15,
                    30805.4,
                    30920.35,
                    30791.2,
                    30841.85,
                    30595.8,
                    29607.5,
                    29560.75,
                    30071.65,
                    30558.85,
                    31006.9,
                    31479.8,
                    31295.9
                  ]
                }
              ],
              "config": {
                "plotlyServerURL": "https://plot.ly"
              },
              "layout": {
                "yaxis": {
                  "title": {
                    "text": "Price"
                  }
                },
                "xaxis": {
                  "title": {
                    "text": "Time"
                  },
                  "rangeslider": {
                    "visible": true
                  }
                },
                "template": {
                  "layout": {
                    "shapedefaults": {
                      "line": {
                        "color": "#2a3f5f"
                      }
                    },
                    "polar": {
                      "radialaxis": {
                        "ticks": "",
                        "gridcolor": "white",
                        "linecolor": "white"
                      },
                      "bgcolor": "#E5ECF6",
                      "angularaxis": {
                        "ticks": "",
                        "gridcolor": "white",
                        "linecolor": "white"
                      }
                    },
                    "colorway": [
                      "#636efa",
                      "#EF553B",
                      "#00cc96",
                      "#ab63fa",
                      "#FFA15A",
                      "#19d3f3",
                      "#FF6692",
                      "#B6E880",
                      "#FF97FF",
                      "#FECB52"
                    ],
                    "xaxis": {
                      "automargin": true,
                      "title": {
                        "standoff": 15
                      },
                      "zerolinewidth": 2,
                      "ticks": "",
                      "zerolinecolor": "white",
                      "gridcolor": "white",
                      "linecolor": "white"
                    },
                    "colorscale": {
                      "diverging": [
                        [
                          0,
                          "#8e0152"
                        ],
                        [
                          0.1,
                          "#c51b7d"
                        ],
                        [
                          0.2,
                          "#de77ae"
                        ],
                        [
                          0.3,
                          "#f1b6da"
                        ],
                        [
                          0.4,
                          "#fde0ef"
                        ],
                        [
                          0.5,
                          "#f7f7f7"
                        ],
                        [
                          0.6,
                          "#e6f5d0"
                        ],
                        [
                          0.7,
                          "#b8e186"
                        ],
                        [
                          0.8,
                          "#7fbc41"
                        ],
                        [
                          0.9,
                          "#4d9221"
                        ],
                        [
                          1,
                          "#276419"
                        ]
                      ],
                      "sequential": [
                        [
                          0,
                          "#0d0887"
                        ],
                        [
                          0.1111111111111111,
                          "#46039f"
                        ],
                        [
                          0.2222222222222222,
                          "#7201a8"
                        ],
                        [
                          0.3333333333333333,
                          "#9c179e"
                        ],
                        [
                          0.4444444444444444,
                          "#bd3786"
                        ],
                        [
                          0.5555555555555556,
                          "#d8576b"
                        ],
                        [
                          0.6666666666666666,
                          "#ed7953"
                        ],
                        [
                          0.7777777777777778,
                          "#fb9f3a"
                        ],
                        [
                          0.8888888888888888,
                          "#fdca26"
                        ],
                        [
                          1,
                          "#f0f921"
                        ]
                      ],
                      "sequentialminus": [
                        [
                          0,
                          "#0d0887"
                        ],
                        [
                          0.1111111111111111,
                          "#46039f"
                        ],
                        [
                          0.2222222222222222,
                          "#7201a8"
                        ],
                        [
                          0.3333333333333333,
                          "#9c179e"
                        ],
                        [
                          0.4444444444444444,
                          "#bd3786"
                        ],
                        [
                          0.5555555555555556,
                          "#d8576b"
                        ],
                        [
                          0.6666666666666666,
                          "#ed7953"
                        ],
                        [
                          0.7777777777777778,
                          "#fb9f3a"
                        ],
                        [
                          0.8888888888888888,
                          "#fdca26"
                        ],
                        [
                          1,
                          "#f0f921"
                        ]
                      ]
                    },
                    "paper_bgcolor": "white",
                    "plot_bgcolor": "#E5ECF6",
                    "title": {
                      "x": 0.05
                    },
                    "scene": {
                      "zaxis": {
                        "backgroundcolor": "#E5ECF6",
                        "ticks": "",
                        "gridwidth": 2,
                        "showbackground": true,
                        "zerolinecolor": "white",
                        "gridcolor": "white",
                        "linecolor": "white"
                      },
                      "xaxis": {
                        "backgroundcolor": "#E5ECF6",
                        "ticks": "",
                        "gridwidth": 2,
                        "showbackground": true,
                        "zerolinecolor": "white",
                        "gridcolor": "white",
                        "linecolor": "white"
                      },
                      "yaxis": {
                        "backgroundcolor": "#E5ECF6",
                        "ticks": "",
                        "gridwidth": 2,
                        "showbackground": true,
                        "zerolinecolor": "white",
                        "gridcolor": "white",
                        "linecolor": "white"
                      }
                    },
                    "yaxis": {
                      "automargin": true,
                      "title": {
                        "standoff": 15
                      },
                      "zerolinewidth": 2,
                      "ticks": "",
                      "zerolinecolor": "white",
                      "gridcolor": "white",
                      "linecolor": "white"
                    },
                    "annotationdefaults": {
                      "arrowwidth": 1,
                      "arrowhead": 0,
                      "arrowcolor": "#2a3f5f"
                    },
                    "hoverlabel": {
                      "align": "left"
                    },
                    "ternary": {
                      "bgcolor": "#E5ECF6",
                      "baxis": {
                        "ticks": "",
                        "gridcolor": "white",
                        "linecolor": "white"
                      },
                      "caxis": {
                        "ticks": "",
                        "gridcolor": "white",
                        "linecolor": "white"
                      },
                      "aaxis": {
                        "ticks": "",
                        "gridcolor": "white",
                        "linecolor": "white"
                      }
                    },
                    "mapbox": {
                      "style": "light"
                    },
                    "hovermode": "closest",
                    "font": {
                      "color": "#2a3f5f"
                    },
                    "geo": {
                      "showland": true,
                      "landcolor": "#E5ECF6",
                      "showlakes": true,
                      "bgcolor": "white",
                      "subunitcolor": "white",
                      "lakecolor": "white"
                    },
                    "coloraxis": {
                      "colorbar": {
                        "outlinewidth": 0,
                        "ticks": ""
                      }
                    }
                  },
                  "data": {
                    "mesh3d": [
                      {
                        "colorbar": {
                          "outlinewidth": 0,
                          "ticks": ""
                        },
                        "type": "mesh3d"
                      }
                    ],
                    "scattercarpet": [
                      {
                        "marker": {
                          "colorbar": {
                            "outlinewidth": 0,
                            "ticks": ""
                          }
                        },
                        "type": "scattercarpet"
                      }
                    ],
                    "pie": [
                      {
                        "automargin": true,
                        "type": "pie"
                      }
                    ],
                    "surface": [
                      {
                        "colorbar": {
                          "outlinewidth": 0,
                          "ticks": ""
                        },
                        "type": "surface",
                        "colorscale": [
                          [
                            0,
                            "#0d0887"
                          ],
                          [
                            0.1111111111111111,
                            "#46039f"
                          ],
                          [
                            0.2222222222222222,
                            "#7201a8"
                          ],
                          [
                            0.3333333333333333,
                            "#9c179e"
                          ],
                          [
                            0.4444444444444444,
                            "#bd3786"
                          ],
                          [
                            0.5555555555555556,
                            "#d8576b"
                          ],
                          [
                            0.6666666666666666,
                            "#ed7953"
                          ],
                          [
                            0.7777777777777778,
                            "#fb9f3a"
                          ],
                          [
                            0.8888888888888888,
                            "#fdca26"
                          ],
                          [
                            1,
                            "#f0f921"
                          ]
                        ]
                      }
                    ],
                    "table": [
                      {
                        "header": {
                          "line": {
                            "color": "white"
                          },
                          "fill": {
                            "color": "#C8D4E3"
                          }
                        },
                        "cells": {
                          "line": {
                            "color": "white"
                          },
                          "fill": {
                            "color": "#EBF0F8"
                          }
                        },
                        "type": "table"
                      }
                    ],
                    "scatterpolargl": [
                      {
                        "marker": {
                          "colorbar": {
                            "outlinewidth": 0,
                            "ticks": ""
                          }
                        },
                        "type": "scatterpolargl"
                      }
                    ],
                    "contour": [
                      {
                        "colorbar": {
                          "outlinewidth": 0,
                          "ticks": ""
                        },
                        "type": "contour",
                        "colorscale": [
                          [
                            0,
                            "#0d0887"
                          ],
                          [
                            0.1111111111111111,
                            "#46039f"
                          ],
                          [
                            0.2222222222222222,
                            "#7201a8"
                          ],
                          [
                            0.3333333333333333,
                            "#9c179e"
                          ],
                          [
                            0.4444444444444444,
                            "#bd3786"
                          ],
                          [
                            0.5555555555555556,
                            "#d8576b"
                          ],
                          [
                            0.6666666666666666,
                            "#ed7953"
                          ],
                          [
                            0.7777777777777778,
                            "#fb9f3a"
                          ],
                          [
                            0.8888888888888888,
                            "#fdca26"
                          ],
                          [
                            1,
                            "#f0f921"
                          ]
                        ]
                      }
                    ],
                    "carpet": [
                      {
                        "type": "carpet",
                        "baxis": {
                          "minorgridcolor": "white",
                          "gridcolor": "white",
                          "linecolor": "white",
                          "endlinecolor": "#2a3f5f",
                          "startlinecolor": "#2a3f5f"
                        },
                        "aaxis": {
                          "minorgridcolor": "white",
                          "gridcolor": "white",
                          "linecolor": "white",
                          "endlinecolor": "#2a3f5f",
                          "startlinecolor": "#2a3f5f"
                        }
                      }
                    ],
                    "contourcarpet": [
                      {
                        "colorbar": {
                          "outlinewidth": 0,
                          "ticks": ""
                        },
                        "type": "contourcarpet"
                      }
                    ],
                    "heatmap": [
                      {
                        "colorbar": {
                          "outlinewidth": 0,
                          "ticks": ""
                        },
                        "type": "heatmap",
                        "colorscale": [
                          [
                            0,
                            "#0d0887"
                          ],
                          [
                            0.1111111111111111,
                            "#46039f"
                          ],
                          [
                            0.2222222222222222,
                            "#7201a8"
                          ],
                          [
                            0.3333333333333333,
                            "#9c179e"
                          ],
                          [
                            0.4444444444444444,
                            "#bd3786"
                          ],
                          [
                            0.5555555555555556,
                            "#d8576b"
                          ],
                          [
                            0.6666666666666666,
                            "#ed7953"
                          ],
                          [
                            0.7777777777777778,
                            "#fb9f3a"
                          ],
                          [
                            0.8888888888888888,
                            "#fdca26"
                          ],
                          [
                            1,
                            "#f0f921"
                          ]
                        ]
                      }
                    ],
                    "scattermapbox": [
                      {
                        "marker": {
                          "colorbar": {
                            "outlinewidth": 0,
                            "ticks": ""
                          }
                        },
                        "type": "scattermapbox"
                      }
                    ],
                    "scatter3d": [
                      {
                        "marker": {
                          "colorbar": {
                            "outlinewidth": 0,
                            "ticks": ""
                          }
                        },
                        "line": {
                          "colorbar": {
                            "outlinewidth": 0,
                            "ticks": ""
                          }
                        },
                        "type": "scatter3d"
                      }
                    ],
                    "scattergl": [
                      {
                        "marker": {
                          "colorbar": {
                            "outlinewidth": 0,
                            "ticks": ""
                          }
                        },
                        "type": "scattergl"
                      }
                    ],
                    "scatterternary": [
                      {
                        "marker": {
                          "colorbar": {
                            "outlinewidth": 0,
                            "ticks": ""
                          }
                        },
                        "type": "scatterternary"
                      }
                    ],
                    "histogram": [
                      {
                        "marker": {
                          "colorbar": {
                            "outlinewidth": 0,
                            "ticks": ""
                          }
                        },
                        "type": "histogram"
                      }
                    ],
                    "heatmapgl": [
                      {
                        "colorbar": {
                          "outlinewidth": 0,
                          "ticks": ""
                        },
                        "type": "heatmapgl",
                        "colorscale": [
                          [
                            0,
                            "#0d0887"
                          ],
                          [
                            0.1111111111111111,
                            "#46039f"
                          ],
                          [
                            0.2222222222222222,
                            "#7201a8"
                          ],
                          [
                            0.3333333333333333,
                            "#9c179e"
                          ],
                          [
                            0.4444444444444444,
                            "#bd3786"
                          ],
                          [
                            0.5555555555555556,
                            "#d8576b"
                          ],
                          [
                            0.6666666666666666,
                            "#ed7953"
                          ],
                          [
                            0.7777777777777778,
                            "#fb9f3a"
                          ],
                          [
                            0.8888888888888888,
                            "#fdca26"
                          ],
                          [
                            1,
                            "#f0f921"
                          ]
                        ]
                      }
                    ],
                    "scatterpolar": [
                      {
                        "marker": {
                          "colorbar": {
                            "outlinewidth": 0,
                            "ticks": ""
                          }
                        },
                        "type": "scatterpolar"
                      }
                    ],
                    "histogram2d": [
                      {
                        "colorbar": {
                          "outlinewidth": 0,
                          "ticks": ""
                        },
                        "type": "histogram2d",
                        "colorscale": [
                          [
                            0,
                            "#0d0887"
                          ],
                          [
                            0.1111111111111111,
                            "#46039f"
                          ],
                          [
                            0.2222222222222222,
                            "#7201a8"
                          ],
                          [
                            0.3333333333333333,
                            "#9c179e"
                          ],
                          [
                            0.4444444444444444,
                            "#bd3786"
                          ],
                          [
                            0.5555555555555556,
                            "#d8576b"
                          ],
                          [
                            0.6666666666666666,
                            "#ed7953"
                          ],
                          [
                            0.7777777777777778,
                            "#fb9f3a"
                          ],
                          [
                            0.8888888888888888,
                            "#fdca26"
                          ],
                          [
                            1,
                            "#f0f921"
                          ]
                        ]
                      }
                    ],
                    "scattergeo": [
                      {
                        "marker": {
                          "colorbar": {
                            "outlinewidth": 0,
                            "ticks": ""
                          }
                        },
                        "type": "scattergeo"
                      }
                    ],
                    "bar": [
                      {
                        "marker": {
                          "line": {
                            "color": "#E5ECF6",
                            "width": 0.5
                          }
                        },
                        "type": "bar",
                        "error_x": {
                          "color": "#2a3f5f"
                        },
                        "error_y": {
                          "color": "#2a3f5f"
                        }
                      }
                    ],
                    "choropleth": [
                      {
                        "colorbar": {
                          "outlinewidth": 0,
                          "ticks": ""
                        },
                        "type": "choropleth"
                      }
                    ],
                    "parcoords": [
                      {
                        "line": {
                          "colorbar": {
                            "outlinewidth": 0,
                            "ticks": ""
                          }
                        },
                        "type": "parcoords"
                      }
                    ],
                    "barpolar": [
                      {
                        "marker": {
                          "line": {
                            "color": "#E5ECF6",
                            "width": 0.5
                          }
                        },
                        "type": "barpolar"
                      }
                    ],
                    "histogram2dcontour": [
                      {
                        "colorbar": {
                          "outlinewidth": 0,
                          "ticks": ""
                        },
                        "type": "histogram2dcontour",
                        "colorscale": [
                          [
                            0,
                            "#0d0887"
                          ],
                          [
                            0.1111111111111111,
                            "#46039f"
                          ],
                          [
                            0.2222222222222222,
                            "#7201a8"
                          ],
                          [
                            0.3333333333333333,
                            "#9c179e"
                          ],
                          [
                            0.4444444444444444,
                            "#bd3786"
                          ],
                          [
                            0.5555555555555556,
                            "#d8576b"
                          ],
                          [
                            0.6666666666666666,
                            "#ed7953"
                          ],
                          [
                            0.7777777777777778,
                            "#fb9f3a"
                          ],
                          [
                            0.8888888888888888,
                            "#fdca26"
                          ],
                          [
                            1,
                            "#f0f921"
                          ]
                        ]
                      }
                    ],
                    "scatter": [
                      {
                        "marker": {
                          "colorbar": {
                            "outlinewidth": 0,
                            "ticks": ""
                          }
                        },
                        "type": "scatter"
                      }
                    ]
                  }
                },
                "title": {
                  "y": 0.9,
                  "text": "Bank Nifty Index From June 2020 to July 2020",
                  "yanchor": "top",
                  "xanchor": "center",
                  "x": 0.5
                }
              }
            }
          },
          "metadata": {
            "tags": []
          }
        }
      ]
    },
    {
      "cell_type": "code",
      "metadata": {
        "colab": {
          "base_uri": "https://localhost:8080/",
          "height": 541
        },
        "id": "p8oM5GWNt3S9",
        "outputId": "3b70cffc-7819-4f3f-a54f-79930c618ae9"
      },
      "source": [
        "Candlestick_data = df['3-2020':'2020']\n",
        "\n",
        "fig = go.Figure(data=go.Candlestick(x=Candlestick_data.index,\n",
        "                            open=Candlestick_data['Open'],\n",
        "                            high=Candlestick_data['High'],\n",
        "                            low=Candlestick_data['Low'],\n",
        "                            close=Candlestick_data['Close']))\n",
        "\n",
        "fig.update_layout(title_text='Bank Nifty Index From March 2020 to May 2020',\n",
        "                  title={\n",
        "                    'y':0.9,\n",
        "                    'x':0.5,\n",
        "                    'xanchor': 'center',\n",
        "                    'yanchor': 'top'},\n",
        "                  xaxis_rangeslider_visible=True, \n",
        "                  xaxis_title=\"Time\", \n",
        "                  yaxis_title=\"Price\")\n",
        "\n",
        "fig.show()"
      ],
      "execution_count": null,
      "outputs": [
        {
          "output_type": "display_data",
          "data": {
            "text/html": [
              "<div>\n",
              "        \n",
              "        \n",
              "            <div id=\"e3539caa-0d57-416b-be6b-943d4554534d\" class=\"plotly-graph-div\" style=\"height:525px; width:100%;\"></div>\n",
              "            <script type=\"text/javascript\">\n",
              "                require([\"plotly\"], function(Plotly) {\n",
              "                    window.PLOTLYENV=window.PLOTLYENV || {};\n",
              "                    \n",
              "                if (document.getElementById(\"e3539caa-0d57-416b-be6b-943d4554534d\")) {\n",
              "                    Plotly.newPlot(\n",
              "                        'e3539caa-0d57-416b-be6b-943d4554534d',\n",
              "                        [{\"close\": [28868.4, 29177.05, 28653.7, 28815.35, 27801.45, 26462.6, 26487.8, 23971.15, 25166.45, 23101.15, 22155.15, 20580.2, 20083.5, 20317.6, 16917.65, 17107.3, 18481.05, 19613.9, 19969.0, 18782.4, 19144.0, 18208.35, 17249.3, 19062.5, 18946.45, 19913.6, 19488.0, 19057.05, 19400.0, 20681.45, 20522.65, 19409.35, 19701.85, 20267.95, 19586.65, 20081.15, 20671.1, 21090.2, 21534.5, 19743.75, 19271.75, 19694.55, 19491.8, 19352.9, 18950.5, 18862.85, 19634.95, 19068.5, 18833.95, 17573.2, 17486.25, 17840.2, 17735.1, 17278.9, 17440.35, 18710.55, 19169.8, 19297.25, 19959.9, 20530.2, 20940.7, 20390.45, 21034.5, 21187.35, 20724.9, 21100.1, 20525.15, 20654.55, 19912.9, 20296.7, 20201.75, 20956.3, 21338.1, 21708.35, 22264.9, 21426.8, 21506.15, 21592.05, 21359.0, 21370.15, 21977.6, 21953.2, 21852.4, 22198.95, 22628.0, 22584.65, 22907.2, 22398.45, 22089.25, 21392.2, 21340.75, 21597.15, 21966.8, 22321.85, 22782.0, 22882.6, 23083.9, 22662.05, 21848.75, 22105.2, 22076.6, 21646.85, 21640.05, 21072.1, 21490.5, 21509.95, 21642.6, 21754.0, 21900.25, 22227.2, 22264.0, 22196.35, 21679.4, 21700.85, 22170.6, 22285.9, 21999.45, 22299.6, 22833.0, 23092.15, 23414.2, 23600.35, 24523.8, 23754.35, 23812.0, 23874.55, 23530.85, 23011.5, 22945.05, 22744.4, 22267.0, 22466.2, 22479.95, 22101.25, 22465.65, 22573.55, 22320.35, 22031.05, 21366.8, 21139.1, 21178.5, 20456.85, 20982.35, 21665.5, 21411.3, 21451.8, 22246.0, 22370.95, 22853.7, 22964.8, 23191.35, 23846.8, 23712.8, 23492.2, 23874.65, 23072.4, 23533.25, 24266.75, 24311.8, 24635.05, 24484.15, 24478.3, 24075.45, 24769.5, 24232.5, 24092.0, 23900.9, 24892.5, 25682.8, 25771.6, 26313.1, 26798.95, 27534.1, 28606.0, 28845.0, 28278.8, 28465.7, 28594.3, 29181.3, 29749.85, 28903.05, 29236.0, 29024.2, 29737.25, 29196.4, 29549.75, 29609.05, 29817.85, 29463.15, 29448.75, 30052.4, 30211.55, 30261.9, 30709.4, 30510.35, 30604.85, 30745.9, 30691.05, 30698.4, 30847.05, 30714.65, 29456.45, 29625.95, 29883.3, 30402.2, 30880.95, 31322.5, 31303.05, 31264.05], \"high\": [29791.15, 29285.35, 29273.65, 29134.3, 28047.2, 27091.6, 26791.45, 25223.1, 25670.75, 24074.15, 23449.5, 22544.05, 21035.05, 20924.55, 18895.65, 17841.4, 18740.2, 20409.35, 21462.4, 19716.25, 19466.3, 19154.75, 18326.1, 19190.55, 20324.1, 19988.3, 19887.05, 20184.1, 19520.3, 20866.55, 21122.1, 19891.45, 19806.35, 20356.5, 19950.15, 20224.75, 20751.3, 21348.15, 21967.0, 20530.45, 20223.15, 19806.6, 19757.25, 19969.6, 19733.4, 18993.4, 20122.25, 19380.1, 19119.1, 18795.1, 18175.3, 18002.65, 18200.7, 17952.25, 17681.7, 18874.25, 19455.55, 19358.05, 20225.35, 20615.75, 21619.55, 21141.8, 21198.7, 21807.4, 21568.85, 21251.45, 21244.45, 20747.7, 20470.85, 20638.85, 20627.9, 21028.35, 21467.65, 22078.25, 22322.3, 22479.55, 21703.5, 21784.65, 21440.05, 21650.5, 22061.6, 22344.85, 22130.3, 22399.25, 22674.5, 23080.6, 22998.3, 22835.2, 22657.4, 21909.7, 21935.5, 21671.25, 22065.0, 22520.45, 22861.9, 23211.35, 23122.35, 22854.05, 22668.05, 22233.0, 22346.4, 22252.6, 21806.95, 21543.8, 21576.35, 21936.5, 21926.55, 21787.25, 22071.95, 22277.6, 22326.55, 22439.95, 22334.95, 21909.4, 22227.75, 22419.35, 22079.9, 22344.05, 22897.5, 23180.3, 23453.4, 23704.05, 24611.8, 25232.6, 24199.65, 23926.15, 24051.6, 23394.8, 23109.1, 23064.15, 22554.6, 22678.65, 22668.75, 22757.3, 22514.15, 22659.4, 22504.45, 22469.4, 22098.85, 21473.35, 21365.05, 20955.6, 21064.3, 21708.85, 21811.5, 21549.35, 22293.75, 22768.55, 22893.5, 23036.2, 23450.9, 23904.1, 24190.35, 23775.15, 23962.7, 24087.85, 23646.2, 24320.95, 24410.9, 24823.6, 24691.15, 24764.15, 24577.3, 24809.65, 24780.7, 24339.1, 24277.35, 25139.0, 25760.7, 25891.0, 26375.2, 26853.45, 27595.0, 28802.5, 29030.9, 28672.9, 28520.55, 28752.45, 29239.25, 29784.75, 29627.2, 29406.7, 29492.3, 29827.8, 30197.85, 29623.0, 29716.85, 29919.75, 29886.25, 29813.0, 30162.3, 30354.2, 30363.8, 30807.25, 30610.0, 30811.8, 30845.8, 30805.85, 30932.25, 30945.2, 30854.05, 30607.5, 29711.15, 29941.4, 30545.85, 30929.05, 31359.35, 31510.25, 31409.5], \"low\": [28571.7, 28749.55, 28125.15, 28535.6, 27162.3, 25923.4, 26234.1, 23536.35, 21351.7, 23008.25, 22002.0, 20267.95, 18675.65, 19265.0, 16791.05, 16116.25, 16635.5, 18364.5, 19580.1, 18668.7, 18792.4, 18042.25, 17143.2, 17953.75, 18482.9, 19166.9, 19294.0, 18776.75, 18703.45, 19729.3, 20444.25, 19247.95, 19051.95, 19584.4, 19515.4, 19847.65, 20260.8, 20393.65, 21353.65, 19643.6, 19212.35, 18941.0, 19332.15, 19285.05, 18900.9, 18287.0, 19429.9, 19024.75, 18683.65, 17514.2, 17390.65, 17407.7, 17658.55, 17105.0, 17311.25, 17560.35, 18818.95, 18729.9, 19632.9, 19852.55, 20822.0, 20316.2, 20425.05, 20911.25, 20629.7, 20671.55, 20458.3, 19526.1, 19740.2, 19507.05, 19978.15, 20030.35, 20878.25, 21425.55, 21647.8, 21336.35, 20926.45, 21320.1, 21026.45, 21212.0, 21281.85, 21890.5, 21768.0, 22171.05, 22040.35, 22499.5, 22673.4, 22320.05, 21981.65, 21222.45, 21230.55, 21027.85, 21550.8, 22187.8, 22597.95, 22658.2, 22734.9, 22417.2, 21801.35, 21611.4, 21906.35, 21580.15, 21375.0, 21031.45, 21057.75, 21448.4, 21370.3, 21451.3, 21795.1, 22039.85, 21990.2, 22139.6, 21459.1, 21403.15, 21629.4, 22234.25, 21886.7, 22165.05, 22410.05, 22857.9, 23093.15, 23464.15, 23599.2, 23385.3, 23473.15, 23482.55, 23451.65, 22876.9, 22716.25, 22641.4, 22080.4, 22225.25, 22205.95, 22028.15, 22062.35, 22216.5, 22267.05, 21784.9, 21274.3, 20958.45, 20821.0, 20404.9, 20430.7, 21055.1, 21280.6, 21128.5, 21664.15, 22247.25, 22521.05, 22607.8, 23063.6, 23132.45, 23552.6, 23431.5, 23149.45, 22970.95, 23148.95, 23754.85, 24039.85, 24099.85, 24250.2, 24360.85, 23867.75, 23924.2, 24057.95, 23822.05, 23612.7, 24120.6, 25085.7, 25142.0, 26000.05, 26135.3, 27068.95, 27916.9, 28211.1, 28066.05, 27703.3, 28431.85, 28722.9, 29056.75, 28819.55, 28580.9, 28852.9, 29206.75, 29132.3, 28923.1, 29368.7, 29511.0, 29149.9, 29379.4, 29473.5, 29950.6, 30025.2, 30326.7, 30202.1, 30328.45, 30624.25, 30345.75, 30587.1, 30643.9, 30374.5, 29201.2, 28976.75, 29446.0, 30007.8, 30538.15, 31002.6, 31007.15, 31088.1], \"open\": [29701.0, 29012.55, 29252.95, 28830.3, 27649.95, 27031.45, 26272.75, 25175.9, 22720.75, 24061.6, 23348.05, 22411.85, 19428.95, 19898.3, 18311.3, 17705.85, 16759.95, 18781.85, 20801.6, 19254.45, 19307.65, 19122.4, 18325.05, 18454.55, 18799.4, 19553.15, 19854.9, 20096.35, 18957.15, 20394.75, 21104.7, 19812.05, 19306.95, 19871.35, 19697.65, 19870.8, 20436.6, 20440.4, 21589.2, 20514.75, 20147.3, 19302.45, 19536.05, 19844.0, 19610.45, 18751.4, 20017.75, 19197.7, 19098.8, 18795.1, 18037.15, 17486.5, 17901.95, 17554.25, 17537.65, 17603.4, 18924.45, 18962.0, 19728.9, 20120.6, 20966.6, 20932.35, 20516.4, 21636.1, 21295.5, 20760.95, 21084.7, 19529.3, 20457.15, 20500.65, 20137.45, 20137.6, 20970.1, 21491.55, 21859.25, 22479.35, 21218.05, 21735.05, 21291.55, 21524.3, 21354.1, 22133.8, 22101.75, 22270.95, 22254.3, 22700.9, 22753.15, 22720.95, 22613.25, 21877.6, 21634.25, 21453.25, 21608.05, 22307.3, 22639.85, 23159.0, 22854.85, 22853.2, 22664.6, 21940.15, 22075.0, 22195.05, 21730.55, 21543.8, 21248.25, 21686.85, 21644.25, 21620.25, 21824.9, 22050.2, 22135.95, 22395.2, 22334.95, 21906.95, 21702.0, 22315.4, 21989.9, 22190.7, 22436.85, 22973.4, 23175.55, 23511.45, 23635.3, 25038.8, 23893.8, 23769.0, 23986.15, 23119.15, 23036.25, 22971.2, 22486.7, 22466.55, 22509.95, 22683.35, 22202.8, 22476.3, 22352.0, 22439.35, 21983.4, 21445.25, 21350.8, 20898.8, 20740.8, 21152.05, 21770.9, 21405.25, 21685.25, 22352.1, 22673.05, 22836.95, 23150.25, 23312.6, 23955.6, 23663.05, 23353.15, 23920.35, 23219.85, 23902.9, 24117.35, 24444.2, 24447.35, 24669.2, 24525.8, 24288.05, 24737.85, 24063.5, 24090.15, 24367.6, 25108.0, 25539.55, 26174.8, 26274.1, 27088.95, 28039.45, 28713.15, 28633.75, 28108.7, 28685.7, 28792.25, 29107.9, 29302.6, 28935.75, 29432.8, 29265.6, 30021.9, 29370.4, 29622.0, 29844.8, 29876.7, 29728.9, 29573.4, 30062.6, 30300.3, 30335.05, 30545.35, 30555.3, 30735.15, 30805.4, 30920.35, 30791.2, 30841.85, 30595.8, 29607.5, 29560.75, 30071.65, 30558.85, 31006.9, 31479.8, 31295.9], \"type\": \"candlestick\", \"x\": [\"2020-03-02T00:00:00\", \"2020-03-03T00:00:00\", \"2020-03-04T00:00:00\", \"2020-03-05T00:00:00\", \"2020-03-06T00:00:00\", \"2020-03-09T00:00:00\", \"2020-03-11T00:00:00\", \"2020-03-12T00:00:00\", \"2020-03-13T00:00:00\", \"2020-03-16T00:00:00\", \"2020-03-17T00:00:00\", \"2020-03-18T00:00:00\", \"2020-03-19T00:00:00\", \"2020-03-20T00:00:00\", \"2020-03-23T00:00:00\", \"2020-03-24T00:00:00\", \"2020-03-25T00:00:00\", \"2020-03-26T00:00:00\", \"2020-03-27T00:00:00\", \"2020-03-30T00:00:00\", \"2020-03-31T00:00:00\", \"2020-04-01T00:00:00\", \"2020-04-03T00:00:00\", \"2020-04-07T00:00:00\", \"2020-04-08T00:00:00\", \"2020-04-09T00:00:00\", \"2020-04-13T00:00:00\", \"2020-04-15T00:00:00\", \"2020-04-16T00:00:00\", \"2020-04-17T00:00:00\", \"2020-04-20T00:00:00\", \"2020-04-21T00:00:00\", \"2020-04-22T00:00:00\", \"2020-04-23T00:00:00\", \"2020-04-24T00:00:00\", \"2020-04-27T00:00:00\", \"2020-04-28T00:00:00\", \"2020-04-29T00:00:00\", \"2020-04-30T00:00:00\", \"2020-05-04T00:00:00\", \"2020-05-05T00:00:00\", \"2020-05-06T00:00:00\", \"2020-05-07T00:00:00\", \"2020-05-08T00:00:00\", \"2020-05-11T00:00:00\", \"2020-05-12T00:00:00\", \"2020-05-13T00:00:00\", \"2020-05-14T00:00:00\", \"2020-05-15T00:00:00\", \"2020-05-18T00:00:00\", \"2020-05-19T00:00:00\", \"2020-05-20T00:00:00\", \"2020-05-21T00:00:00\", \"2020-05-22T00:00:00\", \"2020-05-26T00:00:00\", \"2020-05-27T00:00:00\", \"2020-05-28T00:00:00\", \"2020-05-29T00:00:00\", \"2020-06-01T00:00:00\", \"2020-06-02T00:00:00\", \"2020-06-03T00:00:00\", \"2020-06-04T00:00:00\", \"2020-06-05T00:00:00\", \"2020-06-08T00:00:00\", \"2020-06-09T00:00:00\", \"2020-06-10T00:00:00\", \"2020-06-11T00:00:00\", \"2020-06-12T00:00:00\", \"2020-06-15T00:00:00\", \"2020-06-16T00:00:00\", \"2020-06-17T00:00:00\", \"2020-06-18T00:00:00\", \"2020-06-19T00:00:00\", \"2020-06-22T00:00:00\", \"2020-06-23T00:00:00\", \"2020-06-24T00:00:00\", \"2020-06-25T00:00:00\", \"2020-06-26T00:00:00\", \"2020-06-29T00:00:00\", \"2020-06-30T00:00:00\", \"2020-07-01T00:00:00\", \"2020-07-02T00:00:00\", \"2020-07-03T00:00:00\", \"2020-07-06T00:00:00\", \"2020-07-07T00:00:00\", \"2020-07-08T00:00:00\", \"2020-07-09T00:00:00\", \"2020-07-10T00:00:00\", \"2020-07-13T00:00:00\", \"2020-07-14T00:00:00\", \"2020-07-15T00:00:00\", \"2020-07-16T00:00:00\", \"2020-07-17T00:00:00\", \"2020-07-20T00:00:00\", \"2020-07-21T00:00:00\", \"2020-07-22T00:00:00\", \"2020-07-23T00:00:00\", \"2020-07-24T00:00:00\", \"2020-07-27T00:00:00\", \"2020-07-28T00:00:00\", \"2020-07-29T00:00:00\", \"2020-07-30T00:00:00\", \"2020-07-31T00:00:00\", \"2020-08-03T00:00:00\", \"2020-08-04T00:00:00\", \"2020-08-05T00:00:00\", \"2020-08-06T00:00:00\", \"2020-08-07T00:00:00\", \"2020-08-10T00:00:00\", \"2020-08-11T00:00:00\", \"2020-08-12T00:00:00\", \"2020-08-13T00:00:00\", \"2020-08-14T00:00:00\", \"2020-08-17T00:00:00\", \"2020-08-18T00:00:00\", \"2020-08-19T00:00:00\", \"2020-08-20T00:00:00\", \"2020-08-21T00:00:00\", \"2020-08-24T00:00:00\", \"2020-08-25T00:00:00\", \"2020-08-26T00:00:00\", \"2020-08-27T00:00:00\", \"2020-08-28T00:00:00\", \"2020-08-31T00:00:00\", \"2020-09-01T00:00:00\", \"2020-09-02T00:00:00\", \"2020-09-03T00:00:00\", \"2020-09-04T00:00:00\", \"2020-09-07T00:00:00\", \"2020-09-08T00:00:00\", \"2020-09-09T00:00:00\", \"2020-09-10T00:00:00\", \"2020-09-11T00:00:00\", \"2020-09-14T00:00:00\", \"2020-09-15T00:00:00\", \"2020-09-16T00:00:00\", \"2020-09-17T00:00:00\", \"2020-09-18T00:00:00\", \"2020-09-21T00:00:00\", \"2020-09-22T00:00:00\", \"2020-09-23T00:00:00\", \"2020-09-24T00:00:00\", \"2020-09-25T00:00:00\", \"2020-09-28T00:00:00\", \"2020-09-29T00:00:00\", \"2020-09-30T00:00:00\", \"2020-10-01T00:00:00\", \"2020-10-05T00:00:00\", \"2020-10-06T00:00:00\", \"2020-10-07T00:00:00\", \"2020-10-08T00:00:00\", \"2020-10-09T00:00:00\", \"2020-10-12T00:00:00\", \"2020-10-13T00:00:00\", \"2020-10-14T00:00:00\", \"2020-10-15T00:00:00\", \"2020-10-16T00:00:00\", \"2020-10-19T00:00:00\", \"2020-10-20T00:00:00\", \"2020-10-21T00:00:00\", \"2020-10-22T00:00:00\", \"2020-10-23T00:00:00\", \"2020-10-26T00:00:00\", \"2020-10-27T00:00:00\", \"2020-10-28T00:00:00\", \"2020-10-29T00:00:00\", \"2020-10-30T00:00:00\", \"2020-11-02T00:00:00\", \"2020-11-03T00:00:00\", \"2020-11-04T00:00:00\", \"2020-11-05T00:00:00\", \"2020-11-06T00:00:00\", \"2020-11-09T00:00:00\", \"2020-11-10T00:00:00\", \"2020-11-11T00:00:00\", \"2020-11-12T00:00:00\", \"2020-11-13T00:00:00\", \"2020-11-14T00:00:00\", \"2020-11-17T00:00:00\", \"2020-11-18T00:00:00\", \"2020-11-19T00:00:00\", \"2020-11-20T00:00:00\", \"2020-11-23T00:00:00\", \"2020-11-24T00:00:00\", \"2020-11-25T00:00:00\", \"2020-11-26T00:00:00\", \"2020-11-27T00:00:00\", \"2020-12-01T00:00:00\", \"2020-12-02T00:00:00\", \"2020-12-03T00:00:00\", \"2020-12-04T00:00:00\", \"2020-12-07T00:00:00\", \"2020-12-08T00:00:00\", \"2020-12-09T00:00:00\", \"2020-12-10T00:00:00\", \"2020-12-11T00:00:00\", \"2020-12-14T00:00:00\", \"2020-12-15T00:00:00\", \"2020-12-16T00:00:00\", \"2020-12-17T00:00:00\", \"2020-12-18T00:00:00\", \"2020-12-21T00:00:00\", \"2020-12-22T00:00:00\", \"2020-12-23T00:00:00\", \"2020-12-24T00:00:00\", \"2020-12-28T00:00:00\", \"2020-12-29T00:00:00\", \"2020-12-30T00:00:00\", \"2020-12-31T00:00:00\"]}],\n",
              "                        {\"template\": {\"data\": {\"bar\": [{\"error_x\": {\"color\": \"#2a3f5f\"}, \"error_y\": {\"color\": \"#2a3f5f\"}, \"marker\": {\"line\": {\"color\": \"#E5ECF6\", \"width\": 0.5}}, \"type\": \"bar\"}], \"barpolar\": [{\"marker\": {\"line\": {\"color\": \"#E5ECF6\", \"width\": 0.5}}, \"type\": \"barpolar\"}], \"carpet\": [{\"aaxis\": {\"endlinecolor\": \"#2a3f5f\", \"gridcolor\": \"white\", \"linecolor\": \"white\", \"minorgridcolor\": \"white\", \"startlinecolor\": \"#2a3f5f\"}, \"baxis\": {\"endlinecolor\": \"#2a3f5f\", \"gridcolor\": \"white\", \"linecolor\": \"white\", \"minorgridcolor\": \"white\", \"startlinecolor\": \"#2a3f5f\"}, \"type\": \"carpet\"}], \"choropleth\": [{\"colorbar\": {\"outlinewidth\": 0, \"ticks\": \"\"}, \"type\": \"choropleth\"}], \"contour\": [{\"colorbar\": {\"outlinewidth\": 0, \"ticks\": \"\"}, \"colorscale\": [[0.0, \"#0d0887\"], [0.1111111111111111, \"#46039f\"], [0.2222222222222222, \"#7201a8\"], [0.3333333333333333, \"#9c179e\"], [0.4444444444444444, \"#bd3786\"], [0.5555555555555556, \"#d8576b\"], [0.6666666666666666, \"#ed7953\"], [0.7777777777777778, \"#fb9f3a\"], [0.8888888888888888, \"#fdca26\"], [1.0, \"#f0f921\"]], \"type\": \"contour\"}], \"contourcarpet\": [{\"colorbar\": {\"outlinewidth\": 0, \"ticks\": \"\"}, \"type\": \"contourcarpet\"}], \"heatmap\": [{\"colorbar\": {\"outlinewidth\": 0, \"ticks\": \"\"}, \"colorscale\": [[0.0, \"#0d0887\"], [0.1111111111111111, \"#46039f\"], [0.2222222222222222, \"#7201a8\"], [0.3333333333333333, \"#9c179e\"], [0.4444444444444444, \"#bd3786\"], [0.5555555555555556, \"#d8576b\"], [0.6666666666666666, \"#ed7953\"], [0.7777777777777778, \"#fb9f3a\"], [0.8888888888888888, \"#fdca26\"], [1.0, \"#f0f921\"]], \"type\": \"heatmap\"}], \"heatmapgl\": [{\"colorbar\": {\"outlinewidth\": 0, \"ticks\": \"\"}, \"colorscale\": [[0.0, \"#0d0887\"], [0.1111111111111111, \"#46039f\"], [0.2222222222222222, \"#7201a8\"], [0.3333333333333333, \"#9c179e\"], [0.4444444444444444, \"#bd3786\"], [0.5555555555555556, \"#d8576b\"], [0.6666666666666666, \"#ed7953\"], [0.7777777777777778, \"#fb9f3a\"], [0.8888888888888888, \"#fdca26\"], [1.0, \"#f0f921\"]], \"type\": \"heatmapgl\"}], \"histogram\": [{\"marker\": {\"colorbar\": {\"outlinewidth\": 0, \"ticks\": \"\"}}, \"type\": \"histogram\"}], \"histogram2d\": [{\"colorbar\": {\"outlinewidth\": 0, \"ticks\": \"\"}, \"colorscale\": [[0.0, \"#0d0887\"], [0.1111111111111111, \"#46039f\"], [0.2222222222222222, \"#7201a8\"], [0.3333333333333333, \"#9c179e\"], [0.4444444444444444, \"#bd3786\"], [0.5555555555555556, \"#d8576b\"], [0.6666666666666666, \"#ed7953\"], [0.7777777777777778, \"#fb9f3a\"], [0.8888888888888888, \"#fdca26\"], [1.0, \"#f0f921\"]], \"type\": \"histogram2d\"}], \"histogram2dcontour\": [{\"colorbar\": {\"outlinewidth\": 0, \"ticks\": \"\"}, \"colorscale\": [[0.0, \"#0d0887\"], [0.1111111111111111, \"#46039f\"], [0.2222222222222222, \"#7201a8\"], [0.3333333333333333, \"#9c179e\"], [0.4444444444444444, \"#bd3786\"], [0.5555555555555556, \"#d8576b\"], [0.6666666666666666, \"#ed7953\"], [0.7777777777777778, \"#fb9f3a\"], [0.8888888888888888, \"#fdca26\"], [1.0, \"#f0f921\"]], \"type\": \"histogram2dcontour\"}], \"mesh3d\": [{\"colorbar\": {\"outlinewidth\": 0, \"ticks\": \"\"}, \"type\": \"mesh3d\"}], \"parcoords\": [{\"line\": {\"colorbar\": {\"outlinewidth\": 0, \"ticks\": \"\"}}, \"type\": \"parcoords\"}], \"pie\": [{\"automargin\": true, \"type\": \"pie\"}], \"scatter\": [{\"marker\": {\"colorbar\": {\"outlinewidth\": 0, \"ticks\": \"\"}}, \"type\": \"scatter\"}], \"scatter3d\": [{\"line\": {\"colorbar\": {\"outlinewidth\": 0, \"ticks\": \"\"}}, \"marker\": {\"colorbar\": {\"outlinewidth\": 0, \"ticks\": \"\"}}, \"type\": \"scatter3d\"}], \"scattercarpet\": [{\"marker\": {\"colorbar\": {\"outlinewidth\": 0, \"ticks\": \"\"}}, \"type\": \"scattercarpet\"}], \"scattergeo\": [{\"marker\": {\"colorbar\": {\"outlinewidth\": 0, \"ticks\": \"\"}}, \"type\": \"scattergeo\"}], \"scattergl\": [{\"marker\": {\"colorbar\": {\"outlinewidth\": 0, \"ticks\": \"\"}}, \"type\": \"scattergl\"}], \"scattermapbox\": [{\"marker\": {\"colorbar\": {\"outlinewidth\": 0, \"ticks\": \"\"}}, \"type\": \"scattermapbox\"}], \"scatterpolar\": [{\"marker\": {\"colorbar\": {\"outlinewidth\": 0, \"ticks\": \"\"}}, \"type\": \"scatterpolar\"}], \"scatterpolargl\": [{\"marker\": {\"colorbar\": {\"outlinewidth\": 0, \"ticks\": \"\"}}, \"type\": \"scatterpolargl\"}], \"scatterternary\": [{\"marker\": {\"colorbar\": {\"outlinewidth\": 0, \"ticks\": \"\"}}, \"type\": \"scatterternary\"}], \"surface\": [{\"colorbar\": {\"outlinewidth\": 0, \"ticks\": \"\"}, \"colorscale\": [[0.0, \"#0d0887\"], [0.1111111111111111, \"#46039f\"], [0.2222222222222222, \"#7201a8\"], [0.3333333333333333, \"#9c179e\"], [0.4444444444444444, \"#bd3786\"], [0.5555555555555556, \"#d8576b\"], [0.6666666666666666, \"#ed7953\"], [0.7777777777777778, \"#fb9f3a\"], [0.8888888888888888, \"#fdca26\"], [1.0, \"#f0f921\"]], \"type\": \"surface\"}], \"table\": [{\"cells\": {\"fill\": {\"color\": \"#EBF0F8\"}, \"line\": {\"color\": \"white\"}}, \"header\": {\"fill\": {\"color\": \"#C8D4E3\"}, \"line\": {\"color\": \"white\"}}, \"type\": \"table\"}]}, \"layout\": {\"annotationdefaults\": {\"arrowcolor\": \"#2a3f5f\", \"arrowhead\": 0, \"arrowwidth\": 1}, \"coloraxis\": {\"colorbar\": {\"outlinewidth\": 0, \"ticks\": \"\"}}, \"colorscale\": {\"diverging\": [[0, \"#8e0152\"], [0.1, \"#c51b7d\"], [0.2, \"#de77ae\"], [0.3, \"#f1b6da\"], [0.4, \"#fde0ef\"], [0.5, \"#f7f7f7\"], [0.6, \"#e6f5d0\"], [0.7, \"#b8e186\"], [0.8, \"#7fbc41\"], [0.9, \"#4d9221\"], [1, \"#276419\"]], \"sequential\": [[0.0, \"#0d0887\"], [0.1111111111111111, \"#46039f\"], [0.2222222222222222, \"#7201a8\"], [0.3333333333333333, \"#9c179e\"], [0.4444444444444444, \"#bd3786\"], [0.5555555555555556, \"#d8576b\"], [0.6666666666666666, \"#ed7953\"], [0.7777777777777778, \"#fb9f3a\"], [0.8888888888888888, \"#fdca26\"], [1.0, \"#f0f921\"]], \"sequentialminus\": [[0.0, \"#0d0887\"], [0.1111111111111111, \"#46039f\"], [0.2222222222222222, \"#7201a8\"], [0.3333333333333333, \"#9c179e\"], [0.4444444444444444, \"#bd3786\"], [0.5555555555555556, \"#d8576b\"], [0.6666666666666666, \"#ed7953\"], [0.7777777777777778, \"#fb9f3a\"], [0.8888888888888888, \"#fdca26\"], [1.0, \"#f0f921\"]]}, \"colorway\": [\"#636efa\", \"#EF553B\", \"#00cc96\", \"#ab63fa\", \"#FFA15A\", \"#19d3f3\", \"#FF6692\", \"#B6E880\", \"#FF97FF\", \"#FECB52\"], \"font\": {\"color\": \"#2a3f5f\"}, \"geo\": {\"bgcolor\": \"white\", \"lakecolor\": \"white\", \"landcolor\": \"#E5ECF6\", \"showlakes\": true, \"showland\": true, \"subunitcolor\": \"white\"}, \"hoverlabel\": {\"align\": \"left\"}, \"hovermode\": \"closest\", \"mapbox\": {\"style\": \"light\"}, \"paper_bgcolor\": \"white\", \"plot_bgcolor\": \"#E5ECF6\", \"polar\": {\"angularaxis\": {\"gridcolor\": \"white\", \"linecolor\": \"white\", \"ticks\": \"\"}, \"bgcolor\": \"#E5ECF6\", \"radialaxis\": {\"gridcolor\": \"white\", \"linecolor\": \"white\", \"ticks\": \"\"}}, \"scene\": {\"xaxis\": {\"backgroundcolor\": \"#E5ECF6\", \"gridcolor\": \"white\", \"gridwidth\": 2, \"linecolor\": \"white\", \"showbackground\": true, \"ticks\": \"\", \"zerolinecolor\": \"white\"}, \"yaxis\": {\"backgroundcolor\": \"#E5ECF6\", \"gridcolor\": \"white\", \"gridwidth\": 2, \"linecolor\": \"white\", \"showbackground\": true, \"ticks\": \"\", \"zerolinecolor\": \"white\"}, \"zaxis\": {\"backgroundcolor\": \"#E5ECF6\", \"gridcolor\": \"white\", \"gridwidth\": 2, \"linecolor\": \"white\", \"showbackground\": true, \"ticks\": \"\", \"zerolinecolor\": \"white\"}}, \"shapedefaults\": {\"line\": {\"color\": \"#2a3f5f\"}}, \"ternary\": {\"aaxis\": {\"gridcolor\": \"white\", \"linecolor\": \"white\", \"ticks\": \"\"}, \"baxis\": {\"gridcolor\": \"white\", \"linecolor\": \"white\", \"ticks\": \"\"}, \"bgcolor\": \"#E5ECF6\", \"caxis\": {\"gridcolor\": \"white\", \"linecolor\": \"white\", \"ticks\": \"\"}}, \"title\": {\"x\": 0.05}, \"xaxis\": {\"automargin\": true, \"gridcolor\": \"white\", \"linecolor\": \"white\", \"ticks\": \"\", \"title\": {\"standoff\": 15}, \"zerolinecolor\": \"white\", \"zerolinewidth\": 2}, \"yaxis\": {\"automargin\": true, \"gridcolor\": \"white\", \"linecolor\": \"white\", \"ticks\": \"\", \"title\": {\"standoff\": 15}, \"zerolinecolor\": \"white\", \"zerolinewidth\": 2}}}, \"title\": {\"text\": \"Bank Nifty Index From March 2020 to May 2020\", \"x\": 0.5, \"xanchor\": \"center\", \"y\": 0.9, \"yanchor\": \"top\"}, \"xaxis\": {\"rangeslider\": {\"visible\": true}, \"title\": {\"text\": \"Time\"}}, \"yaxis\": {\"title\": {\"text\": \"Price\"}}},\n",
              "                        {\"responsive\": true}\n",
              "                    ).then(function(){\n",
              "                            \n",
              "var gd = document.getElementById('e3539caa-0d57-416b-be6b-943d4554534d');\n",
              "var x = new MutationObserver(function (mutations, observer) {{\n",
              "        var display = window.getComputedStyle(gd).display;\n",
              "        if (!display || display === 'none') {{\n",
              "            console.log([gd, 'removed!']);\n",
              "            Plotly.purge(gd);\n",
              "            observer.disconnect();\n",
              "        }}\n",
              "}});\n",
              "\n",
              "// Listen for the removal of the full notebook cells\n",
              "var notebookContainer = gd.closest('#notebook-container');\n",
              "if (notebookContainer) {{\n",
              "    x.observe(notebookContainer, {childList: true});\n",
              "}}\n",
              "\n",
              "// Listen for the clearing of the current output cell\n",
              "var outputEl = gd.closest('.output');\n",
              "if (outputEl) {{\n",
              "    x.observe(outputEl, {childList: true});\n",
              "}}\n",
              "\n",
              "                        })\n",
              "                };\n",
              "                });\n",
              "            </script>\n",
              "        </div>"
            ],
            "application/vnd.plotly.v1+json": {
              "data": [
                {
                  "type": "candlestick",
                  "high": [
                    29791.15,
                    29285.35,
                    29273.65,
                    29134.3,
                    28047.2,
                    27091.6,
                    26791.45,
                    25223.1,
                    25670.75,
                    24074.15,
                    23449.5,
                    22544.05,
                    21035.05,
                    20924.55,
                    18895.65,
                    17841.4,
                    18740.2,
                    20409.35,
                    21462.4,
                    19716.25,
                    19466.3,
                    19154.75,
                    18326.1,
                    19190.55,
                    20324.1,
                    19988.3,
                    19887.05,
                    20184.1,
                    19520.3,
                    20866.55,
                    21122.1,
                    19891.45,
                    19806.35,
                    20356.5,
                    19950.15,
                    20224.75,
                    20751.3,
                    21348.15,
                    21967,
                    20530.45,
                    20223.15,
                    19806.6,
                    19757.25,
                    19969.6,
                    19733.4,
                    18993.4,
                    20122.25,
                    19380.1,
                    19119.1,
                    18795.1,
                    18175.3,
                    18002.65,
                    18200.7,
                    17952.25,
                    17681.7,
                    18874.25,
                    19455.55,
                    19358.05,
                    20225.35,
                    20615.75,
                    21619.55,
                    21141.8,
                    21198.7,
                    21807.4,
                    21568.85,
                    21251.45,
                    21244.45,
                    20747.7,
                    20470.85,
                    20638.85,
                    20627.9,
                    21028.35,
                    21467.65,
                    22078.25,
                    22322.3,
                    22479.55,
                    21703.5,
                    21784.65,
                    21440.05,
                    21650.5,
                    22061.6,
                    22344.85,
                    22130.3,
                    22399.25,
                    22674.5,
                    23080.6,
                    22998.3,
                    22835.2,
                    22657.4,
                    21909.7,
                    21935.5,
                    21671.25,
                    22065,
                    22520.45,
                    22861.9,
                    23211.35,
                    23122.35,
                    22854.05,
                    22668.05,
                    22233,
                    22346.4,
                    22252.6,
                    21806.95,
                    21543.8,
                    21576.35,
                    21936.5,
                    21926.55,
                    21787.25,
                    22071.95,
                    22277.6,
                    22326.55,
                    22439.95,
                    22334.95,
                    21909.4,
                    22227.75,
                    22419.35,
                    22079.9,
                    22344.05,
                    22897.5,
                    23180.3,
                    23453.4,
                    23704.05,
                    24611.8,
                    25232.6,
                    24199.65,
                    23926.15,
                    24051.6,
                    23394.8,
                    23109.1,
                    23064.15,
                    22554.6,
                    22678.65,
                    22668.75,
                    22757.3,
                    22514.15,
                    22659.4,
                    22504.45,
                    22469.4,
                    22098.85,
                    21473.35,
                    21365.05,
                    20955.6,
                    21064.3,
                    21708.85,
                    21811.5,
                    21549.35,
                    22293.75,
                    22768.55,
                    22893.5,
                    23036.2,
                    23450.9,
                    23904.1,
                    24190.35,
                    23775.15,
                    23962.7,
                    24087.85,
                    23646.2,
                    24320.95,
                    24410.9,
                    24823.6,
                    24691.15,
                    24764.15,
                    24577.3,
                    24809.65,
                    24780.7,
                    24339.1,
                    24277.35,
                    25139,
                    25760.7,
                    25891,
                    26375.2,
                    26853.45,
                    27595,
                    28802.5,
                    29030.9,
                    28672.9,
                    28520.55,
                    28752.45,
                    29239.25,
                    29784.75,
                    29627.2,
                    29406.7,
                    29492.3,
                    29827.8,
                    30197.85,
                    29623,
                    29716.85,
                    29919.75,
                    29886.25,
                    29813,
                    30162.3,
                    30354.2,
                    30363.8,
                    30807.25,
                    30610,
                    30811.8,
                    30845.8,
                    30805.85,
                    30932.25,
                    30945.2,
                    30854.05,
                    30607.5,
                    29711.15,
                    29941.4,
                    30545.85,
                    30929.05,
                    31359.35,
                    31510.25,
                    31409.5
                  ],
                  "low": [
                    28571.7,
                    28749.55,
                    28125.15,
                    28535.6,
                    27162.3,
                    25923.4,
                    26234.1,
                    23536.35,
                    21351.7,
                    23008.25,
                    22002,
                    20267.95,
                    18675.65,
                    19265,
                    16791.05,
                    16116.25,
                    16635.5,
                    18364.5,
                    19580.1,
                    18668.7,
                    18792.4,
                    18042.25,
                    17143.2,
                    17953.75,
                    18482.9,
                    19166.9,
                    19294,
                    18776.75,
                    18703.45,
                    19729.3,
                    20444.25,
                    19247.95,
                    19051.95,
                    19584.4,
                    19515.4,
                    19847.65,
                    20260.8,
                    20393.65,
                    21353.65,
                    19643.6,
                    19212.35,
                    18941,
                    19332.15,
                    19285.05,
                    18900.9,
                    18287,
                    19429.9,
                    19024.75,
                    18683.65,
                    17514.2,
                    17390.65,
                    17407.7,
                    17658.55,
                    17105,
                    17311.25,
                    17560.35,
                    18818.95,
                    18729.9,
                    19632.9,
                    19852.55,
                    20822,
                    20316.2,
                    20425.05,
                    20911.25,
                    20629.7,
                    20671.55,
                    20458.3,
                    19526.1,
                    19740.2,
                    19507.05,
                    19978.15,
                    20030.35,
                    20878.25,
                    21425.55,
                    21647.8,
                    21336.35,
                    20926.45,
                    21320.1,
                    21026.45,
                    21212,
                    21281.85,
                    21890.5,
                    21768,
                    22171.05,
                    22040.35,
                    22499.5,
                    22673.4,
                    22320.05,
                    21981.65,
                    21222.45,
                    21230.55,
                    21027.85,
                    21550.8,
                    22187.8,
                    22597.95,
                    22658.2,
                    22734.9,
                    22417.2,
                    21801.35,
                    21611.4,
                    21906.35,
                    21580.15,
                    21375,
                    21031.45,
                    21057.75,
                    21448.4,
                    21370.3,
                    21451.3,
                    21795.1,
                    22039.85,
                    21990.2,
                    22139.6,
                    21459.1,
                    21403.15,
                    21629.4,
                    22234.25,
                    21886.7,
                    22165.05,
                    22410.05,
                    22857.9,
                    23093.15,
                    23464.15,
                    23599.2,
                    23385.3,
                    23473.15,
                    23482.55,
                    23451.65,
                    22876.9,
                    22716.25,
                    22641.4,
                    22080.4,
                    22225.25,
                    22205.95,
                    22028.15,
                    22062.35,
                    22216.5,
                    22267.05,
                    21784.9,
                    21274.3,
                    20958.45,
                    20821,
                    20404.9,
                    20430.7,
                    21055.1,
                    21280.6,
                    21128.5,
                    21664.15,
                    22247.25,
                    22521.05,
                    22607.8,
                    23063.6,
                    23132.45,
                    23552.6,
                    23431.5,
                    23149.45,
                    22970.95,
                    23148.95,
                    23754.85,
                    24039.85,
                    24099.85,
                    24250.2,
                    24360.85,
                    23867.75,
                    23924.2,
                    24057.95,
                    23822.05,
                    23612.7,
                    24120.6,
                    25085.7,
                    25142,
                    26000.05,
                    26135.3,
                    27068.95,
                    27916.9,
                    28211.1,
                    28066.05,
                    27703.3,
                    28431.85,
                    28722.9,
                    29056.75,
                    28819.55,
                    28580.9,
                    28852.9,
                    29206.75,
                    29132.3,
                    28923.1,
                    29368.7,
                    29511,
                    29149.9,
                    29379.4,
                    29473.5,
                    29950.6,
                    30025.2,
                    30326.7,
                    30202.1,
                    30328.45,
                    30624.25,
                    30345.75,
                    30587.1,
                    30643.9,
                    30374.5,
                    29201.2,
                    28976.75,
                    29446,
                    30007.8,
                    30538.15,
                    31002.6,
                    31007.15,
                    31088.1
                  ],
                  "x": [
                    "2020-03-02T00:00:00",
                    "2020-03-03T00:00:00",
                    "2020-03-04T00:00:00",
                    "2020-03-05T00:00:00",
                    "2020-03-06T00:00:00",
                    "2020-03-09T00:00:00",
                    "2020-03-11T00:00:00",
                    "2020-03-12T00:00:00",
                    "2020-03-13T00:00:00",
                    "2020-03-16T00:00:00",
                    "2020-03-17T00:00:00",
                    "2020-03-18T00:00:00",
                    "2020-03-19T00:00:00",
                    "2020-03-20T00:00:00",
                    "2020-03-23T00:00:00",
                    "2020-03-24T00:00:00",
                    "2020-03-25T00:00:00",
                    "2020-03-26T00:00:00",
                    "2020-03-27T00:00:00",
                    "2020-03-30T00:00:00",
                    "2020-03-31T00:00:00",
                    "2020-04-01T00:00:00",
                    "2020-04-03T00:00:00",
                    "2020-04-07T00:00:00",
                    "2020-04-08T00:00:00",
                    "2020-04-09T00:00:00",
                    "2020-04-13T00:00:00",
                    "2020-04-15T00:00:00",
                    "2020-04-16T00:00:00",
                    "2020-04-17T00:00:00",
                    "2020-04-20T00:00:00",
                    "2020-04-21T00:00:00",
                    "2020-04-22T00:00:00",
                    "2020-04-23T00:00:00",
                    "2020-04-24T00:00:00",
                    "2020-04-27T00:00:00",
                    "2020-04-28T00:00:00",
                    "2020-04-29T00:00:00",
                    "2020-04-30T00:00:00",
                    "2020-05-04T00:00:00",
                    "2020-05-05T00:00:00",
                    "2020-05-06T00:00:00",
                    "2020-05-07T00:00:00",
                    "2020-05-08T00:00:00",
                    "2020-05-11T00:00:00",
                    "2020-05-12T00:00:00",
                    "2020-05-13T00:00:00",
                    "2020-05-14T00:00:00",
                    "2020-05-15T00:00:00",
                    "2020-05-18T00:00:00",
                    "2020-05-19T00:00:00",
                    "2020-05-20T00:00:00",
                    "2020-05-21T00:00:00",
                    "2020-05-22T00:00:00",
                    "2020-05-26T00:00:00",
                    "2020-05-27T00:00:00",
                    "2020-05-28T00:00:00",
                    "2020-05-29T00:00:00",
                    "2020-06-01T00:00:00",
                    "2020-06-02T00:00:00",
                    "2020-06-03T00:00:00",
                    "2020-06-04T00:00:00",
                    "2020-06-05T00:00:00",
                    "2020-06-08T00:00:00",
                    "2020-06-09T00:00:00",
                    "2020-06-10T00:00:00",
                    "2020-06-11T00:00:00",
                    "2020-06-12T00:00:00",
                    "2020-06-15T00:00:00",
                    "2020-06-16T00:00:00",
                    "2020-06-17T00:00:00",
                    "2020-06-18T00:00:00",
                    "2020-06-19T00:00:00",
                    "2020-06-22T00:00:00",
                    "2020-06-23T00:00:00",
                    "2020-06-24T00:00:00",
                    "2020-06-25T00:00:00",
                    "2020-06-26T00:00:00",
                    "2020-06-29T00:00:00",
                    "2020-06-30T00:00:00",
                    "2020-07-01T00:00:00",
                    "2020-07-02T00:00:00",
                    "2020-07-03T00:00:00",
                    "2020-07-06T00:00:00",
                    "2020-07-07T00:00:00",
                    "2020-07-08T00:00:00",
                    "2020-07-09T00:00:00",
                    "2020-07-10T00:00:00",
                    "2020-07-13T00:00:00",
                    "2020-07-14T00:00:00",
                    "2020-07-15T00:00:00",
                    "2020-07-16T00:00:00",
                    "2020-07-17T00:00:00",
                    "2020-07-20T00:00:00",
                    "2020-07-21T00:00:00",
                    "2020-07-22T00:00:00",
                    "2020-07-23T00:00:00",
                    "2020-07-24T00:00:00",
                    "2020-07-27T00:00:00",
                    "2020-07-28T00:00:00",
                    "2020-07-29T00:00:00",
                    "2020-07-30T00:00:00",
                    "2020-07-31T00:00:00",
                    "2020-08-03T00:00:00",
                    "2020-08-04T00:00:00",
                    "2020-08-05T00:00:00",
                    "2020-08-06T00:00:00",
                    "2020-08-07T00:00:00",
                    "2020-08-10T00:00:00",
                    "2020-08-11T00:00:00",
                    "2020-08-12T00:00:00",
                    "2020-08-13T00:00:00",
                    "2020-08-14T00:00:00",
                    "2020-08-17T00:00:00",
                    "2020-08-18T00:00:00",
                    "2020-08-19T00:00:00",
                    "2020-08-20T00:00:00",
                    "2020-08-21T00:00:00",
                    "2020-08-24T00:00:00",
                    "2020-08-25T00:00:00",
                    "2020-08-26T00:00:00",
                    "2020-08-27T00:00:00",
                    "2020-08-28T00:00:00",
                    "2020-08-31T00:00:00",
                    "2020-09-01T00:00:00",
                    "2020-09-02T00:00:00",
                    "2020-09-03T00:00:00",
                    "2020-09-04T00:00:00",
                    "2020-09-07T00:00:00",
                    "2020-09-08T00:00:00",
                    "2020-09-09T00:00:00",
                    "2020-09-10T00:00:00",
                    "2020-09-11T00:00:00",
                    "2020-09-14T00:00:00",
                    "2020-09-15T00:00:00",
                    "2020-09-16T00:00:00",
                    "2020-09-17T00:00:00",
                    "2020-09-18T00:00:00",
                    "2020-09-21T00:00:00",
                    "2020-09-22T00:00:00",
                    "2020-09-23T00:00:00",
                    "2020-09-24T00:00:00",
                    "2020-09-25T00:00:00",
                    "2020-09-28T00:00:00",
                    "2020-09-29T00:00:00",
                    "2020-09-30T00:00:00",
                    "2020-10-01T00:00:00",
                    "2020-10-05T00:00:00",
                    "2020-10-06T00:00:00",
                    "2020-10-07T00:00:00",
                    "2020-10-08T00:00:00",
                    "2020-10-09T00:00:00",
                    "2020-10-12T00:00:00",
                    "2020-10-13T00:00:00",
                    "2020-10-14T00:00:00",
                    "2020-10-15T00:00:00",
                    "2020-10-16T00:00:00",
                    "2020-10-19T00:00:00",
                    "2020-10-20T00:00:00",
                    "2020-10-21T00:00:00",
                    "2020-10-22T00:00:00",
                    "2020-10-23T00:00:00",
                    "2020-10-26T00:00:00",
                    "2020-10-27T00:00:00",
                    "2020-10-28T00:00:00",
                    "2020-10-29T00:00:00",
                    "2020-10-30T00:00:00",
                    "2020-11-02T00:00:00",
                    "2020-11-03T00:00:00",
                    "2020-11-04T00:00:00",
                    "2020-11-05T00:00:00",
                    "2020-11-06T00:00:00",
                    "2020-11-09T00:00:00",
                    "2020-11-10T00:00:00",
                    "2020-11-11T00:00:00",
                    "2020-11-12T00:00:00",
                    "2020-11-13T00:00:00",
                    "2020-11-14T00:00:00",
                    "2020-11-17T00:00:00",
                    "2020-11-18T00:00:00",
                    "2020-11-19T00:00:00",
                    "2020-11-20T00:00:00",
                    "2020-11-23T00:00:00",
                    "2020-11-24T00:00:00",
                    "2020-11-25T00:00:00",
                    "2020-11-26T00:00:00",
                    "2020-11-27T00:00:00",
                    "2020-12-01T00:00:00",
                    "2020-12-02T00:00:00",
                    "2020-12-03T00:00:00",
                    "2020-12-04T00:00:00",
                    "2020-12-07T00:00:00",
                    "2020-12-08T00:00:00",
                    "2020-12-09T00:00:00",
                    "2020-12-10T00:00:00",
                    "2020-12-11T00:00:00",
                    "2020-12-14T00:00:00",
                    "2020-12-15T00:00:00",
                    "2020-12-16T00:00:00",
                    "2020-12-17T00:00:00",
                    "2020-12-18T00:00:00",
                    "2020-12-21T00:00:00",
                    "2020-12-22T00:00:00",
                    "2020-12-23T00:00:00",
                    "2020-12-24T00:00:00",
                    "2020-12-28T00:00:00",
                    "2020-12-29T00:00:00",
                    "2020-12-30T00:00:00",
                    "2020-12-31T00:00:00"
                  ],
                  "close": [
                    28868.4,
                    29177.05,
                    28653.7,
                    28815.35,
                    27801.45,
                    26462.6,
                    26487.8,
                    23971.15,
                    25166.45,
                    23101.15,
                    22155.15,
                    20580.2,
                    20083.5,
                    20317.6,
                    16917.65,
                    17107.3,
                    18481.05,
                    19613.9,
                    19969,
                    18782.4,
                    19144,
                    18208.35,
                    17249.3,
                    19062.5,
                    18946.45,
                    19913.6,
                    19488,
                    19057.05,
                    19400,
                    20681.45,
                    20522.65,
                    19409.35,
                    19701.85,
                    20267.95,
                    19586.65,
                    20081.15,
                    20671.1,
                    21090.2,
                    21534.5,
                    19743.75,
                    19271.75,
                    19694.55,
                    19491.8,
                    19352.9,
                    18950.5,
                    18862.85,
                    19634.95,
                    19068.5,
                    18833.95,
                    17573.2,
                    17486.25,
                    17840.2,
                    17735.1,
                    17278.9,
                    17440.35,
                    18710.55,
                    19169.8,
                    19297.25,
                    19959.9,
                    20530.2,
                    20940.7,
                    20390.45,
                    21034.5,
                    21187.35,
                    20724.9,
                    21100.1,
                    20525.15,
                    20654.55,
                    19912.9,
                    20296.7,
                    20201.75,
                    20956.3,
                    21338.1,
                    21708.35,
                    22264.9,
                    21426.8,
                    21506.15,
                    21592.05,
                    21359,
                    21370.15,
                    21977.6,
                    21953.2,
                    21852.4,
                    22198.95,
                    22628,
                    22584.65,
                    22907.2,
                    22398.45,
                    22089.25,
                    21392.2,
                    21340.75,
                    21597.15,
                    21966.8,
                    22321.85,
                    22782,
                    22882.6,
                    23083.9,
                    22662.05,
                    21848.75,
                    22105.2,
                    22076.6,
                    21646.85,
                    21640.05,
                    21072.1,
                    21490.5,
                    21509.95,
                    21642.6,
                    21754,
                    21900.25,
                    22227.2,
                    22264,
                    22196.35,
                    21679.4,
                    21700.85,
                    22170.6,
                    22285.9,
                    21999.45,
                    22299.6,
                    22833,
                    23092.15,
                    23414.2,
                    23600.35,
                    24523.8,
                    23754.35,
                    23812,
                    23874.55,
                    23530.85,
                    23011.5,
                    22945.05,
                    22744.4,
                    22267,
                    22466.2,
                    22479.95,
                    22101.25,
                    22465.65,
                    22573.55,
                    22320.35,
                    22031.05,
                    21366.8,
                    21139.1,
                    21178.5,
                    20456.85,
                    20982.35,
                    21665.5,
                    21411.3,
                    21451.8,
                    22246,
                    22370.95,
                    22853.7,
                    22964.8,
                    23191.35,
                    23846.8,
                    23712.8,
                    23492.2,
                    23874.65,
                    23072.4,
                    23533.25,
                    24266.75,
                    24311.8,
                    24635.05,
                    24484.15,
                    24478.3,
                    24075.45,
                    24769.5,
                    24232.5,
                    24092,
                    23900.9,
                    24892.5,
                    25682.8,
                    25771.6,
                    26313.1,
                    26798.95,
                    27534.1,
                    28606,
                    28845,
                    28278.8,
                    28465.7,
                    28594.3,
                    29181.3,
                    29749.85,
                    28903.05,
                    29236,
                    29024.2,
                    29737.25,
                    29196.4,
                    29549.75,
                    29609.05,
                    29817.85,
                    29463.15,
                    29448.75,
                    30052.4,
                    30211.55,
                    30261.9,
                    30709.4,
                    30510.35,
                    30604.85,
                    30745.9,
                    30691.05,
                    30698.4,
                    30847.05,
                    30714.65,
                    29456.45,
                    29625.95,
                    29883.3,
                    30402.2,
                    30880.95,
                    31322.5,
                    31303.05,
                    31264.05
                  ],
                  "open": [
                    29701,
                    29012.55,
                    29252.95,
                    28830.3,
                    27649.95,
                    27031.45,
                    26272.75,
                    25175.9,
                    22720.75,
                    24061.6,
                    23348.05,
                    22411.85,
                    19428.95,
                    19898.3,
                    18311.3,
                    17705.85,
                    16759.95,
                    18781.85,
                    20801.6,
                    19254.45,
                    19307.65,
                    19122.4,
                    18325.05,
                    18454.55,
                    18799.4,
                    19553.15,
                    19854.9,
                    20096.35,
                    18957.15,
                    20394.75,
                    21104.7,
                    19812.05,
                    19306.95,
                    19871.35,
                    19697.65,
                    19870.8,
                    20436.6,
                    20440.4,
                    21589.2,
                    20514.75,
                    20147.3,
                    19302.45,
                    19536.05,
                    19844,
                    19610.45,
                    18751.4,
                    20017.75,
                    19197.7,
                    19098.8,
                    18795.1,
                    18037.15,
                    17486.5,
                    17901.95,
                    17554.25,
                    17537.65,
                    17603.4,
                    18924.45,
                    18962,
                    19728.9,
                    20120.6,
                    20966.6,
                    20932.35,
                    20516.4,
                    21636.1,
                    21295.5,
                    20760.95,
                    21084.7,
                    19529.3,
                    20457.15,
                    20500.65,
                    20137.45,
                    20137.6,
                    20970.1,
                    21491.55,
                    21859.25,
                    22479.35,
                    21218.05,
                    21735.05,
                    21291.55,
                    21524.3,
                    21354.1,
                    22133.8,
                    22101.75,
                    22270.95,
                    22254.3,
                    22700.9,
                    22753.15,
                    22720.95,
                    22613.25,
                    21877.6,
                    21634.25,
                    21453.25,
                    21608.05,
                    22307.3,
                    22639.85,
                    23159,
                    22854.85,
                    22853.2,
                    22664.6,
                    21940.15,
                    22075,
                    22195.05,
                    21730.55,
                    21543.8,
                    21248.25,
                    21686.85,
                    21644.25,
                    21620.25,
                    21824.9,
                    22050.2,
                    22135.95,
                    22395.2,
                    22334.95,
                    21906.95,
                    21702,
                    22315.4,
                    21989.9,
                    22190.7,
                    22436.85,
                    22973.4,
                    23175.55,
                    23511.45,
                    23635.3,
                    25038.8,
                    23893.8,
                    23769,
                    23986.15,
                    23119.15,
                    23036.25,
                    22971.2,
                    22486.7,
                    22466.55,
                    22509.95,
                    22683.35,
                    22202.8,
                    22476.3,
                    22352,
                    22439.35,
                    21983.4,
                    21445.25,
                    21350.8,
                    20898.8,
                    20740.8,
                    21152.05,
                    21770.9,
                    21405.25,
                    21685.25,
                    22352.1,
                    22673.05,
                    22836.95,
                    23150.25,
                    23312.6,
                    23955.6,
                    23663.05,
                    23353.15,
                    23920.35,
                    23219.85,
                    23902.9,
                    24117.35,
                    24444.2,
                    24447.35,
                    24669.2,
                    24525.8,
                    24288.05,
                    24737.85,
                    24063.5,
                    24090.15,
                    24367.6,
                    25108,
                    25539.55,
                    26174.8,
                    26274.1,
                    27088.95,
                    28039.45,
                    28713.15,
                    28633.75,
                    28108.7,
                    28685.7,
                    28792.25,
                    29107.9,
                    29302.6,
                    28935.75,
                    29432.8,
                    29265.6,
                    30021.9,
                    29370.4,
                    29622,
                    29844.8,
                    29876.7,
                    29728.9,
                    29573.4,
                    30062.6,
                    30300.3,
                    30335.05,
                    30545.35,
                    30555.3,
                    30735.15,
                    30805.4,
                    30920.35,
                    30791.2,
                    30841.85,
                    30595.8,
                    29607.5,
                    29560.75,
                    30071.65,
                    30558.85,
                    31006.9,
                    31479.8,
                    31295.9
                  ]
                }
              ],
              "config": {
                "plotlyServerURL": "https://plot.ly"
              },
              "layout": {
                "yaxis": {
                  "title": {
                    "text": "Price"
                  }
                },
                "xaxis": {
                  "title": {
                    "text": "Time"
                  },
                  "rangeslider": {
                    "visible": true
                  }
                },
                "template": {
                  "layout": {
                    "shapedefaults": {
                      "line": {
                        "color": "#2a3f5f"
                      }
                    },
                    "polar": {
                      "radialaxis": {
                        "ticks": "",
                        "gridcolor": "white",
                        "linecolor": "white"
                      },
                      "bgcolor": "#E5ECF6",
                      "angularaxis": {
                        "ticks": "",
                        "gridcolor": "white",
                        "linecolor": "white"
                      }
                    },
                    "colorway": [
                      "#636efa",
                      "#EF553B",
                      "#00cc96",
                      "#ab63fa",
                      "#FFA15A",
                      "#19d3f3",
                      "#FF6692",
                      "#B6E880",
                      "#FF97FF",
                      "#FECB52"
                    ],
                    "xaxis": {
                      "automargin": true,
                      "title": {
                        "standoff": 15
                      },
                      "zerolinewidth": 2,
                      "ticks": "",
                      "zerolinecolor": "white",
                      "gridcolor": "white",
                      "linecolor": "white"
                    },
                    "colorscale": {
                      "diverging": [
                        [
                          0,
                          "#8e0152"
                        ],
                        [
                          0.1,
                          "#c51b7d"
                        ],
                        [
                          0.2,
                          "#de77ae"
                        ],
                        [
                          0.3,
                          "#f1b6da"
                        ],
                        [
                          0.4,
                          "#fde0ef"
                        ],
                        [
                          0.5,
                          "#f7f7f7"
                        ],
                        [
                          0.6,
                          "#e6f5d0"
                        ],
                        [
                          0.7,
                          "#b8e186"
                        ],
                        [
                          0.8,
                          "#7fbc41"
                        ],
                        [
                          0.9,
                          "#4d9221"
                        ],
                        [
                          1,
                          "#276419"
                        ]
                      ],
                      "sequential": [
                        [
                          0,
                          "#0d0887"
                        ],
                        [
                          0.1111111111111111,
                          "#46039f"
                        ],
                        [
                          0.2222222222222222,
                          "#7201a8"
                        ],
                        [
                          0.3333333333333333,
                          "#9c179e"
                        ],
                        [
                          0.4444444444444444,
                          "#bd3786"
                        ],
                        [
                          0.5555555555555556,
                          "#d8576b"
                        ],
                        [
                          0.6666666666666666,
                          "#ed7953"
                        ],
                        [
                          0.7777777777777778,
                          "#fb9f3a"
                        ],
                        [
                          0.8888888888888888,
                          "#fdca26"
                        ],
                        [
                          1,
                          "#f0f921"
                        ]
                      ],
                      "sequentialminus": [
                        [
                          0,
                          "#0d0887"
                        ],
                        [
                          0.1111111111111111,
                          "#46039f"
                        ],
                        [
                          0.2222222222222222,
                          "#7201a8"
                        ],
                        [
                          0.3333333333333333,
                          "#9c179e"
                        ],
                        [
                          0.4444444444444444,
                          "#bd3786"
                        ],
                        [
                          0.5555555555555556,
                          "#d8576b"
                        ],
                        [
                          0.6666666666666666,
                          "#ed7953"
                        ],
                        [
                          0.7777777777777778,
                          "#fb9f3a"
                        ],
                        [
                          0.8888888888888888,
                          "#fdca26"
                        ],
                        [
                          1,
                          "#f0f921"
                        ]
                      ]
                    },
                    "paper_bgcolor": "white",
                    "plot_bgcolor": "#E5ECF6",
                    "title": {
                      "x": 0.05
                    },
                    "scene": {
                      "zaxis": {
                        "backgroundcolor": "#E5ECF6",
                        "ticks": "",
                        "gridwidth": 2,
                        "showbackground": true,
                        "zerolinecolor": "white",
                        "gridcolor": "white",
                        "linecolor": "white"
                      },
                      "xaxis": {
                        "backgroundcolor": "#E5ECF6",
                        "ticks": "",
                        "gridwidth": 2,
                        "showbackground": true,
                        "zerolinecolor": "white",
                        "gridcolor": "white",
                        "linecolor": "white"
                      },
                      "yaxis": {
                        "backgroundcolor": "#E5ECF6",
                        "ticks": "",
                        "gridwidth": 2,
                        "showbackground": true,
                        "zerolinecolor": "white",
                        "gridcolor": "white",
                        "linecolor": "white"
                      }
                    },
                    "yaxis": {
                      "automargin": true,
                      "title": {
                        "standoff": 15
                      },
                      "zerolinewidth": 2,
                      "ticks": "",
                      "zerolinecolor": "white",
                      "gridcolor": "white",
                      "linecolor": "white"
                    },
                    "annotationdefaults": {
                      "arrowwidth": 1,
                      "arrowhead": 0,
                      "arrowcolor": "#2a3f5f"
                    },
                    "hoverlabel": {
                      "align": "left"
                    },
                    "ternary": {
                      "bgcolor": "#E5ECF6",
                      "baxis": {
                        "ticks": "",
                        "gridcolor": "white",
                        "linecolor": "white"
                      },
                      "caxis": {
                        "ticks": "",
                        "gridcolor": "white",
                        "linecolor": "white"
                      },
                      "aaxis": {
                        "ticks": "",
                        "gridcolor": "white",
                        "linecolor": "white"
                      }
                    },
                    "mapbox": {
                      "style": "light"
                    },
                    "hovermode": "closest",
                    "font": {
                      "color": "#2a3f5f"
                    },
                    "geo": {
                      "showland": true,
                      "landcolor": "#E5ECF6",
                      "showlakes": true,
                      "bgcolor": "white",
                      "subunitcolor": "white",
                      "lakecolor": "white"
                    },
                    "coloraxis": {
                      "colorbar": {
                        "outlinewidth": 0,
                        "ticks": ""
                      }
                    }
                  },
                  "data": {
                    "mesh3d": [
                      {
                        "colorbar": {
                          "outlinewidth": 0,
                          "ticks": ""
                        },
                        "type": "mesh3d"
                      }
                    ],
                    "scattercarpet": [
                      {
                        "marker": {
                          "colorbar": {
                            "outlinewidth": 0,
                            "ticks": ""
                          }
                        },
                        "type": "scattercarpet"
                      }
                    ],
                    "pie": [
                      {
                        "automargin": true,
                        "type": "pie"
                      }
                    ],
                    "surface": [
                      {
                        "colorbar": {
                          "outlinewidth": 0,
                          "ticks": ""
                        },
                        "type": "surface",
                        "colorscale": [
                          [
                            0,
                            "#0d0887"
                          ],
                          [
                            0.1111111111111111,
                            "#46039f"
                          ],
                          [
                            0.2222222222222222,
                            "#7201a8"
                          ],
                          [
                            0.3333333333333333,
                            "#9c179e"
                          ],
                          [
                            0.4444444444444444,
                            "#bd3786"
                          ],
                          [
                            0.5555555555555556,
                            "#d8576b"
                          ],
                          [
                            0.6666666666666666,
                            "#ed7953"
                          ],
                          [
                            0.7777777777777778,
                            "#fb9f3a"
                          ],
                          [
                            0.8888888888888888,
                            "#fdca26"
                          ],
                          [
                            1,
                            "#f0f921"
                          ]
                        ]
                      }
                    ],
                    "table": [
                      {
                        "header": {
                          "line": {
                            "color": "white"
                          },
                          "fill": {
                            "color": "#C8D4E3"
                          }
                        },
                        "cells": {
                          "line": {
                            "color": "white"
                          },
                          "fill": {
                            "color": "#EBF0F8"
                          }
                        },
                        "type": "table"
                      }
                    ],
                    "scatterpolargl": [
                      {
                        "marker": {
                          "colorbar": {
                            "outlinewidth": 0,
                            "ticks": ""
                          }
                        },
                        "type": "scatterpolargl"
                      }
                    ],
                    "contour": [
                      {
                        "colorbar": {
                          "outlinewidth": 0,
                          "ticks": ""
                        },
                        "type": "contour",
                        "colorscale": [
                          [
                            0,
                            "#0d0887"
                          ],
                          [
                            0.1111111111111111,
                            "#46039f"
                          ],
                          [
                            0.2222222222222222,
                            "#7201a8"
                          ],
                          [
                            0.3333333333333333,
                            "#9c179e"
                          ],
                          [
                            0.4444444444444444,
                            "#bd3786"
                          ],
                          [
                            0.5555555555555556,
                            "#d8576b"
                          ],
                          [
                            0.6666666666666666,
                            "#ed7953"
                          ],
                          [
                            0.7777777777777778,
                            "#fb9f3a"
                          ],
                          [
                            0.8888888888888888,
                            "#fdca26"
                          ],
                          [
                            1,
                            "#f0f921"
                          ]
                        ]
                      }
                    ],
                    "carpet": [
                      {
                        "type": "carpet",
                        "baxis": {
                          "minorgridcolor": "white",
                          "gridcolor": "white",
                          "linecolor": "white",
                          "endlinecolor": "#2a3f5f",
                          "startlinecolor": "#2a3f5f"
                        },
                        "aaxis": {
                          "minorgridcolor": "white",
                          "gridcolor": "white",
                          "linecolor": "white",
                          "endlinecolor": "#2a3f5f",
                          "startlinecolor": "#2a3f5f"
                        }
                      }
                    ],
                    "contourcarpet": [
                      {
                        "colorbar": {
                          "outlinewidth": 0,
                          "ticks": ""
                        },
                        "type": "contourcarpet"
                      }
                    ],
                    "heatmap": [
                      {
                        "colorbar": {
                          "outlinewidth": 0,
                          "ticks": ""
                        },
                        "type": "heatmap",
                        "colorscale": [
                          [
                            0,
                            "#0d0887"
                          ],
                          [
                            0.1111111111111111,
                            "#46039f"
                          ],
                          [
                            0.2222222222222222,
                            "#7201a8"
                          ],
                          [
                            0.3333333333333333,
                            "#9c179e"
                          ],
                          [
                            0.4444444444444444,
                            "#bd3786"
                          ],
                          [
                            0.5555555555555556,
                            "#d8576b"
                          ],
                          [
                            0.6666666666666666,
                            "#ed7953"
                          ],
                          [
                            0.7777777777777778,
                            "#fb9f3a"
                          ],
                          [
                            0.8888888888888888,
                            "#fdca26"
                          ],
                          [
                            1,
                            "#f0f921"
                          ]
                        ]
                      }
                    ],
                    "scattermapbox": [
                      {
                        "marker": {
                          "colorbar": {
                            "outlinewidth": 0,
                            "ticks": ""
                          }
                        },
                        "type": "scattermapbox"
                      }
                    ],
                    "scatter3d": [
                      {
                        "marker": {
                          "colorbar": {
                            "outlinewidth": 0,
                            "ticks": ""
                          }
                        },
                        "line": {
                          "colorbar": {
                            "outlinewidth": 0,
                            "ticks": ""
                          }
                        },
                        "type": "scatter3d"
                      }
                    ],
                    "scattergl": [
                      {
                        "marker": {
                          "colorbar": {
                            "outlinewidth": 0,
                            "ticks": ""
                          }
                        },
                        "type": "scattergl"
                      }
                    ],
                    "scatterternary": [
                      {
                        "marker": {
                          "colorbar": {
                            "outlinewidth": 0,
                            "ticks": ""
                          }
                        },
                        "type": "scatterternary"
                      }
                    ],
                    "histogram": [
                      {
                        "marker": {
                          "colorbar": {
                            "outlinewidth": 0,
                            "ticks": ""
                          }
                        },
                        "type": "histogram"
                      }
                    ],
                    "heatmapgl": [
                      {
                        "colorbar": {
                          "outlinewidth": 0,
                          "ticks": ""
                        },
                        "type": "heatmapgl",
                        "colorscale": [
                          [
                            0,
                            "#0d0887"
                          ],
                          [
                            0.1111111111111111,
                            "#46039f"
                          ],
                          [
                            0.2222222222222222,
                            "#7201a8"
                          ],
                          [
                            0.3333333333333333,
                            "#9c179e"
                          ],
                          [
                            0.4444444444444444,
                            "#bd3786"
                          ],
                          [
                            0.5555555555555556,
                            "#d8576b"
                          ],
                          [
                            0.6666666666666666,
                            "#ed7953"
                          ],
                          [
                            0.7777777777777778,
                            "#fb9f3a"
                          ],
                          [
                            0.8888888888888888,
                            "#fdca26"
                          ],
                          [
                            1,
                            "#f0f921"
                          ]
                        ]
                      }
                    ],
                    "scatterpolar": [
                      {
                        "marker": {
                          "colorbar": {
                            "outlinewidth": 0,
                            "ticks": ""
                          }
                        },
                        "type": "scatterpolar"
                      }
                    ],
                    "histogram2d": [
                      {
                        "colorbar": {
                          "outlinewidth": 0,
                          "ticks": ""
                        },
                        "type": "histogram2d",
                        "colorscale": [
                          [
                            0,
                            "#0d0887"
                          ],
                          [
                            0.1111111111111111,
                            "#46039f"
                          ],
                          [
                            0.2222222222222222,
                            "#7201a8"
                          ],
                          [
                            0.3333333333333333,
                            "#9c179e"
                          ],
                          [
                            0.4444444444444444,
                            "#bd3786"
                          ],
                          [
                            0.5555555555555556,
                            "#d8576b"
                          ],
                          [
                            0.6666666666666666,
                            "#ed7953"
                          ],
                          [
                            0.7777777777777778,
                            "#fb9f3a"
                          ],
                          [
                            0.8888888888888888,
                            "#fdca26"
                          ],
                          [
                            1,
                            "#f0f921"
                          ]
                        ]
                      }
                    ],
                    "scattergeo": [
                      {
                        "marker": {
                          "colorbar": {
                            "outlinewidth": 0,
                            "ticks": ""
                          }
                        },
                        "type": "scattergeo"
                      }
                    ],
                    "bar": [
                      {
                        "marker": {
                          "line": {
                            "color": "#E5ECF6",
                            "width": 0.5
                          }
                        },
                        "type": "bar",
                        "error_x": {
                          "color": "#2a3f5f"
                        },
                        "error_y": {
                          "color": "#2a3f5f"
                        }
                      }
                    ],
                    "choropleth": [
                      {
                        "colorbar": {
                          "outlinewidth": 0,
                          "ticks": ""
                        },
                        "type": "choropleth"
                      }
                    ],
                    "parcoords": [
                      {
                        "line": {
                          "colorbar": {
                            "outlinewidth": 0,
                            "ticks": ""
                          }
                        },
                        "type": "parcoords"
                      }
                    ],
                    "barpolar": [
                      {
                        "marker": {
                          "line": {
                            "color": "#E5ECF6",
                            "width": 0.5
                          }
                        },
                        "type": "barpolar"
                      }
                    ],
                    "histogram2dcontour": [
                      {
                        "colorbar": {
                          "outlinewidth": 0,
                          "ticks": ""
                        },
                        "type": "histogram2dcontour",
                        "colorscale": [
                          [
                            0,
                            "#0d0887"
                          ],
                          [
                            0.1111111111111111,
                            "#46039f"
                          ],
                          [
                            0.2222222222222222,
                            "#7201a8"
                          ],
                          [
                            0.3333333333333333,
                            "#9c179e"
                          ],
                          [
                            0.4444444444444444,
                            "#bd3786"
                          ],
                          [
                            0.5555555555555556,
                            "#d8576b"
                          ],
                          [
                            0.6666666666666666,
                            "#ed7953"
                          ],
                          [
                            0.7777777777777778,
                            "#fb9f3a"
                          ],
                          [
                            0.8888888888888888,
                            "#fdca26"
                          ],
                          [
                            1,
                            "#f0f921"
                          ]
                        ]
                      }
                    ],
                    "scatter": [
                      {
                        "marker": {
                          "colorbar": {
                            "outlinewidth": 0,
                            "ticks": ""
                          }
                        },
                        "type": "scatter"
                      }
                    ]
                  }
                },
                "title": {
                  "y": 0.9,
                  "text": "Bank Nifty Index From March 2020 to May 2020",
                  "yanchor": "top",
                  "xanchor": "center",
                  "x": 0.5
                }
              }
            }
          },
          "metadata": {
            "tags": []
          }
        }
      ]
    },
    {
      "cell_type": "code",
      "metadata": {
        "colab": {
          "base_uri": "https://localhost:8080/",
          "height": 767
        },
        "id": "dZnb35p7t65J",
        "outputId": "5b73fcd8-477e-44b1-deb9-8b9929ed3781"
      },
      "source": [
        "decomposition_data = df['2016':'2021']\n",
        "decomp_results = seasonal_decompose(decomposition_data['Close'], freq=7)\n",
        "plt.rcParams[\"figure.figsize\"] = (20,15)\n",
        "figure = decomp_results.plot()\n",
        "\n",
        "plt.show()"
      ],
      "execution_count": null,
      "outputs": [
        {
          "output_type": "display_data",
          "data": {
            "image/png": "[encoded data removed]",
            "text/plain": [
              "<Figure size 1440x1080 with 4 Axes>"
            ]
          },
          "metadata": {
            "tags": [],
            "needs_background": "light"
          }
        }
      ]
    },
    {
      "cell_type": "markdown",
      "metadata": {
        "id": "QmHIgAZYB3ns"
      },
      "source": [
        "\n",
        "* There is an upward trend at first after there is downward trend.\n",
        "* Also, we can see there is uniform seasonal change\n",
        "* Non-uniform noise that represent outliers\n",
        "\n",
        "\n",
        "\n",
        "\n",
        "\n",
        "\n",
        "\n",
        "\n"
      ]
    },
    {
      "cell_type": "code",
      "metadata": {
        "colab": {
          "base_uri": "https://localhost:8080/",
          "height": 607
        },
        "id": "6_Fxv2MCuG2c",
        "outputId": "fce9c3b2-6d67-4935-d6c9-49a452cc1f4e"
      },
      "source": [
        "plt.figure(figsize=(10,10))\n",
        "\n",
        "# ACF of BAnk Nifty Index close price\n",
        "ax1 = plt.subplot(211)\n",
        "plot_acf(df[\"Close\"], lags=\"20\",title=\"Bank nifty Index autocorrelation\",ax=ax1)\n",
        "\n",
        "# PACF of Bank Nifty Index close price\n",
        "ax2 = plt.subplot(212)\n",
        "plot_pacf(df[\"Close\"], lags=\"20\",title=\"Bank nifty Index partial autocorrelation function\",ax=ax2)\n",
        "\n",
        "plt.show()"
      ],
      "execution_count": null,
      "outputs": [
        {
          "output_type": "display_data",
          "data": {
            "image/png": "[encoded data removed]",
            "text/plain": [
              "<Figure size 720x720 with 2 Axes>"
            ]
          },
          "metadata": {
            "tags": [],
            "needs_background": "light"
          }
        }
      ]
    },
    {
      "cell_type": "code",
      "metadata": {
        "id": "WT2o_ZghuKkA"
      },
      "source": [
        "train_data = df[\"Close\"][\"2016\":\"4-15-2020\"]\n",
        "test_data =  df[\"Close\"][\"4-15-2020\":]"
      ],
      "execution_count": null,
      "outputs": []
    },
    {
      "cell_type": "code",
      "metadata": {
        "colab": {
          "base_uri": "https://localhost:8080/"
        },
        "id": "UUpEoilLukdv",
        "outputId": "59ae4cc4-ad74-4fb2-ba92-8d4a433ac448"
      },
      "source": [
        "order_aic_bic =[] \n",
        "# Loop over AR order \n",
        "for p in range(6): \n",
        "    # Loop over MA order \n",
        "    for q in range(3): \n",
        "        # Fit model \n",
        "        for d in range(2):\n",
        "            model1 = SARIMAX(train_data, order=(p,d,q)) \n",
        "            results = model1.fit() \n",
        "            # Add order and scores to list \n",
        "            order_aic_bic.append((p,d, q, results.aic, results.bic))"
      ],
      "execution_count": null,
      "outputs": [
        {
          "output_type": "stream",
          "text": [
            "/usr/local/lib/python3.7/dist-packages/statsmodels/tsa/base/tsa_model.py:219: ValueWarning:\n",
            "\n",
            "A date index has been provided, but it has no associated frequency information and so will be ignored when e.g. forecasting.\n",
            "\n",
            "/usr/local/lib/python3.7/dist-packages/statsmodels/tsa/base/tsa_model.py:219: ValueWarning:\n",
            "\n",
            "A date index has been provided, but it has no associated frequency information and so will be ignored when e.g. forecasting.\n",
            "\n",
            "/usr/local/lib/python3.7/dist-packages/statsmodels/tsa/base/tsa_model.py:219: ValueWarning:\n",
            "\n",
            "A date index has been provided, but it has no associated frequency information and so will be ignored when e.g. forecasting.\n",
            "\n",
            "/usr/local/lib/python3.7/dist-packages/statsmodels/tsa/base/tsa_model.py:219: ValueWarning:\n",
            "\n",
            "A date index has been provided, but it has no associated frequency information and so will be ignored when e.g. forecasting.\n",
            "\n",
            "/usr/local/lib/python3.7/dist-packages/statsmodels/tsa/base/tsa_model.py:219: ValueWarning:\n",
            "\n",
            "A date index has been provided, but it has no associated frequency information and so will be ignored when e.g. forecasting.\n",
            "\n",
            "/usr/local/lib/python3.7/dist-packages/statsmodels/tsa/base/tsa_model.py:219: ValueWarning:\n",
            "\n",
            "A date index has been provided, but it has no associated frequency information and so will be ignored when e.g. forecasting.\n",
            "\n",
            "/usr/local/lib/python3.7/dist-packages/statsmodels/tsa/base/tsa_model.py:219: ValueWarning:\n",
            "\n",
            "A date index has been provided, but it has no associated frequency information and so will be ignored when e.g. forecasting.\n",
            "\n",
            "/usr/local/lib/python3.7/dist-packages/statsmodels/tsa/base/tsa_model.py:219: ValueWarning:\n",
            "\n",
            "A date index has been provided, but it has no associated frequency information and so will be ignored when e.g. forecasting.\n",
            "\n",
            "/usr/local/lib/python3.7/dist-packages/statsmodels/tsa/base/tsa_model.py:219: ValueWarning:\n",
            "\n",
            "A date index has been provided, but it has no associated frequency information and so will be ignored when e.g. forecasting.\n",
            "\n",
            "/usr/local/lib/python3.7/dist-packages/statsmodels/tsa/base/tsa_model.py:219: ValueWarning:\n",
            "\n",
            "A date index has been provided, but it has no associated frequency information and so will be ignored when e.g. forecasting.\n",
            "\n",
            "/usr/local/lib/python3.7/dist-packages/statsmodels/tsa/base/tsa_model.py:219: ValueWarning:\n",
            "\n",
            "A date index has been provided, but it has no associated frequency information and so will be ignored when e.g. forecasting.\n",
            "\n",
            "/usr/local/lib/python3.7/dist-packages/statsmodels/tsa/base/tsa_model.py:219: ValueWarning:\n",
            "\n",
            "A date index has been provided, but it has no associated frequency information and so will be ignored when e.g. forecasting.\n",
            "\n",
            "/usr/local/lib/python3.7/dist-packages/statsmodels/tsa/base/tsa_model.py:219: ValueWarning:\n",
            "\n",
            "A date index has been provided, but it has no associated frequency information and so will be ignored when e.g. forecasting.\n",
            "\n",
            "/usr/local/lib/python3.7/dist-packages/statsmodels/tsa/base/tsa_model.py:219: ValueWarning:\n",
            "\n",
            "A date index has been provided, but it has no associated frequency information and so will be ignored when e.g. forecasting.\n",
            "\n",
            "/usr/local/lib/python3.7/dist-packages/statsmodels/tsa/base/tsa_model.py:219: ValueWarning:\n",
            "\n",
            "A date index has been provided, but it has no associated frequency information and so will be ignored when e.g. forecasting.\n",
            "\n",
            "/usr/local/lib/python3.7/dist-packages/statsmodels/tsa/base/tsa_model.py:219: ValueWarning:\n",
            "\n",
            "A date index has been provided, but it has no associated frequency information and so will be ignored when e.g. forecasting.\n",
            "\n",
            "/usr/local/lib/python3.7/dist-packages/statsmodels/tsa/base/tsa_model.py:219: ValueWarning:\n",
            "\n",
            "A date index has been provided, but it has no associated frequency information and so will be ignored when e.g. forecasting.\n",
            "\n",
            "/usr/local/lib/python3.7/dist-packages/statsmodels/tsa/base/tsa_model.py:219: ValueWarning:\n",
            "\n",
            "A date index has been provided, but it has no associated frequency information and so will be ignored when e.g. forecasting.\n",
            "\n",
            "/usr/local/lib/python3.7/dist-packages/statsmodels/tsa/base/tsa_model.py:219: ValueWarning:\n",
            "\n",
            "A date index has been provided, but it has no associated frequency information and so will be ignored when e.g. forecasting.\n",
            "\n",
            "/usr/local/lib/python3.7/dist-packages/statsmodels/tsa/base/tsa_model.py:219: ValueWarning:\n",
            "\n",
            "A date index has been provided, but it has no associated frequency information and so will be ignored when e.g. forecasting.\n",
            "\n",
            "/usr/local/lib/python3.7/dist-packages/statsmodels/tsa/base/tsa_model.py:219: ValueWarning:\n",
            "\n",
            "A date index has been provided, but it has no associated frequency information and so will be ignored when e.g. forecasting.\n",
            "\n",
            "/usr/local/lib/python3.7/dist-packages/statsmodels/tsa/base/tsa_model.py:219: ValueWarning:\n",
            "\n",
            "A date index has been provided, but it has no associated frequency information and so will be ignored when e.g. forecasting.\n",
            "\n",
            "/usr/local/lib/python3.7/dist-packages/statsmodels/tsa/base/tsa_model.py:219: ValueWarning:\n",
            "\n",
            "A date index has been provided, but it has no associated frequency information and so will be ignored when e.g. forecasting.\n",
            "\n",
            "/usr/local/lib/python3.7/dist-packages/statsmodels/tsa/base/tsa_model.py:219: ValueWarning:\n",
            "\n",
            "A date index has been provided, but it has no associated frequency information and so will be ignored when e.g. forecasting.\n",
            "\n",
            "/usr/local/lib/python3.7/dist-packages/statsmodels/tsa/base/tsa_model.py:219: ValueWarning:\n",
            "\n",
            "A date index has been provided, but it has no associated frequency information and so will be ignored when e.g. forecasting.\n",
            "\n",
            "/usr/local/lib/python3.7/dist-packages/statsmodels/tsa/base/tsa_model.py:219: ValueWarning:\n",
            "\n",
            "A date index has been provided, but it has no associated frequency information and so will be ignored when e.g. forecasting.\n",
            "\n",
            "/usr/local/lib/python3.7/dist-packages/statsmodels/tsa/base/tsa_model.py:219: ValueWarning:\n",
            "\n",
            "A date index has been provided, but it has no associated frequency information and so will be ignored when e.g. forecasting.\n",
            "\n",
            "/usr/local/lib/python3.7/dist-packages/statsmodels/tsa/base/tsa_model.py:219: ValueWarning:\n",
            "\n",
            "A date index has been provided, but it has no associated frequency information and so will be ignored when e.g. forecasting.\n",
            "\n",
            "/usr/local/lib/python3.7/dist-packages/statsmodels/tsa/base/tsa_model.py:219: ValueWarning:\n",
            "\n",
            "A date index has been provided, but it has no associated frequency information and so will be ignored when e.g. forecasting.\n",
            "\n",
            "/usr/local/lib/python3.7/dist-packages/statsmodels/base/model.py:512: ConvergenceWarning:\n",
            "\n",
            "Maximum Likelihood optimization failed to converge. Check mle_retvals\n",
            "\n",
            "/usr/local/lib/python3.7/dist-packages/statsmodels/tsa/base/tsa_model.py:219: ValueWarning:\n",
            "\n",
            "A date index has been provided, but it has no associated frequency information and so will be ignored when e.g. forecasting.\n",
            "\n",
            "/usr/local/lib/python3.7/dist-packages/statsmodels/tsa/base/tsa_model.py:219: ValueWarning:\n",
            "\n",
            "A date index has been provided, but it has no associated frequency information and so will be ignored when e.g. forecasting.\n",
            "\n",
            "/usr/local/lib/python3.7/dist-packages/statsmodels/tsa/base/tsa_model.py:219: ValueWarning:\n",
            "\n",
            "A date index has been provided, but it has no associated frequency information and so will be ignored when e.g. forecasting.\n",
            "\n",
            "/usr/local/lib/python3.7/dist-packages/statsmodels/tsa/base/tsa_model.py:219: ValueWarning:\n",
            "\n",
            "A date index has been provided, but it has no associated frequency information and so will be ignored when e.g. forecasting.\n",
            "\n",
            "/usr/local/lib/python3.7/dist-packages/statsmodels/tsa/base/tsa_model.py:219: ValueWarning:\n",
            "\n",
            "A date index has been provided, but it has no associated frequency information and so will be ignored when e.g. forecasting.\n",
            "\n",
            "/usr/local/lib/python3.7/dist-packages/statsmodels/tsa/base/tsa_model.py:219: ValueWarning:\n",
            "\n",
            "A date index has been provided, but it has no associated frequency information and so will be ignored when e.g. forecasting.\n",
            "\n",
            "/usr/local/lib/python3.7/dist-packages/statsmodels/base/model.py:512: ConvergenceWarning:\n",
            "\n",
            "Maximum Likelihood optimization failed to converge. Check mle_retvals\n",
            "\n",
            "/usr/local/lib/python3.7/dist-packages/statsmodels/tsa/base/tsa_model.py:219: ValueWarning:\n",
            "\n",
            "A date index has been provided, but it has no associated frequency information and so will be ignored when e.g. forecasting.\n",
            "\n"
          ],
          "name": "stderr"
        }
      ]
    },
    {
      "cell_type": "code",
      "metadata": {
        "colab": {
          "base_uri": "https://localhost:8080/",
          "height": 202
        },
        "id": "0E7shRaKuthx",
        "outputId": "723e4719-4e19-439f-c6a4-13b05f7edd68"
      },
      "source": [
        "order_df = pd.DataFrame(order_aic_bic, columns=['p','d','q', 'aic', 'bic'])\n",
        "#short value by aic and get value of p d q\n",
        "order_df.sort_values('aic')[:5]"
      ],
      "execution_count": null,
      "outputs": [
        {
          "output_type": "execute_result",
          "data": {
            "text/html": [
              "<div>\n",
              "<style scoped>\n",
              "    .dataframe tbody tr th:only-of-type {\n",
              "        vertical-align: middle;\n",
              "    }\n",
              "\n",
              "    .dataframe tbody tr th {\n",
              "        vertical-align: top;\n",
              "    }\n",
              "\n",
              "    .dataframe thead th {\n",
              "        text-align: right;\n",
              "    }\n",
              "</style>\n",
              "<table border=\"1\" class=\"dataframe\">\n",
              "  <thead>\n",
              "    <tr style=\"text-align: right;\">\n",
              "      <th></th>\n",
              "      <th>p</th>\n",
              "      <th>d</th>\n",
              "      <th>q</th>\n",
              "      <th>aic</th>\n",
              "      <th>bic</th>\n",
              "    </tr>\n",
              "  </thead>\n",
              "  <tbody>\n",
              "    <tr>\n",
              "      <th>28</th>\n",
              "      <td>4</td>\n",
              "      <td>0</td>\n",
              "      <td>2</td>\n",
              "      <td>15206.459247</td>\n",
              "      <td>15241.194951</td>\n",
              "    </tr>\n",
              "    <tr>\n",
              "      <th>34</th>\n",
              "      <td>5</td>\n",
              "      <td>0</td>\n",
              "      <td>2</td>\n",
              "      <td>15207.772116</td>\n",
              "      <td>15247.470064</td>\n",
              "    </tr>\n",
              "    <tr>\n",
              "      <th>33</th>\n",
              "      <td>5</td>\n",
              "      <td>1</td>\n",
              "      <td>1</td>\n",
              "      <td>15209.804857</td>\n",
              "      <td>15244.533929</td>\n",
              "    </tr>\n",
              "    <tr>\n",
              "      <th>35</th>\n",
              "      <td>5</td>\n",
              "      <td>1</td>\n",
              "      <td>2</td>\n",
              "      <td>15210.748590</td>\n",
              "      <td>15250.438959</td>\n",
              "    </tr>\n",
              "    <tr>\n",
              "      <th>31</th>\n",
              "      <td>5</td>\n",
              "      <td>1</td>\n",
              "      <td>0</td>\n",
              "      <td>15217.563759</td>\n",
              "      <td>15247.331535</td>\n",
              "    </tr>\n",
              "  </tbody>\n",
              "</table>\n",
              "</div>"
            ],
            "text/plain": [
              "    p  d  q           aic           bic\n",
              "28  4  0  2  15206.459247  15241.194951\n",
              "34  5  0  2  15207.772116  15247.470064\n",
              "33  5  1  1  15209.804857  15244.533929\n",
              "35  5  1  2  15210.748590  15250.438959\n",
              "31  5  1  0  15217.563759  15247.331535"
            ]
          },
          "metadata": {
            "tags": []
          },
          "execution_count": 19
        }
      ]
    },
    {
      "cell_type": "markdown",
      "metadata": {
        "id": "-FWgQque8Fx8"
      },
      "source": [
        "AIC(Akaike information criterion) And BIC (Bayesian information criterion)\n",
        "\n",
        "AIC\n",
        "Lower AIC indicate batter model\n",
        "AIC choose simple models with lower order\n",
        "\n",
        "BIC\n",
        "Lower BIC indicate batter model\n",
        "BIC favoures simple model then AIC\n",
        "AIC is better at choosing predictive models\n",
        "BIC is better at choosing good explanatory model"
      ]
    },
    {
      "cell_type": "code",
      "metadata": {
        "colab": {
          "base_uri": "https://localhost:8080/"
        },
        "id": "_o--AZCArSxs",
        "outputId": "762a5aa3-d633-49be-fd9f-cf8a686198b7"
      },
      "source": [
        "order_aic_bic =[] \n",
        "# Loop over AR order \n",
        "for p in range(6): \n",
        "    # Loop over MA order \n",
        "    for q in range(3): \n",
        "        # Fit model \n",
        "        for d in range(2):\n",
        "            model2 = SARIMAX(test_data, order=(p,d,q)) \n",
        "            results = model2.fit() \n",
        "            # Add order and scores to list \n",
        "            order_aic_bic.append((p,d, q, results.aic, results.bic))"
      ],
      "execution_count": null,
      "outputs": [
        {
          "output_type": "stream",
          "text": [
            "/usr/local/lib/python3.7/dist-packages/statsmodels/tsa/base/tsa_model.py:219: ValueWarning:\n",
            "\n",
            "A date index has been provided, but it has no associated frequency information and so will be ignored when e.g. forecasting.\n",
            "\n",
            "/usr/local/lib/python3.7/dist-packages/statsmodels/tsa/base/tsa_model.py:219: ValueWarning:\n",
            "\n",
            "A date index has been provided, but it has no associated frequency information and so will be ignored when e.g. forecasting.\n",
            "\n",
            "/usr/local/lib/python3.7/dist-packages/statsmodels/tsa/base/tsa_model.py:219: ValueWarning:\n",
            "\n",
            "A date index has been provided, but it has no associated frequency information and so will be ignored when e.g. forecasting.\n",
            "\n",
            "/usr/local/lib/python3.7/dist-packages/statsmodels/tsa/base/tsa_model.py:219: ValueWarning:\n",
            "\n",
            "A date index has been provided, but it has no associated frequency information and so will be ignored when e.g. forecasting.\n",
            "\n",
            "/usr/local/lib/python3.7/dist-packages/statsmodels/tsa/base/tsa_model.py:219: ValueWarning:\n",
            "\n",
            "A date index has been provided, but it has no associated frequency information and so will be ignored when e.g. forecasting.\n",
            "\n",
            "/usr/local/lib/python3.7/dist-packages/statsmodels/tsa/base/tsa_model.py:219: ValueWarning:\n",
            "\n",
            "A date index has been provided, but it has no associated frequency information and so will be ignored when e.g. forecasting.\n",
            "\n",
            "/usr/local/lib/python3.7/dist-packages/statsmodels/tsa/base/tsa_model.py:219: ValueWarning:\n",
            "\n",
            "A date index has been provided, but it has no associated frequency information and so will be ignored when e.g. forecasting.\n",
            "\n",
            "/usr/local/lib/python3.7/dist-packages/statsmodels/tsa/base/tsa_model.py:219: ValueWarning:\n",
            "\n",
            "A date index has been provided, but it has no associated frequency information and so will be ignored when e.g. forecasting.\n",
            "\n",
            "/usr/local/lib/python3.7/dist-packages/statsmodels/tsa/base/tsa_model.py:219: ValueWarning:\n",
            "\n",
            "A date index has been provided, but it has no associated frequency information and so will be ignored when e.g. forecasting.\n",
            "\n",
            "/usr/local/lib/python3.7/dist-packages/statsmodels/tsa/base/tsa_model.py:219: ValueWarning:\n",
            "\n",
            "A date index has been provided, but it has no associated frequency information and so will be ignored when e.g. forecasting.\n",
            "\n",
            "/usr/local/lib/python3.7/dist-packages/statsmodels/tsa/base/tsa_model.py:219: ValueWarning:\n",
            "\n",
            "A date index has been provided, but it has no associated frequency information and so will be ignored when e.g. forecasting.\n",
            "\n",
            "/usr/local/lib/python3.7/dist-packages/statsmodels/tsa/base/tsa_model.py:219: ValueWarning:\n",
            "\n",
            "A date index has been provided, but it has no associated frequency information and so will be ignored when e.g. forecasting.\n",
            "\n",
            "/usr/local/lib/python3.7/dist-packages/statsmodels/tsa/base/tsa_model.py:219: ValueWarning:\n",
            "\n",
            "A date index has been provided, but it has no associated frequency information and so will be ignored when e.g. forecasting.\n",
            "\n",
            "/usr/local/lib/python3.7/dist-packages/statsmodels/tsa/base/tsa_model.py:219: ValueWarning:\n",
            "\n",
            "A date index has been provided, but it has no associated frequency information and so will be ignored when e.g. forecasting.\n",
            "\n",
            "/usr/local/lib/python3.7/dist-packages/statsmodels/tsa/base/tsa_model.py:219: ValueWarning:\n",
            "\n",
            "A date index has been provided, but it has no associated frequency information and so will be ignored when e.g. forecasting.\n",
            "\n",
            "/usr/local/lib/python3.7/dist-packages/statsmodels/tsa/base/tsa_model.py:219: ValueWarning:\n",
            "\n",
            "A date index has been provided, but it has no associated frequency information and so will be ignored when e.g. forecasting.\n",
            "\n",
            "/usr/local/lib/python3.7/dist-packages/statsmodels/tsa/base/tsa_model.py:219: ValueWarning:\n",
            "\n",
            "A date index has been provided, but it has no associated frequency information and so will be ignored when e.g. forecasting.\n",
            "\n",
            "/usr/local/lib/python3.7/dist-packages/statsmodels/base/model.py:512: ConvergenceWarning:\n",
            "\n",
            "Maximum Likelihood optimization failed to converge. Check mle_retvals\n",
            "\n",
            "/usr/local/lib/python3.7/dist-packages/statsmodels/tsa/base/tsa_model.py:219: ValueWarning:\n",
            "\n",
            "A date index has been provided, but it has no associated frequency information and so will be ignored when e.g. forecasting.\n",
            "\n",
            "/usr/local/lib/python3.7/dist-packages/statsmodels/tsa/base/tsa_model.py:219: ValueWarning:\n",
            "\n",
            "A date index has been provided, but it has no associated frequency information and so will be ignored when e.g. forecasting.\n",
            "\n",
            "/usr/local/lib/python3.7/dist-packages/statsmodels/tsa/base/tsa_model.py:219: ValueWarning:\n",
            "\n",
            "A date index has been provided, but it has no associated frequency information and so will be ignored when e.g. forecasting.\n",
            "\n",
            "/usr/local/lib/python3.7/dist-packages/statsmodels/tsa/base/tsa_model.py:219: ValueWarning:\n",
            "\n",
            "A date index has been provided, but it has no associated frequency information and so will be ignored when e.g. forecasting.\n",
            "\n",
            "/usr/local/lib/python3.7/dist-packages/statsmodels/tsa/base/tsa_model.py:219: ValueWarning:\n",
            "\n",
            "A date index has been provided, but it has no associated frequency information and so will be ignored when e.g. forecasting.\n",
            "\n",
            "/usr/local/lib/python3.7/dist-packages/statsmodels/tsa/base/tsa_model.py:219: ValueWarning:\n",
            "\n",
            "A date index has been provided, but it has no associated frequency information and so will be ignored when e.g. forecasting.\n",
            "\n",
            "/usr/local/lib/python3.7/dist-packages/statsmodels/base/model.py:512: ConvergenceWarning:\n",
            "\n",
            "Maximum Likelihood optimization failed to converge. Check mle_retvals\n",
            "\n",
            "/usr/local/lib/python3.7/dist-packages/statsmodels/tsa/base/tsa_model.py:219: ValueWarning:\n",
            "\n",
            "A date index has been provided, but it has no associated frequency information and so will be ignored when e.g. forecasting.\n",
            "\n",
            "/usr/local/lib/python3.7/dist-packages/statsmodels/base/model.py:512: ConvergenceWarning:\n",
            "\n",
            "Maximum Likelihood optimization failed to converge. Check mle_retvals\n",
            "\n",
            "/usr/local/lib/python3.7/dist-packages/statsmodels/tsa/base/tsa_model.py:219: ValueWarning:\n",
            "\n",
            "A date index has been provided, but it has no associated frequency information and so will be ignored when e.g. forecasting.\n",
            "\n",
            "/usr/local/lib/python3.7/dist-packages/statsmodels/base/model.py:512: ConvergenceWarning:\n",
            "\n",
            "Maximum Likelihood optimization failed to converge. Check mle_retvals\n",
            "\n",
            "/usr/local/lib/python3.7/dist-packages/statsmodels/tsa/base/tsa_model.py:219: ValueWarning:\n",
            "\n",
            "A date index has been provided, but it has no associated frequency information and so will be ignored when e.g. forecasting.\n",
            "\n",
            "/usr/local/lib/python3.7/dist-packages/statsmodels/tsa/base/tsa_model.py:219: ValueWarning:\n",
            "\n",
            "A date index has been provided, but it has no associated frequency information and so will be ignored when e.g. forecasting.\n",
            "\n",
            "/usr/local/lib/python3.7/dist-packages/statsmodels/base/model.py:512: ConvergenceWarning:\n",
            "\n",
            "Maximum Likelihood optimization failed to converge. Check mle_retvals\n",
            "\n",
            "/usr/local/lib/python3.7/dist-packages/statsmodels/tsa/base/tsa_model.py:219: ValueWarning:\n",
            "\n",
            "A date index has been provided, but it has no associated frequency information and so will be ignored when e.g. forecasting.\n",
            "\n",
            "/usr/local/lib/python3.7/dist-packages/statsmodels/tsa/base/tsa_model.py:219: ValueWarning:\n",
            "\n",
            "A date index has been provided, but it has no associated frequency information and so will be ignored when e.g. forecasting.\n",
            "\n",
            "/usr/local/lib/python3.7/dist-packages/statsmodels/base/model.py:512: ConvergenceWarning:\n",
            "\n",
            "Maximum Likelihood optimization failed to converge. Check mle_retvals\n",
            "\n",
            "/usr/local/lib/python3.7/dist-packages/statsmodels/tsa/base/tsa_model.py:219: ValueWarning:\n",
            "\n",
            "A date index has been provided, but it has no associated frequency information and so will be ignored when e.g. forecasting.\n",
            "\n",
            "/usr/local/lib/python3.7/dist-packages/statsmodels/tsa/base/tsa_model.py:219: ValueWarning:\n",
            "\n",
            "A date index has been provided, but it has no associated frequency information and so will be ignored when e.g. forecasting.\n",
            "\n",
            "/usr/local/lib/python3.7/dist-packages/statsmodels/tsa/base/tsa_model.py:219: ValueWarning:\n",
            "\n",
            "A date index has been provided, but it has no associated frequency information and so will be ignored when e.g. forecasting.\n",
            "\n",
            "/usr/local/lib/python3.7/dist-packages/statsmodels/tsa/base/tsa_model.py:219: ValueWarning:\n",
            "\n",
            "A date index has been provided, but it has no associated frequency information and so will be ignored when e.g. forecasting.\n",
            "\n",
            "/usr/local/lib/python3.7/dist-packages/statsmodels/base/model.py:512: ConvergenceWarning:\n",
            "\n",
            "Maximum Likelihood optimization failed to converge. Check mle_retvals\n",
            "\n",
            "/usr/local/lib/python3.7/dist-packages/statsmodels/tsa/base/tsa_model.py:219: ValueWarning:\n",
            "\n",
            "A date index has been provided, but it has no associated frequency information and so will be ignored when e.g. forecasting.\n",
            "\n",
            "/usr/local/lib/python3.7/dist-packages/statsmodels/tsa/base/tsa_model.py:219: ValueWarning:\n",
            "\n",
            "A date index has been provided, but it has no associated frequency information and so will be ignored when e.g. forecasting.\n",
            "\n",
            "/usr/local/lib/python3.7/dist-packages/statsmodels/base/model.py:512: ConvergenceWarning:\n",
            "\n",
            "Maximum Likelihood optimization failed to converge. Check mle_retvals\n",
            "\n",
            "/usr/local/lib/python3.7/dist-packages/statsmodels/tsa/base/tsa_model.py:219: ValueWarning:\n",
            "\n",
            "A date index has been provided, but it has no associated frequency information and so will be ignored when e.g. forecasting.\n",
            "\n",
            "/usr/local/lib/python3.7/dist-packages/statsmodels/base/model.py:512: ConvergenceWarning:\n",
            "\n",
            "Maximum Likelihood optimization failed to converge. Check mle_retvals\n",
            "\n"
          ],
          "name": "stderr"
        }
      ]
    },
    {
      "cell_type": "code",
      "metadata": {
        "colab": {
          "base_uri": "https://localhost:8080/"
        },
        "id": "3KJ483zmuyYL",
        "outputId": "1dc628d9-8dd5-4db4-d40b-c57fdb762a81"
      },
      "source": [
        "model1 = SARIMAX(train_data, order=(2,1,2)) \n",
        "results1 = model1.fit()"
      ],
      "execution_count": null,
      "outputs": [
        {
          "output_type": "stream",
          "text": [
            "/usr/local/lib/python3.7/dist-packages/statsmodels/tsa/base/tsa_model.py:219: ValueWarning:\n",
            "\n",
            "A date index has been provided, but it has no associated frequency information and so will be ignored when e.g. forecasting.\n",
            "\n"
          ],
          "name": "stderr"
        }
      ]
    },
    {
      "cell_type": "code",
      "metadata": {
        "colab": {
          "base_uri": "https://localhost:8080/"
        },
        "id": "aCTqlCduu2ji",
        "outputId": "2ebf14c1-4cf4-42e0-d0dd-eee0484af68b"
      },
      "source": [
        "mae = np.mean(np.abs(results1.resid))\n",
        "print(mae)"
      ],
      "execution_count": null,
      "outputs": [
        {
          "output_type": "stream",
          "text": [
            "227.39852339298773\n"
          ],
          "name": "stdout"
        }
      ]
    },
    {
      "cell_type": "code",
      "metadata": {
        "colab": {
          "base_uri": "https://localhost:8080/"
        },
        "id": "5QZZ-d1qpoTM",
        "outputId": "392dc092-866c-481a-ee0b-95f654965a98"
      },
      "source": [
        "mode2 = SARIMAX(test_data, order=(2,1,2)) \n",
        "results2 = mode2.fit()"
      ],
      "execution_count": null,
      "outputs": [
        {
          "output_type": "stream",
          "text": [
            "/usr/local/lib/python3.7/dist-packages/statsmodels/tsa/base/tsa_model.py:219: ValueWarning:\n",
            "\n",
            "A date index has been provided, but it has no associated frequency information and so will be ignored when e.g. forecasting.\n",
            "\n"
          ],
          "name": "stderr"
        }
      ]
    },
    {
      "cell_type": "code",
      "metadata": {
        "colab": {
          "base_uri": "https://localhost:8080/"
        },
        "id": "aNkPe4PXpt7K",
        "outputId": "f7e3969c-e386-45a3-fc84-967bbb1c71ce"
      },
      "source": [
        "mae = np.mean(np.abs(results.resid))\n",
        "print(mae)"
      ],
      "execution_count": null,
      "outputs": [
        {
          "output_type": "stream",
          "text": [
            "445.02665520725753\n"
          ],
          "name": "stdout"
        }
      ]
    },
    {
      "cell_type": "code",
      "metadata": {
        "id": "FdCID-o67lq9"
      },
      "source": [
        "import numpy as np "
      ],
      "execution_count": null,
      "outputs": []
    },
    {
      "cell_type": "code",
      "metadata": {
        "colab": {
          "base_uri": "https://localhost:8080/",
          "height": 620
        },
        "id": "XiSCZQZvu58M",
        "outputId": "19f0f2f1-b525-4c7b-e738-a43dc0c5e32f"
      },
      "source": [
        "plt.rcParams[\"figure.figsize\"] = (15,10)\n",
        "results.plot_diagnostics() \n",
        "plt.show()"
      ],
      "execution_count": null,
      "outputs": [
        {
          "output_type": "display_data",
          "data": {
            "image/png": "[encoded data removed]",
            "text/plain": [
              "<Figure size 1080x720 with 4 Axes>"
            ]
          },
          "metadata": {
            "tags": [],
            "needs_background": "light"
          }
        }
      ]
    },
    {
      "cell_type": "code",
      "metadata": {
        "id": "eGL8dUfT-V2R"
      },
      "source": [
        "from sklearn.metrics import mean_squared_error\n",
        "from math import sqrt\n",
        "expected = [28896.618248175182]\n",
        "predictions = [28861.852]\n",
        "mse = mean_squared_error(expected, predictions)\n",
        "\n",
        "rmse = sqrt(mse)\n",
        "print('RMSE:%f' %rmse)"
      ],
      "execution_count": null,
      "outputs": []
    },
    {
      "cell_type": "code",
      "metadata": {
        "id": "S47fjCR7vi-w"
      },
      "source": [
        "predictedmean = prediction.predicted_mean\n",
        "p_bounds = prediction.conf_int()\n",
        "p_lower_limit = p_bounds.iloc[:,0]\n",
        "p_upper_limit = p_bounds.iloc[:,1]"
      ],
      "execution_count": null,
      "outputs": []
    },
    {
      "cell_type": "code",
      "metadata": {
        "id": "f7QeFAQzvmWE"
      },
      "source": [
        "forecast = results1.get_forecast(steps=len(test_data))"
      ],
      "execution_count": null,
      "outputs": []
    },
    {
      "cell_type": "code",
      "metadata": {
        "colab": {
          "base_uri": "https://localhost:8080/"
        },
        "id": "I0wIKSGD2ihs",
        "outputId": "93302d44-2270-49ea-810b-4e2ae718abb5"
      },
      "source": [
        "forecast"
      ],
      "execution_count": null,
      "outputs": [
        {
          "output_type": "execute_result",
          "data": {
            "text/plain": [
              "<statsmodels.tsa.statespace.mlemodel.PredictionResultsWrapper at 0x7f80afed4a90>"
            ]
          },
          "metadata": {
            "tags": []
          },
          "execution_count": 40
        }
      ]
    },
    {
      "cell_type": "code",
      "metadata": {
        "id": "3Bx3fPvlvoBn"
      },
      "source": [
        "mean_forecast = forecast.predicted_mean\n",
        "f_bounds = forecast.conf_int()\n",
        "f_lower_limit = f_bounds.iloc[:,0]\n",
        "f_upper_limit = f_bounds.iloc[:,1]"
      ],
      "execution_count": null,
      "outputs": []
    },
    {
      "cell_type": "code",
      "metadata": {
        "colab": {
          "base_uri": "https://localhost:8080/",
          "height": 496
        },
        "id": "V4R9M7iGvrIu",
        "outputId": "b5dd9eb9-8ce6-4797-a74f-323ff6fef7e2"
      },
      "source": [
        "plt.figure(figsize=(12,8))\n",
        "\n",
        "plt.plot(train_data.index, train_data, label='Original Closing Price(train)')\n",
        "plt.plot(test_data.index, test_data, label='Original Closing Price(test)',color='k')\n",
        "\n",
        "plt.plot(predictedmean.index, predictedmean, color='r', label='predicted')\n",
        "plt.plot(test_data.index, mean_forecast, color='m', label='Forecast')\n",
        "\n",
        "plt.fill_between(predictedmean.index,p_lower_limit,p_upper_limit, color='yellow')\n",
        "plt.fill_between(test_data.index,f_lower_limit,f_upper_limit, color='y')\n",
        "\n",
        "plt.xlabel('Date')\n",
        "plt.ylabel('Bank Nifty Index Closing Price')\n",
        "plt.legend()\n",
        "plt.show()"
      ],
      "execution_count": null,
      "outputs": [
        {
          "output_type": "display_data",
          "data": {
            "image/png": "[encoded data removed]",
            "text/plain": [
              "<Figure size 864x576 with 1 Axes>"
            ]
          },
          "metadata": {
            "tags": [],
            "needs_background": "light"
          }
        }
      ]
    },
    {
      "cell_type": "code",
      "metadata": {
        "id": "Q3LFnSnkOUV8"
      },
      "source": [
        ""
      ],
      "execution_count": null,
      "outputs": []
    },
    {
      "cell_type": "code",
      "metadata": {
        "id": "R9-hEDqHOUY6"
      },
      "source": [
        ""
      ],
      "execution_count": null,
      "outputs": []
    },
    {
      "cell_type": "code",
      "metadata": {
        "id": "VqAMAlABOUbs"
      },
      "source": [
        ""
      ],
      "execution_count": null,
      "outputs": []
    },
    {
      "cell_type": "code",
      "metadata": {
        "id": "ENe6zGJ4OUfE"
      },
      "source": [
        ""
      ],
      "execution_count": null,
      "outputs": []
    },
    {
      "cell_type": "code",
      "metadata": {
        "id": "HOL4QOaqOUiA"
      },
      "source": [
        ""
      ],
      "execution_count": null,
      "outputs": []
    },
    {
      "cell_type": "code",
      "metadata": {
        "id": "B5zYMehaOUkm"
      },
      "source": [
        ""
      ],
      "execution_count": null,
      "outputs": []
    }
  ]
}